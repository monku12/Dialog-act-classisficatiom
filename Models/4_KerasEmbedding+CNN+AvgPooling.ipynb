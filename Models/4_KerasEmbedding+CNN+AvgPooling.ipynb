{
 "cells": [
  {
   "cell_type": "code",
   "execution_count": 1,
   "metadata": {
    "id": "y_Y7YRTzm15b"
   },
   "outputs": [],
   "source": [
    "#Libraries\n",
    "import re\n",
    "import numpy as np\n",
    "import pandas as pd\n",
    "from matplotlib.pyplot import *\n",
    "import keras\n",
    "from keras.models import load_model\n",
    "from keras.layers import *\n",
    "from keras.preprocessing.text import Tokenizer \n",
    "from keras.preprocessing.sequence import pad_sequences\n",
    "from keras.layers import *\n",
    "from keras import backend as K\n",
    "from keras import layers\n",
    "from keras import Model"
   ]
  },
  {
   "cell_type": "code",
   "execution_count": 2,
   "metadata": {
    "id": "Pr7TqAw0nM1s"
   },
   "outputs": [],
   "source": [
    "def processed_data(data):\n",
    "    data=data.drop(columns=[\"Unnamed: 0\"])\n",
    "    data['Utterances'] = data['Utterances'].apply(lambda x: x.lower())\n",
    "    data['Utterances'] = data['Utterances'].apply(lambda x: re.sub('[^a-zA-z0-9\\s]','',x))\n",
    "\n",
    "    y = pd.get_dummies(data['Basic']).values\n",
    "\n",
    "    return data,y"
   ]
  },
  {
   "cell_type": "code",
   "execution_count": 3,
   "metadata": {
    "id": "fVU-94qDnTFG"
   },
   "outputs": [],
   "source": [
    "def DA_label_count(data):\n",
    "    label_count=data.groupby('Basic')['Basic'].agg('count')\n",
    "    label_count.to_numpy(dtype=int)\n",
    "    label_count = np.expand_dims(label_count, axis=0)\n",
    "    label_count.shape=(5,1)\n",
    "    labels=np.array(['B', 'D', 'F', 'Q', 'S'])\n",
    "    labels.shape=(5,1)\n",
    "    label_count=np.column_stack((labels,label_count))\n",
    "    df = pd.DataFrame(label_count, columns=['Label', 'Count'])\n",
    "    convert_dict = {\n",
    "                    'Label': str,\n",
    "                    'Count': int\n",
    "                   }  \n",
    "    df = df.astype(convert_dict)\n",
    "    return df"
   ]
  },
  {
   "cell_type": "code",
   "execution_count": 5,
   "metadata": {},
   "outputs": [],
   "source": [
    "path = \"D://repo//DAC//datasets//MRDA//\""
   ]
  },
  {
   "cell_type": "code",
   "execution_count": 6,
   "metadata": {
    "id": "hJwdfHLK3mBG"
   },
   "outputs": [],
   "source": [
    "full_data = pd.read_csv(path+\"full_set.csv\")\n",
    "MAX_PADDING = 100\n",
    "def x_value(data):\n",
    "    tokenizer = Tokenizer(num_words = 5000, split=\" \")\n",
    "    tokenizer.fit_on_texts(full_data['Utterances'].values)\n",
    "    x = tokenizer.texts_to_sequences(data['Utterances'].values)\n",
    "    x = pad_sequences(x, padding='post', maxlen=MAX_PADDING)\n",
    "    \n",
    "    return x"
   ]
  },
  {
   "cell_type": "code",
   "execution_count": 7,
   "metadata": {
    "id": "92JMPDKM3oUt"
   },
   "outputs": [],
   "source": [
    "train_data = pd.read_csv(path+'train.csv')\n",
    "train_data,y_train = processed_data(train_data)\n",
    "x_train = x_value(train_data)\n",
    "\n",
    "val_data = pd.read_csv(path+'val.csv')\n",
    "val_data,y_val = processed_data(val_data)\n",
    "x_val = x_value(val_data)\n",
    "\n",
    "test_data = pd.read_csv(path+'test.csv')\n",
    "test_data,y_test = processed_data(test_data)\n",
    "x_test = x_value(test_data)"
   ]
  },
  {
   "cell_type": "code",
   "execution_count": 8,
   "metadata": {
    "colab": {
     "base_uri": "https://localhost:8080/"
    },
    "id": "32rbksew3sdT",
    "outputId": "c19339bf-2aa6-41a1-cc34-a3bdc7167ba6"
   },
   "outputs": [
    {
     "name": "stdout",
     "output_type": "stream",
     "text": [
      "Model: \"model\"\n",
      "__________________________________________________________________________________________________\n",
      " Layer (type)                   Output Shape         Param #     Connected to                     \n",
      "==================================================================================================\n",
      " input_1 (InputLayer)           [(None, 100)]        0           []                               \n",
      "                                                                                                  \n",
      " embedding (Embedding)          (None, 100, 256)     19217152    ['input_1[0][0]']                \n",
      "                                                                                                  \n",
      " reshape (Reshape)              (None, 100, 256, 1)  0           ['embedding[0][0]']              \n",
      "                                                                                                  \n",
      " conv2d (Conv2D)                (None, 98, 1, 64)    49216       ['reshape[0][0]']                \n",
      "                                                                                                  \n",
      " conv2d_1 (Conv2D)              (None, 97, 1, 64)    65600       ['reshape[0][0]']                \n",
      "                                                                                                  \n",
      " conv2d_2 (Conv2D)              (None, 96, 1, 64)    81984       ['reshape[0][0]']                \n",
      "                                                                                                  \n",
      " batch_normalization (BatchNorm  (None, 98, 1, 64)   256         ['conv2d[0][0]']                 \n",
      " alization)                                                                                       \n",
      "                                                                                                  \n",
      " batch_normalization_1 (BatchNo  (None, 97, 1, 64)   256         ['conv2d_1[0][0]']               \n",
      " rmalization)                                                                                     \n",
      "                                                                                                  \n",
      " batch_normalization_2 (BatchNo  (None, 96, 1, 64)   256         ['conv2d_2[0][0]']               \n",
      " rmalization)                                                                                     \n",
      "                                                                                                  \n",
      " max_pooling2d (MaxPooling2D)   (None, 1, 1, 64)     0           ['batch_normalization[0][0]']    \n",
      "                                                                                                  \n",
      " max_pooling2d_1 (MaxPooling2D)  (None, 1, 1, 64)    0           ['batch_normalization_1[0][0]']  \n",
      "                                                                                                  \n",
      " max_pooling2d_2 (MaxPooling2D)  (None, 1, 1, 64)    0           ['batch_normalization_2[0][0]']  \n",
      "                                                                                                  \n",
      " concatenate (Concatenate)      (None, 1, 1, 192)    0           ['max_pooling2d[0][0]',          \n",
      "                                                                  'max_pooling2d_1[0][0]',        \n",
      "                                                                  'max_pooling2d_2[0][0]']        \n",
      "                                                                                                  \n",
      " reshape_1 (Reshape)            (None, 192)          0           ['concatenate[0][0]']            \n",
      "                                                                                                  \n",
      " dense (Dense)                  (None, 5)            965         ['reshape_1[0][0]']              \n",
      "                                                                                                  \n",
      "==================================================================================================\n",
      "Total params: 19,415,685\n",
      "Trainable params: 19,415,301\n",
      "Non-trainable params: 384\n",
      "__________________________________________________________________________________________________\n"
     ]
    }
   ],
   "source": [
    "filter_sizes = [3,4,5]\n",
    "num_filters = 64\n",
    "drop = 0.2\n",
    "VOCAB_SIZE = len(x_train) # 43,731\n",
    "MAX_LENGTH = 100\n",
    "\n",
    "EMBED_SIZE = 256 # arbitary\n",
    "UNIQUE_DA = 5\n",
    "\n",
    "# CNN model\n",
    "inputs = Input(shape=(MAX_LENGTH, ), dtype='int32')\n",
    "embedding = Embedding(input_dim=VOCAB_SIZE+1, \n",
    "                      output_dim=EMBED_SIZE, \n",
    "                      input_length=MAX_LENGTH)(inputs)\n",
    "reshape = Reshape((MAX_LENGTH, EMBED_SIZE, 1))(embedding)\n",
    "\n",
    "# 3 convolutions\n",
    "conv_0 = Conv2D(num_filters, \n",
    "                kernel_size=(filter_sizes[0], EMBED_SIZE), \n",
    "                strides=1, \n",
    "                padding='valid', \n",
    "                kernel_initializer='normal', \n",
    "                activation='relu')(reshape)\n",
    "\n",
    "bn_0 = BatchNormalization()(conv_0)\n",
    "\n",
    "conv_1 = Conv2D(num_filters, \n",
    "                kernel_size=(filter_sizes[1], EMBED_SIZE), \n",
    "                strides=1, \n",
    "                padding='valid', \n",
    "                kernel_initializer='normal', \n",
    "                activation='relu')(reshape)\n",
    "bn_1 = BatchNormalization()(conv_1)\n",
    "\n",
    "conv_2 = Conv2D(num_filters, \n",
    "                kernel_size=(filter_sizes[2], EMBED_SIZE), \n",
    "                strides=1, \n",
    "                padding='valid', \n",
    "                kernel_initializer='normal', \n",
    "                activation='relu')(reshape)\n",
    "bn_2 = BatchNormalization()(conv_2)\n",
    "\n",
    "# maxpool for 3 layers\n",
    "maxpool_0 = MaxPool2D(pool_size=(MAX_LENGTH - filter_sizes[0] + 1, 1), padding='valid')(bn_0)\n",
    "maxpool_1 = MaxPool2D(pool_size=(MAX_LENGTH - filter_sizes[1] + 1, 1), padding='valid')(bn_1)\n",
    "maxpool_2 = MaxPool2D(pool_size=(MAX_LENGTH - filter_sizes[2] + 1, 1), padding='valid')(bn_2)\n",
    "\n",
    "# concatenate tensors\n",
    "merged_1 = concatenate([maxpool_0, maxpool_1, maxpool_2])\n",
    "\n",
    "reshape_1 = Reshape((192,), input_shape=(1,1,192))(merged_1)\n",
    "\n",
    "output = Dense(5,'softmax')(reshape_1)\n",
    "\n",
    "model = Model(inputs=[inputs], outputs=[output])\n",
    "\n",
    "model.summary()"
   ]
  },
  {
   "cell_type": "code",
   "execution_count": 9,
   "metadata": {
    "id": "zW97ic6i35NS"
   },
   "outputs": [],
   "source": [
    "model.compile(loss='categorical_crossentropy',\n",
    "              optimizer='adam',\n",
    "              metrics=['accuracy'])\n",
    "\n",
    "early_stopping = keras.callbacks.EarlyStopping(monitor='val_accuracy', \n",
    "                                               mode='auto', \n",
    "                                               patience=3, \n",
    "                                               verbose=1)"
   ]
  },
  {
   "cell_type": "code",
   "execution_count": 10,
   "metadata": {
    "colab": {
     "base_uri": "https://localhost:8080/",
     "height": 398
    },
    "id": "mQg1WidX378P",
    "outputId": "4de82d7b-5a1b-4165-df46-9feafb465987"
   },
   "outputs": [
    {
     "name": "stdout",
     "output_type": "stream",
     "text": [
      "Epoch 1/100\n",
      "2346/2346 [==============================] - 205s 83ms/step - loss: 0.6330 - accuracy: 0.7716 - val_loss: 0.7209 - val_accuracy: 0.7579\n",
      "Epoch 2/100\n",
      "2346/2346 [==============================] - 194s 83ms/step - loss: 0.5186 - accuracy: 0.8039 - val_loss: 0.7302 - val_accuracy: 0.7389\n",
      "Epoch 3/100\n",
      "2346/2346 [==============================] - 196s 84ms/step - loss: 0.4659 - accuracy: 0.8237 - val_loss: 0.8210 - val_accuracy: 0.7284\n",
      "Epoch 4/100\n",
      "2346/2346 [==============================] - 195s 83ms/step - loss: 0.4267 - accuracy: 0.8373 - val_loss: 0.8311 - val_accuracy: 0.7289\n",
      "Epoch 4: early stopping\n"
     ]
    }
   ],
   "source": [
    "hist = model.fit(x_train, y_train, \n",
    "          epochs=100, \n",
    "          batch_size=32, \n",
    "          verbose=1,\n",
    "          callbacks=[early_stopping],\n",
    "          validation_data=(x_val, y_val))"
   ]
  },
  {
   "cell_type": "code",
   "execution_count": 11,
   "metadata": {
    "id": "ZHNSKvJK4AK9"
   },
   "outputs": [
    {
     "data": {
      "image/png": "[encoded data removed]",
      "text/plain": [
       "<Figure size 800x500 with 1 Axes>"
      ]
     },
     "metadata": {
      "needs_background": "light"
     },
     "output_type": "display_data"
    }
   ],
   "source": [
    "import matplotlib.pyplot as plt\n",
    "import matplotlib\n",
    "\n",
    "matplotlib.rcParams['figure.dpi'] = 100\n",
    "\n",
    "def plot(history):\n",
    "    pd.DataFrame(history.history).plot(figsize=(8, 5))\n",
    "    plt.grid(True)\n",
    "    plt.show()\n",
    "\n",
    "plot(hist)"
   ]
  },
  {
   "cell_type": "code",
   "execution_count": 12,
   "metadata": {
    "id": "727omCDt4O3l"
   },
   "outputs": [
    {
     "name": "stdout",
     "output_type": "stream",
     "text": [
      "Confusion Matrix\n",
      "\n",
      "[[1941    1   30    1  179]\n",
      " [  75 1448  226   69  521]\n",
      " [ 173   43 1135    0   57]\n",
      " [ 247  186   22  346  430]\n",
      " [ 862 1115   72  170 7352]]\n"
     ]
    }
   ],
   "source": [
    "y_pred = model.predict(x_test)\n",
    "y_pred = np.argmax(y_pred, axis=1)\n",
    "y_test = np.argmax(y_test, axis=1)\n",
    "\n",
    "from sklearn.metrics import confusion_matrix\n",
    "confusion = confusion_matrix(y_test, y_pred)\n",
    "print('Confusion Matrix\\n')\n",
    "print(confusion)"
   ]
  },
  {
   "cell_type": "code",
   "execution_count": 13,
   "metadata": {
    "id": "-m9pU5mx4gek"
   },
   "outputs": [
    {
     "name": "stdout",
     "output_type": "stream",
     "text": [
      "F1 score(macro) 0.6508046533884356\n",
      "F1 score(micro) 0.7318124663193821\n"
     ]
    }
   ],
   "source": [
    "from sklearn.metrics import f1_score\n",
    "\n",
    "print(\"F1 score(macro)\",f1_score(y_test, y_pred, average='macro'))\n",
    "print(\"F1 score(micro)\",f1_score(y_test, y_pred, average='micro'))"
   ]
  },
  {
   "cell_type": "code",
   "execution_count": null,
   "metadata": {
    "id": "yYyt9ZuX4iyw"
   },
   "outputs": [],
   "source": [
    "### Confusion matrix Heat map\n",
    "import matplotlib.pyplot as plt\n",
    "import seaborn as sns\n",
    "labels = (['BackChannel', 'Disruption', 'FloorGrabber', 'Question', 'Statement'])\n",
    "ax = sns.heatmap(confusion, annot=True, cmap='Blues', fmt='d')\n",
    "sns.set(rc = {'figure.figsize':(19,8)})\n",
    "ax.set_title('Confusion Matrix\\n\\n')\n",
    "ax.set_xlabel('\\nPredicted Values')\n",
    "ax.set_ylabel('Actual Values ')\n",
    "ax.xaxis.set_ticklabels(labels)\n",
    "ax.yaxis.set_ticklabels(labels)\n",
    "plt.xticks(rotation=90)\n",
    "plt.yticks(rotation=0)\n",
    "plt.show()"
   ]
  }
 ],
 "metadata": {
  "accelerator": "GPU",
  "colab": {
   "name": "MRDA_KerasEmbedding+CNN+AvgPooling.ipynb",
   "provenance": []
  },
  "kernelspec": {
   "display_name": "Python 3 (ipykernel)",
   "language": "python",
   "name": "python3"
  },
  "language_info": {
   "codemirror_mode": {
    "name": "ipython",
    "version": 3
   },
   "file_extension": ".py",
   "mimetype": "text/x-python",
   "name": "python",
   "nbconvert_exporter": "python",
   "pygments_lexer": "ipython3",
   "version": "3.9.9"
  }
 },
 "nbformat": 4,
 "nbformat_minor": 1
}
