{
 "cells": [
  {
   "cell_type": "markdown",
   "id": "b5c59ce4",
   "metadata": {},
   "source": [
    "# Dialog act classification using attention model"
   ]
  },
  {
   "cell_type": "code",
   "execution_count": 1,
   "id": "0fb84218",
   "metadata": {},
   "outputs": [],
   "source": [
    "#Libraries\n",
    "import re\n",
    "import numpy as np\n",
    "import pandas as pd\n",
    "from sklearn.model_selection import train_test_split\n",
    "import matplotlib.pyplot as plt\n",
    "from matplotlib.pyplot import hist\n",
    "import keras\n",
    "import tensorflow as tf\n",
    "from keras.models import Sequential, load_model\n",
    "from keras.layers import Dense, LSTM, Embedding, Dropout\n",
    "from keras.preprocessing.text import Tokenizer \n",
    "from keras.preprocessing.sequence import pad_sequences\n",
    "from tensorflow.python.client import device_lib\n",
    "from keras.layers import Dense, LSTM, Embedding, Dropout, Bidirectional, Permute, Flatten, Activation, RepeatVector, Permute, Multiply, Lambda\n",
    "from keras import backend as K\n",
    "import seaborn"
   ]
  },
  {
   "cell_type": "code",
   "execution_count": 2,
   "id": "255aa414",
   "metadata": {},
   "outputs": [
    {
     "name": "stdout",
     "output_type": "stream",
     "text": [
      "(75066, 6)\n"
     ]
    },
    {
     "data": {
      "text/html": [
       "<div>\n",
       "<style scoped>\n",
       "    .dataframe tbody tr th:only-of-type {\n",
       "        vertical-align: middle;\n",
       "    }\n",
       "\n",
       "    .dataframe tbody tr th {\n",
       "        vertical-align: top;\n",
       "    }\n",
       "\n",
       "    .dataframe thead th {\n",
       "        text-align: right;\n",
       "    }\n",
       "</style>\n",
       "<table border=\"1\" class=\"dataframe\">\n",
       "  <thead>\n",
       "    <tr style=\"text-align: right;\">\n",
       "      <th></th>\n",
       "      <th>Unnamed: 0</th>\n",
       "      <th>Speaker</th>\n",
       "      <th>Utterances</th>\n",
       "      <th>Basic</th>\n",
       "      <th>General</th>\n",
       "      <th>Full</th>\n",
       "    </tr>\n",
       "  </thead>\n",
       "  <tbody>\n",
       "    <tr>\n",
       "      <th>0</th>\n",
       "      <td>0</td>\n",
       "      <td>fe016</td>\n",
       "      <td>so um</td>\n",
       "      <td>F</td>\n",
       "      <td>fh</td>\n",
       "      <td>fh</td>\n",
       "    </tr>\n",
       "    <tr>\n",
       "      <th>1</th>\n",
       "      <td>1</td>\n",
       "      <td>fe016</td>\n",
       "      <td>i was going to try to get out of here like in ...</td>\n",
       "      <td>S</td>\n",
       "      <td>s</td>\n",
       "      <td>rt</td>\n",
       "    </tr>\n",
       "    <tr>\n",
       "      <th>2</th>\n",
       "      <td>2</td>\n",
       "      <td>fe016</td>\n",
       "      <td>um</td>\n",
       "      <td>F</td>\n",
       "      <td>fh</td>\n",
       "      <td>fh</td>\n",
       "    </tr>\n",
       "  </tbody>\n",
       "</table>\n",
       "</div>"
      ],
      "text/plain": [
       "   Unnamed: 0 Speaker                                         Utterances  \\\n",
       "0           0   fe016                                              so um   \n",
       "1           1   fe016  i was going to try to get out of here like in ...   \n",
       "2           2   fe016                                                 um   \n",
       "\n",
       "  Basic General Full  \n",
       "0     F      fh   fh  \n",
       "1     S       s   rt  \n",
       "2     F      fh   fh  "
      ]
     },
     "execution_count": 2,
     "metadata": {},
     "output_type": "execute_result"
    }
   ],
   "source": [
    "#Copy the path of your train.csv file\n",
    "data = pd.read_csv('C:\\\\Users\\\\user1\\\\Documents\\\\repo\\\\dialog act RNN\\\\MRDA\\\\train.csv')\n",
    "print(data.shape)\n",
    "data.head(3)"
   ]
  },
  {
   "cell_type": "code",
   "execution_count": 3,
   "id": "03144f0d",
   "metadata": {},
   "outputs": [
    {
     "data": {
      "text/html": [
       "<div>\n",
       "<style scoped>\n",
       "    .dataframe tbody tr th:only-of-type {\n",
       "        vertical-align: middle;\n",
       "    }\n",
       "\n",
       "    .dataframe tbody tr th {\n",
       "        vertical-align: top;\n",
       "    }\n",
       "\n",
       "    .dataframe thead th {\n",
       "        text-align: right;\n",
       "    }\n",
       "</style>\n",
       "<table border=\"1\" class=\"dataframe\">\n",
       "  <thead>\n",
       "    <tr style=\"text-align: right;\">\n",
       "      <th></th>\n",
       "      <th>Speaker</th>\n",
       "      <th>Utterances</th>\n",
       "      <th>Basic</th>\n",
       "      <th>General</th>\n",
       "      <th>Full</th>\n",
       "    </tr>\n",
       "  </thead>\n",
       "  <tbody>\n",
       "    <tr>\n",
       "      <th>0</th>\n",
       "      <td>fe016</td>\n",
       "      <td>so um</td>\n",
       "      <td>F</td>\n",
       "      <td>fh</td>\n",
       "      <td>fh</td>\n",
       "    </tr>\n",
       "    <tr>\n",
       "      <th>1</th>\n",
       "      <td>fe016</td>\n",
       "      <td>i was going to try to get out of here like in ...</td>\n",
       "      <td>S</td>\n",
       "      <td>s</td>\n",
       "      <td>rt</td>\n",
       "    </tr>\n",
       "    <tr>\n",
       "      <th>2</th>\n",
       "      <td>fe016</td>\n",
       "      <td>um</td>\n",
       "      <td>F</td>\n",
       "      <td>fh</td>\n",
       "      <td>fh</td>\n",
       "    </tr>\n",
       "  </tbody>\n",
       "</table>\n",
       "</div>"
      ],
      "text/plain": [
       "  Speaker                                         Utterances Basic General  \\\n",
       "0   fe016                                              so um     F      fh   \n",
       "1   fe016  i was going to try to get out of here like in ...     S       s   \n",
       "2   fe016                                                 um     F      fh   \n",
       "\n",
       "  Full  \n",
       "0   fh  \n",
       "1   rt  \n",
       "2   fh  "
      ]
     },
     "execution_count": 3,
     "metadata": {},
     "output_type": "execute_result"
    }
   ],
   "source": [
    "data=data.drop(columns=[\"Unnamed: 0\"])\n",
    "data.head(3)"
   ]
  },
  {
   "cell_type": "code",
   "execution_count": 4,
   "id": "30bc4723",
   "metadata": {},
   "outputs": [
    {
     "data": {
      "text/plain": [
       "0                                                so um\n",
       "1    i was going to try to get out of here like in ...\n",
       "2                                                   um\n",
       "Name: Utterances, dtype: object"
      ]
     },
     "execution_count": 4,
     "metadata": {},
     "output_type": "execute_result"
    }
   ],
   "source": [
    "data['Utterances'] = data['Utterances'].apply(lambda x: x.lower())\n",
    "data['Utterances'] = data['Utterances'].apply(lambda x: re.sub('[^a-zA-z0-9\\s]','',x))\n",
    "data['Utterances'].head(3)"
   ]
  },
  {
   "cell_type": "code",
   "execution_count": 5,
   "id": "ffe6c97b",
   "metadata": {},
   "outputs": [
    {
     "data": {
      "text/html": [
       "<div>\n",
       "<style scoped>\n",
       "    .dataframe tbody tr th:only-of-type {\n",
       "        vertical-align: middle;\n",
       "    }\n",
       "\n",
       "    .dataframe tbody tr th {\n",
       "        vertical-align: top;\n",
       "    }\n",
       "\n",
       "    .dataframe thead th {\n",
       "        text-align: right;\n",
       "    }\n",
       "</style>\n",
       "<table border=\"1\" class=\"dataframe\">\n",
       "  <thead>\n",
       "    <tr style=\"text-align: right;\">\n",
       "      <th></th>\n",
       "      <th>Label</th>\n",
       "      <th>Count</th>\n",
       "    </tr>\n",
       "  </thead>\n",
       "  <tbody>\n",
       "    <tr>\n",
       "      <th>0</th>\n",
       "      <td>B</td>\n",
       "      <td>10265</td>\n",
       "    </tr>\n",
       "    <tr>\n",
       "      <th>1</th>\n",
       "      <td>D</td>\n",
       "      <td>9739</td>\n",
       "    </tr>\n",
       "    <tr>\n",
       "      <th>2</th>\n",
       "      <td>F</td>\n",
       "      <td>5323</td>\n",
       "    </tr>\n",
       "    <tr>\n",
       "      <th>3</th>\n",
       "      <td>Q</td>\n",
       "      <td>4640</td>\n",
       "    </tr>\n",
       "    <tr>\n",
       "      <th>4</th>\n",
       "      <td>S</td>\n",
       "      <td>45099</td>\n",
       "    </tr>\n",
       "  </tbody>\n",
       "</table>\n",
       "</div>"
      ],
      "text/plain": [
       "  Label  Count\n",
       "0     B  10265\n",
       "1     D   9739\n",
       "2     F   5323\n",
       "3     Q   4640\n",
       "4     S  45099"
      ]
     },
     "execution_count": 5,
     "metadata": {},
     "output_type": "execute_result"
    }
   ],
   "source": [
    "#Creating table of number of each data label present in the dataset\n",
    "label_count=data.groupby('Basic')['Basic'].agg('count')\n",
    "label_count.to_numpy(dtype=int)\n",
    "label_count = np.expand_dims(label_count, axis=0)\n",
    "label_count.shape=(5,1)\n",
    "labels=np.array(['B', 'D', 'F', 'Q', 'S'])\n",
    "labels.shape=(5,1)\n",
    "label_count=np.column_stack((labels,label_count))\n",
    "\n",
    "df = pd.DataFrame(label_count, columns=['Label', 'Count'])\n",
    "\n",
    "convert_dict = {'Label': str,\n",
    "                'Count': int\n",
    "               }\n",
    "  \n",
    "df = df.astype(convert_dict)\n",
    "df"
   ]
  },
  {
   "cell_type": "code",
   "execution_count": 6,
   "id": "9e0b6e92",
   "metadata": {},
   "outputs": [
    {
     "data": {
      "text/plain": [
       "<AxesSubplot:xlabel='Label'>"
      ]
     },
     "execution_count": 6,
     "metadata": {},
     "output_type": "execute_result"
    },
    {
     "data": {
      "image/png": "[encoded data removed]",
      "text/plain": [
       "<Figure size 432x288 with 1 Axes>"
      ]
     },
     "metadata": {
      "needs_background": "light"
     },
     "output_type": "display_data"
    }
   ],
   "source": [
    "df.plot.bar(x = 'Label', y='Count')"
   ]
  },
  {
   "cell_type": "code",
   "execution_count": 7,
   "id": "d7edf029",
   "metadata": {},
   "outputs": [
    {
     "name": "stdout",
     "output_type": "stream",
     "text": [
      "(75066, 100)\n"
     ]
    },
    {
     "data": {
      "text/plain": [
       "array([[ 11,  16,   0,   0,   0,   0,   0,   0,   0,   0,   0,   0,   0,\n",
       "          0,   0,   0,   0,   0,   0,   0,   0,   0,   0,   0,   0,   0,\n",
       "          0,   0,   0,   0,   0,   0,   0,   0,   0,   0,   0,   0,   0,\n",
       "          0,   0,   0,   0,   0,   0,   0,   0,   0,   0,   0,   0,   0,\n",
       "          0,   0,   0,   0,   0,   0,   0,   0,   0,   0,   0,   0,   0,\n",
       "          0,   0,   0,   0,   0,   0,   0,   0,   0,   0,   0,   0,   0,\n",
       "          0,   0,   0,   0,   0,   0,   0,   0,   0,   0,   0,   0,   0,\n",
       "          0,   0,   0,   0,   0,   0,   0,   0,   0],\n",
       "       [  2,  36,  58,   4, 170,   4,  61,  83,  10,  96,  34,  15, 441,\n",
       "         87, 741,   0,   0,   0,   0,   0,   0,   0,   0,   0,   0,   0,\n",
       "          0,   0,   0,   0,   0,   0,   0,   0,   0,   0,   0,   0,   0,\n",
       "          0,   0,   0,   0,   0,   0,   0,   0,   0,   0,   0,   0,   0,\n",
       "          0,   0,   0,   0,   0,   0,   0,   0,   0,   0,   0,   0,   0,\n",
       "          0,   0,   0,   0,   0,   0,   0,   0,   0,   0,   0,   0,   0,\n",
       "          0,   0,   0,   0,   0,   0,   0,   0,   0,   0,   0,   0,   0,\n",
       "          0,   0,   0,   0,   0,   0,   0,   0,   0]])"
      ]
     },
     "execution_count": 7,
     "metadata": {},
     "output_type": "execute_result"
    }
   ],
   "source": [
    "#Tokenizing the words and padding the sentence\n",
    "MAX_PADDING = 100\n",
    "tokenizer = Tokenizer(num_words = 5000, split=\" \")\n",
    "tokenizer.fit_on_texts(data['Utterances'].values)\n",
    "x_train = tokenizer.texts_to_sequences(data['Utterances'].values)\n",
    "x_train = pad_sequences(x_train, padding='post', maxlen=MAX_PADDING)\n",
    "print(x_train.shape)\n",
    "x_train[:2]"
   ]
  },
  {
   "cell_type": "code",
   "execution_count": 8,
   "id": "d08fda6e",
   "metadata": {},
   "outputs": [
    {
     "name": "stdout",
     "output_type": "stream",
     "text": [
      "F [0 0 1 0 0]\n",
      "S [0 0 0 0 1]\n",
      "F [0 0 1 0 0]\n",
      "S [0 0 0 0 1]\n",
      "S [0 0 0 0 1]\n"
     ]
    },
    {
     "data": {
      "text/plain": [
       "[None, None, None, None, None]"
      ]
     },
     "execution_count": 8,
     "metadata": {},
     "output_type": "execute_result"
    }
   ],
   "source": [
    "y_train = pd.get_dummies(data['Basic']).values\n",
    "[print(data['Basic'][i],y_train[i]) for i in range (0,5)]"
   ]
  },
  {
   "cell_type": "code",
   "execution_count": 9,
   "id": "823e7425",
   "metadata": {},
   "outputs": [],
   "source": [
    "from keras import layers\n",
    "\n",
    "MAX_LENGTH_PER_SENTENCE=100\n",
    "units = 128\n",
    "encoder_input = keras.Input(shape=(MAX_LENGTH_PER_SENTENCE))\n",
    "x =layers.Embedding(input_dim=5000, \n",
    "                    output_dim=256, \n",
    "                    input_length=x_train.shape[1])(encoder_input)\n",
    "                              \n",
    "activations = Bidirectional(tf.keras.layers.LSTM(units, \n",
    "                                                 dropout=0.3, \n",
    "                                                 recurrent_dropout=0.2,\n",
    "                                                 return_sequences=True))(x)\n",
    "\n",
    "attention = Dense(1, activation='tanh')(activations)\n",
    "attention = Flatten()(attention)\n",
    "attention = Activation('softmax')(attention)\n",
    "attention = RepeatVector(units*2)(attention)\n",
    "attention = Permute((2, 1))(attention)\n",
    "\n",
    "sent_representation = Multiply()([activations, attention])\n",
    "sent_representation = Lambda(lambda xin: K.sum(xin, axis=-2), output_shape=(units*2,))(sent_representation)\n",
    "\n",
    "\n",
    "probabilities = Dense(5, activation='softmax')(sent_representation)\n",
    "\n",
    "\n",
    "encoder = keras.Model(inputs=[encoder_input], outputs=[probabilities],name='encoder')"
   ]
  },
  {
   "cell_type": "code",
   "execution_count": 10,
   "id": "ade7a355",
   "metadata": {},
   "outputs": [
    {
     "name": "stdout",
     "output_type": "stream",
     "text": [
      "Model: \"encoder\"\n",
      "__________________________________________________________________________________________________\n",
      "Layer (type)                    Output Shape         Param #     Connected to                     \n",
      "==================================================================================================\n",
      "input_1 (InputLayer)            [(None, 100)]        0                                            \n",
      "__________________________________________________________________________________________________\n",
      "embedding (Embedding)           (None, 100, 256)     1280000     input_1[0][0]                    \n",
      "__________________________________________________________________________________________________\n",
      "bidirectional (Bidirectional)   (None, 100, 256)     394240      embedding[0][0]                  \n",
      "__________________________________________________________________________________________________\n",
      "dense (Dense)                   (None, 100, 1)       257         bidirectional[0][0]              \n",
      "__________________________________________________________________________________________________\n",
      "flatten (Flatten)               (None, 100)          0           dense[0][0]                      \n",
      "__________________________________________________________________________________________________\n",
      "activation (Activation)         (None, 100)          0           flatten[0][0]                    \n",
      "__________________________________________________________________________________________________\n",
      "repeat_vector (RepeatVector)    (None, 256, 100)     0           activation[0][0]                 \n",
      "__________________________________________________________________________________________________\n",
      "permute (Permute)               (None, 100, 256)     0           repeat_vector[0][0]              \n",
      "__________________________________________________________________________________________________\n",
      "multiply (Multiply)             (None, 100, 256)     0           bidirectional[0][0]              \n",
      "                                                                 permute[0][0]                    \n",
      "__________________________________________________________________________________________________\n",
      "lambda (Lambda)                 (None, 256)          0           multiply[0][0]                   \n",
      "__________________________________________________________________________________________________\n",
      "dense_1 (Dense)                 (None, 5)            1285        lambda[0][0]                     \n",
      "==================================================================================================\n",
      "Total params: 1,675,782\n",
      "Trainable params: 1,675,782\n",
      "Non-trainable params: 0\n",
      "__________________________________________________________________________________________________\n"
     ]
    }
   ],
   "source": [
    "encoder.compile(loss='categorical_crossentropy', \n",
    "              optimizer='adam', \n",
    "              metrics=['accuracy'])\n",
    "\n",
    "encoder.summary()"
   ]
  },
  {
   "cell_type": "code",
   "execution_count": 11,
   "id": "eace740b",
   "metadata": {},
   "outputs": [],
   "source": [
    "#Validation set processing\n",
    "val_set = pd.read_csv('C:\\\\Users\\\\user1\\\\Documents\\\\repo\\\\dialog act RNN\\\\MRDA\\\\val.csv')\n",
    "val_set = val_set.drop(columns=[\"Unnamed: 0\"])\n",
    "val_set['Utterances'] = val_set['Utterances'].apply(lambda x: x.lower())\n",
    "val_set['Utterances'] = val_set['Utterances'].apply(lambda x: re.sub('[^a-zA-z0-9\\s]','',x))\n",
    "\n",
    "tokenizer = Tokenizer(num_words = 5000, split=\" \")\n",
    "tokenizer.fit_on_texts(val_set['Utterances'].values)\n",
    "x_val = tokenizer.texts_to_sequences(val_set['Utterances'].values)\n",
    "x_val = pad_sequences(x_val, padding='post', maxlen=MAX_PADDING)\n",
    "\n",
    "y_val = pd.get_dummies(val_set['Basic']).values"
   ]
  },
  {
   "cell_type": "code",
   "execution_count": 12,
   "id": "4682fd1e",
   "metadata": {},
   "outputs": [
    {
     "name": "stdout",
     "output_type": "stream",
     "text": [
      "Epoch 1/10000\n",
      "2346/2346 [==============================] - 1109s 471ms/step - loss: 0.7261 - accuracy: 0.7388 - val_loss: 1.5062 - val_accuracy: 0.5097\n",
      "Epoch 2/10000\n",
      "2346/2346 [==============================] - 1105s 471ms/step - loss: 0.5500 - accuracy: 0.7984 - val_loss: 1.5736 - val_accuracy: 0.5264\n",
      "Epoch 3/10000\n",
      "2346/2346 [==============================] - 1108s 472ms/step - loss: 0.5099 - accuracy: 0.8104 - val_loss: 1.5034 - val_accuracy: 0.5279\n",
      "Epoch 4/10000\n",
      "2346/2346 [==============================] - 1111s 473ms/step - loss: 0.4825 - accuracy: 0.8189 - val_loss: 1.5734 - val_accuracy: 0.5106\n",
      "Epoch 5/10000\n",
      "2346/2346 [==============================] - 1120s 477ms/step - loss: 0.4591 - accuracy: 0.8265 - val_loss: 1.6398 - val_accuracy: 0.5068\n",
      "Epoch 6/10000\n",
      "2346/2346 [==============================] - 1116s 476ms/step - loss: 0.4390 - accuracy: 0.8327 - val_loss: 1.8049 - val_accuracy: 0.5048\n",
      "Epoch 7/10000\n",
      "2346/2346 [==============================] - 1116s 476ms/step - loss: 0.4229 - accuracy: 0.8390 - val_loss: 1.8638 - val_accuracy: 0.4905\n",
      "Epoch 8/10000\n",
      "2346/2346 [==============================] - 1120s 477ms/step - loss: 0.4072 - accuracy: 0.8445 - val_loss: 1.8318 - val_accuracy: 0.4956\n",
      "Epoch 9/10000\n",
      "2346/2346 [==============================] - 1119s 477ms/step - loss: 0.3935 - accuracy: 0.8486 - val_loss: 1.8372 - val_accuracy: 0.4880\n",
      "Epoch 10/10000\n",
      "2346/2346 [==============================] - 1122s 478ms/step - loss: 0.3830 - accuracy: 0.8517 - val_loss: 2.0044 - val_accuracy: 0.4775\n",
      "Epoch 11/10000\n",
      "2346/2346 [==============================] - 1127s 480ms/step - loss: 0.3729 - accuracy: 0.8550 - val_loss: 2.1041 - val_accuracy: 0.4869\n",
      "Epoch 12/10000\n",
      "2346/2346 [==============================] - 1127s 481ms/step - loss: 0.3628 - accuracy: 0.8595 - val_loss: 2.0565 - val_accuracy: 0.4828\n",
      "Epoch 13/10000\n",
      "2346/2346 [==============================] - 1134s 484ms/step - loss: 0.3560 - accuracy: 0.8616 - val_loss: 2.1776 - val_accuracy: 0.4764\n",
      "Epoch 14/10000\n",
      "2346/2346 [==============================] - 1127s 480ms/step - loss: 0.3490 - accuracy: 0.8648 - val_loss: 2.2061 - val_accuracy: 0.4785\n",
      "Epoch 15/10000\n",
      "2346/2346 [==============================] - 1127s 480ms/step - loss: 0.3437 - accuracy: 0.8667 - val_loss: 2.2863 - val_accuracy: 0.4741\n",
      "Epoch 16/10000\n",
      "2346/2346 [==============================] - 1127s 480ms/step - loss: 0.3384 - accuracy: 0.8677 - val_loss: 2.4028 - val_accuracy: 0.4719\n",
      "Epoch 17/10000\n",
      "2346/2346 [==============================] - 1128s 481ms/step - loss: 0.3341 - accuracy: 0.8689 - val_loss: 2.4255 - val_accuracy: 0.4863\n",
      "Epoch 18/10000\n",
      "2346/2346 [==============================] - 1128s 481ms/step - loss: 0.3307 - accuracy: 0.8711 - val_loss: 2.3940 - val_accuracy: 0.4865\n",
      "Epoch 19/10000\n",
      "2346/2346 [==============================] - 1131s 482ms/step - loss: 0.3269 - accuracy: 0.8723 - val_loss: 2.5596 - val_accuracy: 0.4679\n",
      "Epoch 20/10000\n",
      "2346/2346 [==============================] - 1130s 482ms/step - loss: 0.3227 - accuracy: 0.8733 - val_loss: 2.4642 - val_accuracy: 0.4792\n",
      "Epoch 21/10000\n",
      "2346/2346 [==============================] - 1132s 483ms/step - loss: 0.3210 - accuracy: 0.8746 - val_loss: 2.5735 - val_accuracy: 0.4696\n",
      "Epoch 22/10000\n",
      "2346/2346 [==============================] - 1130s 482ms/step - loss: 0.3204 - accuracy: 0.8740 - val_loss: 2.6434 - val_accuracy: 0.4757\n",
      "Epoch 00022: early stopping\n"
     ]
    },
    {
     "data": {
      "text/plain": [
       "<keras.callbacks.History at 0x22647c75730>"
      ]
     },
     "execution_count": 12,
     "metadata": {},
     "output_type": "execute_result"
    }
   ],
   "source": [
    "#Early stopping the training when accuracy decreases\n",
    "es = keras.callbacks.EarlyStopping(monitor='accuracy', mode='auto', patience=1, verbose=1)\n",
    "\n",
    "\n",
    "encoder.fit(x_train, y_train, \n",
    "          epochs=10000, \n",
    "          batch_size=32, \n",
    "          verbose=1, \n",
    "          callbacks=[es], \n",
    "          validation_data=(x_val, y_val))"
   ]
  },
  {
   "cell_type": "code",
   "execution_count": 13,
   "id": "01694d1e",
   "metadata": {},
   "outputs": [],
   "source": [
    "#Test set processing\n",
    "test_set = pd.read_csv('C:\\\\Users\\\\user1\\\\Documents\\\\repo\\\\dialog act RNN\\\\MRDA\\\\test.csv')\n",
    "test_set = test_set.drop(columns=[\"Unnamed: 0\"])\n",
    "test_set['Utterances'] = test_set['Utterances'].apply(lambda x: x.lower())\n",
    "test_set['Utterances'] = test_set['Utterances'].apply(lambda x: re.sub('[^a-zA-z0-9\\s]','',x))\n",
    "\n",
    "tokenizer = Tokenizer(num_words = 5000, split=\" \")\n",
    "tokenizer.fit_on_texts(test_set['Utterances'].values)\n",
    "x_test = tokenizer.texts_to_sequences(test_set['Utterances'].values)\n",
    "x_test = pad_sequences(x_test, padding='post', maxlen=MAX_PADDING)\n",
    "\n",
    "y_test = pd.get_dummies(test_set['Basic']).values"
   ]
  },
  {
   "cell_type": "code",
   "execution_count": 14,
   "id": "f50cec9c",
   "metadata": {},
   "outputs": [
    {
     "name": "stdout",
     "output_type": "stream",
     "text": [
      "522/522 [==============================] - 32s 61ms/step - loss: 2.5914 - accuracy: 0.5497\n"
     ]
    }
   ],
   "source": [
    "score = encoder.evaluate(x_test, y_test)"
   ]
  },
  {
   "cell_type": "code",
   "execution_count": 15,
   "id": "1f14e15d",
   "metadata": {},
   "outputs": [
    {
     "name": "stderr",
     "output_type": "stream",
     "text": [
      "C:\\Users\\user1\\AppData\\Local\\Programs\\Python\\Python39\\lib\\site-packages\\keras\\utils\\generic_utils.py:494: CustomMaskWarning: Custom mask layers require a config and must override get_config. When loading, the custom mask layer must be passed to the custom_objects argument.\n",
      "  warnings.warn('Custom mask layers require a config and must override '\n"
     ]
    }
   ],
   "source": [
    "#Saving the model\n",
    "encoder.save('BiLSTMAttention.h5')"
   ]
  },
  {
   "cell_type": "code",
   "execution_count": 16,
   "id": "62d2ae3a",
   "metadata": {},
   "outputs": [],
   "source": [
    "#Loading the saved model\n",
    "model1 = load_model('BiLSTMAttention.h5')\n",
    "y_pred = model1.predict(x_test)"
   ]
  },
  {
   "cell_type": "code",
   "execution_count": 17,
   "id": "b850ec3a",
   "metadata": {},
   "outputs": [
    {
     "data": {
      "text/plain": [
       "array([[52, 36,  0,  0,  0,  0,  0,  0,  0,  0,  0,  0,  0,  0,  0,  0,\n",
       "         0,  0,  0,  0,  0,  0,  0,  0,  0,  0,  0,  0,  0,  0,  0,  0,\n",
       "         0,  0,  0,  0,  0,  0,  0,  0,  0,  0,  0,  0,  0,  0,  0,  0,\n",
       "         0,  0,  0,  0,  0,  0,  0,  0,  0,  0,  0,  0,  0,  0,  0,  0,\n",
       "         0,  0,  0,  0,  0,  0,  0,  0,  0,  0,  0,  0,  0,  0,  0,  0,\n",
       "         0,  0,  0,  0,  0,  0,  0,  0,  0,  0,  0,  0,  0,  0,  0,  0,\n",
       "         0,  0,  0,  0]])"
      ]
     },
     "execution_count": 17,
     "metadata": {},
     "output_type": "execute_result"
    }
   ],
   "source": [
    "x_test[1]=np.array(x_test[1])\n",
    "x_test[1].reshape(1, 100)"
   ]
  },
  {
   "cell_type": "code",
   "execution_count": 18,
   "id": "c4e7870b",
   "metadata": {},
   "outputs": [],
   "source": [
    "y_pred = np.argmax(y_pred, axis=1)\n",
    "y_test=np.argmax(y_test, axis=1)"
   ]
  },
  {
   "cell_type": "code",
   "execution_count": 19,
   "id": "37199d1a",
   "metadata": {},
   "outputs": [
    {
     "name": "stderr",
     "output_type": "stream",
     "text": [
      "C:\\Users\\user1\\AppData\\Local\\Programs\\Python\\Python39\\lib\\site-packages\\pycm\\pycm_obj.py:951: MatplotlibDeprecationWarning: \n",
      "The set_window_title function was deprecated in Matplotlib 3.4 and will be removed two minor releases later. Use manager.set_window_title or GUI-specific methods instead.\n",
      "  fig.canvas.set_window_title(title)\n"
     ]
    },
    {
     "data": {
      "text/plain": [
       "<AxesSubplot:title={'center':'Confusion Matrix'}, xlabel='Predicted Classes', ylabel='Actual Classes'>"
      ]
     },
     "execution_count": 19,
     "metadata": {},
     "output_type": "execute_result"
    },
    {
     "data": {
      "image/png": "[encoded data removed]",
      "text/plain": [
       "<Figure size 432x288 with 2 Axes>"
      ]
     },
     "metadata": {
      "needs_background": "light"
     },
     "output_type": "display_data"
    }
   ],
   "source": [
    "from pycm import *\n",
    "cm = ConfusionMatrix(y_test, y_pred,digit=5)\n",
    "cm.relabel(mapping={0:\"B\",1:\"D\",2:\"F\",3:\"Q\",4:\"S\"})\n",
    "cm.plot(plot_lib = \"seaborn\",number_label=True)"
   ]
  },
  {
   "cell_type": "code",
   "execution_count": 20,
   "id": "8ca154ae",
   "metadata": {},
   "outputs": [
    {
     "data": {
      "text/plain": [
       "<AxesSubplot:title={'center':'Confusion Matrix'}, xlabel='Predicted Classes', ylabel='Actual Classes'>"
      ]
     },
     "execution_count": 20,
     "metadata": {},
     "output_type": "execute_result"
    },
    {
     "data": {
      "image/png": "[encoded data removed]",
      "text/plain": [
       "<Figure size 432x288 with 2 Axes>"
      ]
     },
     "metadata": {
      "needs_background": "light"
     },
     "output_type": "display_data"
    },
    {
     "data": {
      "image/png": "[encoded data removed]",
      "text/plain": [
       "<Figure size 432x288 with 2 Axes>"
      ]
     },
     "metadata": {
      "needs_background": "light"
     },
     "output_type": "display_data"
    },
    {
     "data": {
      "image/png": "[encoded data removed]",
      "text/plain": [
       "<Figure size 432x288 with 2 Axes>"
      ]
     },
     "metadata": {
      "needs_background": "light"
     },
     "output_type": "display_data"
    },
    {
     "data": {
      "image/png": "[encoded data removed]",
      "text/plain": [
       "<Figure size 432x288 with 2 Axes>"
      ]
     },
     "metadata": {
      "needs_background": "light"
     },
     "output_type": "display_data"
    },
    {
     "data": {
      "image/png": "[encoded data removed]",
      "text/plain": [
       "<Figure size 432x288 with 2 Axes>"
      ]
     },
     "metadata": {
      "needs_background": "light"
     },
     "output_type": "display_data"
    }
   ],
   "source": [
    "cm.plot(cmap=plt.cm.Blues, number_label=True, one_vs_all=True, class_name=\"B\")\n",
    "cm.plot(cmap=plt.cm.Blues, number_label=True, one_vs_all=True, class_name=\"D\")\n",
    "cm.plot(cmap=plt.cm.Blues, number_label=True, one_vs_all=True, class_name=\"F\")\n",
    "cm.plot(cmap=plt.cm.Blues, number_label=True, one_vs_all=True, class_name=\"Q\")\n",
    "cm.plot(cmap=plt.cm.Blues, number_label=True, one_vs_all=True, class_name=\"S\")"
   ]
  },
  {
   "cell_type": "code",
   "execution_count": 21,
   "id": "32a9e613",
   "metadata": {},
   "outputs": [
    {
     "data": {
      "text/plain": [
       "array(['S'], dtype='<U1')"
      ]
     },
     "execution_count": 21,
     "metadata": {},
     "output_type": "execute_result"
    }
   ],
   "source": [
    "DA = np.array(['B','D','F','Q','S'])\n",
    "a = [\"will you go\"]\n",
    "a = tokenizer.texts_to_sequences(a)\n",
    "a = np.array(a)\n",
    "a = pad_sequences(a, padding='post', maxlen=MAX_PADDING)\n",
    "prediction = model1.predict(np.array(a))\n",
    "DA[prediction.argmax(1)]"
   ]
  },
  {
   "cell_type": "code",
   "execution_count": null,
   "id": "16fff827",
   "metadata": {},
   "outputs": [],
   "source": []
  }
 ],
 "metadata": {
  "kernelspec": {
   "display_name": "Python 3 (ipykernel)",
   "language": "python",
   "name": "python3"
  },
  "language_info": {
   "codemirror_mode": {
    "name": "ipython",
    "version": 3
   },
   "file_extension": ".py",
   "mimetype": "text/x-python",
   "name": "python",
   "nbconvert_exporter": "python",
   "pygments_lexer": "ipython3",
   "version": "3.9.6"
  }
 },
 "nbformat": 4,
 "nbformat_minor": 5
}
