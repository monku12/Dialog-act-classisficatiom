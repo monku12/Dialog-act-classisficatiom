{
 "cells": [
  {
   "cell_type": "code",
   "execution_count": 1,
   "id": "991fc09a",
   "metadata": {},
   "outputs": [],
   "source": [
    "#Libraries\n",
    "import re\n",
    "import numpy as np\n",
    "import pandas as pd\n",
    "import matplotlib.pyplot as plt\n",
    "from matplotlib.pyplot import hist\n",
    "import keras\n",
    "import tensorflow as tf\n",
    "from keras.models import Sequential, load_model\n",
    "from keras.layers import Dense, LSTM, Embedding, Dropout\n",
    "from keras.preprocessing.text import Tokenizer \n",
    "from keras.preprocessing.sequence import pad_sequences\n",
    "from tensorflow.python.client import device_lib\n",
    "from keras.layers import *\n",
    "from keras import Model"
   ]
  },
  {
   "cell_type": "code",
   "execution_count": 2,
   "id": "073abf03",
   "metadata": {},
   "outputs": [
    {
     "name": "stdout",
     "output_type": "stream",
     "text": [
      "(75066, 6)\n"
     ]
    },
    {
     "data": {
      "text/html": [
       "<div>\n",
       "<style scoped>\n",
       "    .dataframe tbody tr th:only-of-type {\n",
       "        vertical-align: middle;\n",
       "    }\n",
       "\n",
       "    .dataframe tbody tr th {\n",
       "        vertical-align: top;\n",
       "    }\n",
       "\n",
       "    .dataframe thead th {\n",
       "        text-align: right;\n",
       "    }\n",
       "</style>\n",
       "<table border=\"1\" class=\"dataframe\">\n",
       "  <thead>\n",
       "    <tr style=\"text-align: right;\">\n",
       "      <th></th>\n",
       "      <th>Unnamed: 0</th>\n",
       "      <th>Speaker</th>\n",
       "      <th>Utterances</th>\n",
       "      <th>Basic</th>\n",
       "      <th>General</th>\n",
       "      <th>Full</th>\n",
       "    </tr>\n",
       "  </thead>\n",
       "  <tbody>\n",
       "    <tr>\n",
       "      <th>0</th>\n",
       "      <td>0</td>\n",
       "      <td>fe016</td>\n",
       "      <td>so um</td>\n",
       "      <td>F</td>\n",
       "      <td>fh</td>\n",
       "      <td>fh</td>\n",
       "    </tr>\n",
       "    <tr>\n",
       "      <th>1</th>\n",
       "      <td>1</td>\n",
       "      <td>fe016</td>\n",
       "      <td>i was going to try to get out of here like in ...</td>\n",
       "      <td>S</td>\n",
       "      <td>s</td>\n",
       "      <td>rt</td>\n",
       "    </tr>\n",
       "    <tr>\n",
       "      <th>2</th>\n",
       "      <td>2</td>\n",
       "      <td>fe016</td>\n",
       "      <td>um</td>\n",
       "      <td>F</td>\n",
       "      <td>fh</td>\n",
       "      <td>fh</td>\n",
       "    </tr>\n",
       "  </tbody>\n",
       "</table>\n",
       "</div>"
      ],
      "text/plain": [
       "   Unnamed: 0 Speaker                                         Utterances  \\\n",
       "0           0   fe016                                              so um   \n",
       "1           1   fe016  i was going to try to get out of here like in ...   \n",
       "2           2   fe016                                                 um   \n",
       "\n",
       "  Basic General Full  \n",
       "0     F      fh   fh  \n",
       "1     S       s   rt  \n",
       "2     F      fh   fh  "
      ]
     },
     "execution_count": 2,
     "metadata": {},
     "output_type": "execute_result"
    }
   ],
   "source": [
    "#Copy the path of your train.csv file\n",
    "data = pd.read_csv('C:\\\\Users\\\\user1\\\\Documents\\\\repo\\\\dialog act RNN\\\\MRDA\\\\train.csv')\n",
    "print(data.shape)\n",
    "data.head(3)"
   ]
  },
  {
   "cell_type": "code",
   "execution_count": 3,
   "id": "37912133",
   "metadata": {},
   "outputs": [
    {
     "data": {
      "text/plain": [
       "0                                                so um\n",
       "1    i was going to try to get out of here like in ...\n",
       "2                                                   um\n",
       "Name: Utterances, dtype: object"
      ]
     },
     "execution_count": 3,
     "metadata": {},
     "output_type": "execute_result"
    }
   ],
   "source": [
    "data=data.drop(columns=[\"Unnamed: 0\"])\n",
    "data['Utterances'] = data['Utterances'].apply(lambda x: x.lower())\n",
    "data['Utterances'] = data['Utterances'].apply(lambda x: re.sub('[^a-zA-z0-9\\s]','',x))\n",
    "data['Utterances'].head(3)"
   ]
  },
  {
   "cell_type": "code",
   "execution_count": 4,
   "id": "7475a217",
   "metadata": {},
   "outputs": [
    {
     "data": {
      "text/html": [
       "<div>\n",
       "<style scoped>\n",
       "    .dataframe tbody tr th:only-of-type {\n",
       "        vertical-align: middle;\n",
       "    }\n",
       "\n",
       "    .dataframe tbody tr th {\n",
       "        vertical-align: top;\n",
       "    }\n",
       "\n",
       "    .dataframe thead th {\n",
       "        text-align: right;\n",
       "    }\n",
       "</style>\n",
       "<table border=\"1\" class=\"dataframe\">\n",
       "  <thead>\n",
       "    <tr style=\"text-align: right;\">\n",
       "      <th></th>\n",
       "      <th>Label</th>\n",
       "      <th>Count</th>\n",
       "    </tr>\n",
       "  </thead>\n",
       "  <tbody>\n",
       "    <tr>\n",
       "      <th>0</th>\n",
       "      <td>B</td>\n",
       "      <td>10265</td>\n",
       "    </tr>\n",
       "    <tr>\n",
       "      <th>1</th>\n",
       "      <td>D</td>\n",
       "      <td>9739</td>\n",
       "    </tr>\n",
       "    <tr>\n",
       "      <th>2</th>\n",
       "      <td>F</td>\n",
       "      <td>5323</td>\n",
       "    </tr>\n",
       "    <tr>\n",
       "      <th>3</th>\n",
       "      <td>Q</td>\n",
       "      <td>4640</td>\n",
       "    </tr>\n",
       "    <tr>\n",
       "      <th>4</th>\n",
       "      <td>S</td>\n",
       "      <td>45099</td>\n",
       "    </tr>\n",
       "  </tbody>\n",
       "</table>\n",
       "</div>"
      ],
      "text/plain": [
       "  Label  Count\n",
       "0     B  10265\n",
       "1     D   9739\n",
       "2     F   5323\n",
       "3     Q   4640\n",
       "4     S  45099"
      ]
     },
     "execution_count": 4,
     "metadata": {},
     "output_type": "execute_result"
    }
   ],
   "source": [
    "#Creating table of number of each data label present in the dataset\n",
    "label_count=data.groupby('Basic')['Basic'].agg('count')\n",
    "label_count.to_numpy(dtype=int)\n",
    "label_count = np.expand_dims(label_count, axis=0)\n",
    "label_count.shape=(5,1)\n",
    "labels=np.array(['B', 'D', 'F', 'Q', 'S'])\n",
    "labels.shape=(5,1)\n",
    "label_count=np.column_stack((labels,label_count))\n",
    "\n",
    "df = pd.DataFrame(label_count, columns=['Label', 'Count'])\n",
    "\n",
    "convert_dict = {'Label': str,\n",
    "                'Count': int\n",
    "               }\n",
    "  \n",
    "df = df.astype(convert_dict)\n",
    "df"
   ]
  },
  {
   "cell_type": "code",
   "execution_count": 5,
   "id": "ced1ca96",
   "metadata": {},
   "outputs": [
    {
     "data": {
      "text/plain": [
       "<AxesSubplot:xlabel='Label'>"
      ]
     },
     "execution_count": 5,
     "metadata": {},
     "output_type": "execute_result"
    },
    {
     "data": {
      "image/png": "[encoded data removed]",
      "text/plain": [
       "<Figure size 432x288 with 1 Axes>"
      ]
     },
     "metadata": {
      "needs_background": "light"
     },
     "output_type": "display_data"
    }
   ],
   "source": [
    "df.plot.bar(x = 'Label', y='Count')"
   ]
  },
  {
   "cell_type": "code",
   "execution_count": 6,
   "id": "e8cd7350",
   "metadata": {},
   "outputs": [
    {
     "name": "stdout",
     "output_type": "stream",
     "text": [
      "(75066, 100)\n"
     ]
    },
    {
     "data": {
      "text/plain": [
       "array([[ 11,  16,   0,   0,   0,   0,   0,   0,   0,   0,   0,   0,   0,\n",
       "          0,   0,   0,   0,   0,   0,   0,   0,   0,   0,   0,   0,   0,\n",
       "          0,   0,   0,   0,   0,   0,   0,   0,   0,   0,   0,   0,   0,\n",
       "          0,   0,   0,   0,   0,   0,   0,   0,   0,   0,   0,   0,   0,\n",
       "          0,   0,   0,   0,   0,   0,   0,   0,   0,   0,   0,   0,   0,\n",
       "          0,   0,   0,   0,   0,   0,   0,   0,   0,   0,   0,   0,   0,\n",
       "          0,   0,   0,   0,   0,   0,   0,   0,   0,   0,   0,   0,   0,\n",
       "          0,   0,   0,   0,   0,   0,   0,   0,   0],\n",
       "       [  2,  36,  58,   4, 170,   4,  61,  83,  10,  96,  34,  15, 441,\n",
       "         87, 741,   0,   0,   0,   0,   0,   0,   0,   0,   0,   0,   0,\n",
       "          0,   0,   0,   0,   0,   0,   0,   0,   0,   0,   0,   0,   0,\n",
       "          0,   0,   0,   0,   0,   0,   0,   0,   0,   0,   0,   0,   0,\n",
       "          0,   0,   0,   0,   0,   0,   0,   0,   0,   0,   0,   0,   0,\n",
       "          0,   0,   0,   0,   0,   0,   0,   0,   0,   0,   0,   0,   0,\n",
       "          0,   0,   0,   0,   0,   0,   0,   0,   0,   0,   0,   0,   0,\n",
       "          0,   0,   0,   0,   0,   0,   0,   0,   0]])"
      ]
     },
     "execution_count": 6,
     "metadata": {},
     "output_type": "execute_result"
    }
   ],
   "source": [
    "#Tokenizing the words and padding the sentence\n",
    "MAX_PADDING = 100\n",
    "tokenizer = Tokenizer(num_words = 5000, split=\" \")\n",
    "tokenizer.fit_on_texts(data['Utterances'].values)\n",
    "x_train = tokenizer.texts_to_sequences(data['Utterances'].values)\n",
    "x_train = pad_sequences(x_train, padding='post', maxlen=MAX_PADDING)\n",
    "print(x_train.shape)\n",
    "x_train[:2]"
   ]
  },
  {
   "cell_type": "code",
   "execution_count": 7,
   "id": "595d12ce",
   "metadata": {},
   "outputs": [
    {
     "name": "stdout",
     "output_type": "stream",
     "text": [
      "F [0 0 1 0 0]\n",
      "S [0 0 0 0 1]\n",
      "F [0 0 1 0 0]\n",
      "S [0 0 0 0 1]\n",
      "S [0 0 0 0 1]\n"
     ]
    },
    {
     "data": {
      "text/plain": [
       "[None, None, None, None, None]"
      ]
     },
     "execution_count": 7,
     "metadata": {},
     "output_type": "execute_result"
    }
   ],
   "source": [
    "y_train = pd.get_dummies(data['Basic']).values\n",
    "[print(data['Basic'][i],y_train[i]) for i in range (0,5)]"
   ]
  },
  {
   "cell_type": "code",
   "execution_count": 8,
   "id": "20b0d40c",
   "metadata": {},
   "outputs": [],
   "source": [
    "#Validation set processing\n",
    "val_set = pd.read_csv('C:\\\\Users\\\\user1\\\\Documents\\\\repo\\\\dialog act RNN\\\\MRDA\\\\val.csv')\n",
    "val_set = val_set.drop(columns=[\"Unnamed: 0\"])\n",
    "val_set['Utterances'] = val_set['Utterances'].apply(lambda x: x.lower())\n",
    "val_set['Utterances'] = val_set['Utterances'].apply(lambda x: re.sub('[^a-zA-z0-9\\s]','',x))\n",
    "\n",
    "tokenizer = Tokenizer(num_words = 5000, split=\" \")\n",
    "tokenizer.fit_on_texts(val_set['Utterances'].values)\n",
    "x_val = tokenizer.texts_to_sequences(val_set['Utterances'].values)\n",
    "x_val = pad_sequences(x_val, padding='post', maxlen=MAX_PADDING)\n",
    "\n",
    "y_val = pd.get_dummies(val_set['Basic']).values"
   ]
  },
  {
   "cell_type": "code",
   "execution_count": 9,
   "id": "db4e2027",
   "metadata": {},
   "outputs": [],
   "source": [
    "filter_sizes = [3,4,5]\n",
    "num_filters = 64\n",
    "drop = 0.2\n",
    "VOCAB_SIZE = len(x_train) # 43,731\n",
    "MAX_LENGTH = 100\n",
    "\n",
    "EMBED_SIZE = 256 # arbitary\n",
    "UNIQUE_DA = 5\n",
    "\n",
    "# CNN model\n",
    "inputs = Input(shape=(MAX_LENGTH, ), dtype='int32')\n",
    "embedding = Embedding(input_dim=VOCAB_SIZE+1, \n",
    "                      output_dim=EMBED_SIZE, \n",
    "                      input_length=MAX_LENGTH)(inputs)\n",
    "reshape = Reshape((MAX_LENGTH, EMBED_SIZE, 1))(embedding)\n",
    "\n",
    "# 3 convolutions\n",
    "conv_0 = Conv2D(num_filters, \n",
    "                kernel_size=(filter_sizes[0], EMBED_SIZE), \n",
    "                strides=1, \n",
    "                padding='valid', \n",
    "                kernel_initializer='normal', \n",
    "                activation='relu')(reshape)\n",
    "bn_0 = BatchNormalization()(conv_0)\n",
    "\n",
    "conv_1 = Conv2D(num_filters, \n",
    "                kernel_size=(filter_sizes[1], EMBED_SIZE), \n",
    "                strides=1, \n",
    "                padding='valid', \n",
    "                kernel_initializer='normal', \n",
    "                activation='relu')(reshape)\n",
    "bn_1 = BatchNormalization()(conv_1)\n",
    "\n",
    "conv_2 = Conv2D(num_filters, \n",
    "                kernel_size=(filter_sizes[2], EMBED_SIZE), \n",
    "                strides=1, \n",
    "                padding='valid', \n",
    "                kernel_initializer='normal', \n",
    "                activation='relu')(reshape)\n",
    "bn_2 = BatchNormalization()(conv_2)\n",
    "\n",
    "# maxpool for 3 layers\n",
    "maxpool_0 = MaxPool2D(pool_size=(MAX_LENGTH - filter_sizes[0] + 1, 1), padding='valid')(bn_0)\n",
    "maxpool_1 = MaxPool2D(pool_size=(MAX_LENGTH - filter_sizes[1] + 1, 1), padding='valid')(bn_1)\n",
    "maxpool_2 = MaxPool2D(pool_size=(MAX_LENGTH - filter_sizes[2] + 1, 1), padding='valid')(bn_2)\n",
    "\n",
    "# concatenate tensors\n",
    "merged_1 = concatenate([maxpool_0, maxpool_1, maxpool_2])\n",
    "\n",
    "# flatten concatenated tensors\n",
    "# applying time distributed layer so that cnn output is compatible with BiLSTM input\n",
    "flat = TimeDistributed(Flatten())(merged_1)\n",
    "# dense layer (dense_1)\n",
    "dense_1 = Dense(UNIQUE_DA, activation='relu')(flat)\n",
    "# dropout_1\n",
    "dropout_1 = Dropout(drop)(dense_1)"
   ]
  },
  {
   "cell_type": "code",
   "execution_count": 10,
   "id": "3258f1d8",
   "metadata": {},
   "outputs": [],
   "source": [
    "biLSTM1 = Bidirectional(LSTM(UNIQUE_DA, return_sequences='true'))(dropout_1)\n",
    "\n",
    "biLSTM2 = Bidirectional(LSTM(UNIQUE_DA))(biLSTM1)\n",
    "\n",
    "dense_2 = Dense(UNIQUE_DA, activation='relu')(biLSTM2)\n",
    "\n",
    "dropout_2 = Dropout(drop)(dense_2)"
   ]
  },
  {
   "cell_type": "code",
   "execution_count": 11,
   "id": "ca89d093",
   "metadata": {},
   "outputs": [],
   "source": [
    "# concatenate 2 final layers\n",
    "# flatten the output of the CNN + dense + dropout so that it can be concatenated with the output of BiLSTM\n",
    "dropout_flat = Flatten()(dropout_1)\n",
    "# concatenating the output of CNN + dense + dropout with the output of BiLSTM + dense + dropout\n",
    "merged_2 = concatenate([dropout_flat, dropout_2])\n",
    "# merged_2 has the dimension of (None, 86)\n",
    "# adding a dense layer\n",
    "dense_3 = Dense(units=UNIQUE_DA, input_shape=(1,))(merged_2)\n",
    "# adding softmax for multiclass classification\n",
    "output = Activation('softmax')(dense_3)"
   ]
  },
  {
   "cell_type": "code",
   "execution_count": 12,
   "id": "a3dfdb19",
   "metadata": {},
   "outputs": [
    {
     "name": "stdout",
     "output_type": "stream",
     "text": [
      "Model: \"model\"\n",
      "__________________________________________________________________________________________________\n",
      "Layer (type)                    Output Shape         Param #     Connected to                     \n",
      "==================================================================================================\n",
      "input_1 (InputLayer)            [(None, 100)]        0                                            \n",
      "__________________________________________________________________________________________________\n",
      "embedding (Embedding)           (None, 100, 256)     19217152    input_1[0][0]                    \n",
      "__________________________________________________________________________________________________\n",
      "reshape (Reshape)               (None, 100, 256, 1)  0           embedding[0][0]                  \n",
      "__________________________________________________________________________________________________\n",
      "conv2d (Conv2D)                 (None, 98, 1, 64)    49216       reshape[0][0]                    \n",
      "__________________________________________________________________________________________________\n",
      "conv2d_1 (Conv2D)               (None, 97, 1, 64)    65600       reshape[0][0]                    \n",
      "__________________________________________________________________________________________________\n",
      "conv2d_2 (Conv2D)               (None, 96, 1, 64)    81984       reshape[0][0]                    \n",
      "__________________________________________________________________________________________________\n",
      "batch_normalization (BatchNorma (None, 98, 1, 64)    256         conv2d[0][0]                     \n",
      "__________________________________________________________________________________________________\n",
      "batch_normalization_1 (BatchNor (None, 97, 1, 64)    256         conv2d_1[0][0]                   \n",
      "__________________________________________________________________________________________________\n",
      "batch_normalization_2 (BatchNor (None, 96, 1, 64)    256         conv2d_2[0][0]                   \n",
      "__________________________________________________________________________________________________\n",
      "max_pooling2d (MaxPooling2D)    (None, 1, 1, 64)     0           batch_normalization[0][0]        \n",
      "__________________________________________________________________________________________________\n",
      "max_pooling2d_1 (MaxPooling2D)  (None, 1, 1, 64)     0           batch_normalization_1[0][0]      \n",
      "__________________________________________________________________________________________________\n",
      "max_pooling2d_2 (MaxPooling2D)  (None, 1, 1, 64)     0           batch_normalization_2[0][0]      \n",
      "__________________________________________________________________________________________________\n",
      "concatenate (Concatenate)       (None, 1, 1, 192)    0           max_pooling2d[0][0]              \n",
      "                                                                 max_pooling2d_1[0][0]            \n",
      "                                                                 max_pooling2d_2[0][0]            \n",
      "__________________________________________________________________________________________________\n",
      "time_distributed (TimeDistribut (None, 1, 192)       0           concatenate[0][0]                \n",
      "__________________________________________________________________________________________________\n",
      "dense (Dense)                   (None, 1, 5)         965         time_distributed[0][0]           \n",
      "__________________________________________________________________________________________________\n",
      "dropout (Dropout)               (None, 1, 5)         0           dense[0][0]                      \n",
      "__________________________________________________________________________________________________\n",
      "bidirectional (Bidirectional)   (None, 1, 10)        440         dropout[0][0]                    \n",
      "__________________________________________________________________________________________________\n",
      "bidirectional_1 (Bidirectional) (None, 10)           640         bidirectional[0][0]              \n",
      "__________________________________________________________________________________________________\n",
      "dense_1 (Dense)                 (None, 5)            55          bidirectional_1[0][0]            \n",
      "__________________________________________________________________________________________________\n",
      "flatten_1 (Flatten)             (None, 5)            0           dropout[0][0]                    \n",
      "__________________________________________________________________________________________________\n",
      "dropout_1 (Dropout)             (None, 5)            0           dense_1[0][0]                    \n",
      "__________________________________________________________________________________________________\n",
      "concatenate_1 (Concatenate)     (None, 10)           0           flatten_1[0][0]                  \n",
      "                                                                 dropout_1[0][0]                  \n",
      "__________________________________________________________________________________________________\n",
      "dense_2 (Dense)                 (None, 5)            55          concatenate_1[0][0]              \n",
      "__________________________________________________________________________________________________\n",
      "activation (Activation)         (None, 5)            0           dense_2[0][0]                    \n",
      "==================================================================================================\n",
      "Total params: 19,416,875\n",
      "Trainable params: 19,416,491\n",
      "Non-trainable params: 384\n",
      "__________________________________________________________________________________________________\n"
     ]
    }
   ],
   "source": [
    "model = Model(inputs=[inputs], outputs=[output])\n",
    "model.compile(loss='categorical_crossentropy',optimizer='adam',metrics=['accuracy'])\n",
    "model.summary()"
   ]
  },
  {
   "cell_type": "code",
   "execution_count": 13,
   "id": "4047b568",
   "metadata": {},
   "outputs": [
    {
     "name": "stdout",
     "output_type": "stream",
     "text": [
      "Epoch 1/1000\n",
      "2346/2346 [==============================] - 441s 186ms/step - loss: 0.8623 - accuracy: 0.6961 - val_loss: 1.1871 - val_accuracy: 0.5291\n",
      "Epoch 2/1000\n",
      "2346/2346 [==============================] - 442s 188ms/step - loss: 0.7157 - accuracy: 0.7346 - val_loss: 1.2429 - val_accuracy: 0.5234\n",
      "Epoch 3/1000\n",
      "2346/2346 [==============================] - 443s 189ms/step - loss: 0.6697 - accuracy: 0.7446 - val_loss: 1.3785 - val_accuracy: 0.5144\n",
      "Epoch 4/1000\n",
      "2346/2346 [==============================] - 443s 189ms/step - loss: 0.6368 - accuracy: 0.7587 - val_loss: 1.3522 - val_accuracy: 0.5131\n",
      "Epoch 5/1000\n",
      "2346/2346 [==============================] - 446s 190ms/step - loss: 0.5982 - accuracy: 0.7732 - val_loss: 1.4898 - val_accuracy: 0.5180\n",
      "Epoch 6/1000\n",
      "2346/2346 [==============================] - 441s 188ms/step - loss: 0.5776 - accuracy: 0.7781 - val_loss: 1.5320 - val_accuracy: 0.5052\n",
      "Epoch 7/1000\n",
      "2346/2346 [==============================] - 444s 189ms/step - loss: 0.5608 - accuracy: 0.7836 - val_loss: 1.7453 - val_accuracy: 0.4977\n",
      "Epoch 8/1000\n",
      "2346/2346 [==============================] - 442s 188ms/step - loss: 0.5486 - accuracy: 0.7894 - val_loss: 1.5461 - val_accuracy: 0.5117\n",
      "Epoch 9/1000\n",
      "2346/2346 [==============================] - 436s 186ms/step - loss: 0.5383 - accuracy: 0.7948 - val_loss: 1.5945 - val_accuracy: 0.4939\n",
      "Epoch 10/1000\n",
      "2346/2346 [==============================] - 442s 188ms/step - loss: 0.5318 - accuracy: 0.7984 - val_loss: 1.7910 - val_accuracy: 0.4826\n",
      "Epoch 11/1000\n",
      "2346/2346 [==============================] - 437s 186ms/step - loss: 0.5238 - accuracy: 0.8004 - val_loss: 1.5008 - val_accuracy: 0.5764\n",
      "Epoch 12/1000\n",
      "2346/2346 [==============================] - 441s 188ms/step - loss: 0.5224 - accuracy: 0.8016 - val_loss: 1.6702 - val_accuracy: 0.5415\n",
      "Epoch 13/1000\n",
      "2346/2346 [==============================] - 440s 187ms/step - loss: 0.5167 - accuracy: 0.8041 - val_loss: 1.6988 - val_accuracy: 0.5396\n",
      "Epoch 14/1000\n",
      "2346/2346 [==============================] - 441s 188ms/step - loss: 0.5105 - accuracy: 0.8067 - val_loss: 1.9947 - val_accuracy: 0.4974\n",
      "Epoch 15/1000\n",
      "2346/2346 [==============================] - 437s 186ms/step - loss: 0.5016 - accuracy: 0.8110 - val_loss: 1.8771 - val_accuracy: 0.4794\n",
      "Epoch 16/1000\n",
      "2346/2346 [==============================] - 443s 189ms/step - loss: 0.4911 - accuracy: 0.8130 - val_loss: 1.8791 - val_accuracy: 0.4794\n",
      "Epoch 17/1000\n",
      "2346/2346 [==============================] - 439s 187ms/step - loss: 0.4707 - accuracy: 0.8189 - val_loss: 2.1852 - val_accuracy: 0.4793\n",
      "Epoch 18/1000\n",
      "2346/2346 [==============================] - 441s 188ms/step - loss: 0.4600 - accuracy: 0.8255 - val_loss: 1.8402 - val_accuracy: 0.4903\n",
      "Epoch 19/1000\n",
      "2346/2346 [==============================] - 441s 188ms/step - loss: 0.4569 - accuracy: 0.8284 - val_loss: 1.8723 - val_accuracy: 0.5223\n",
      "Epoch 20/1000\n",
      "2346/2346 [==============================] - 443s 189ms/step - loss: 0.4465 - accuracy: 0.8312 - val_loss: 2.0394 - val_accuracy: 0.4994\n",
      "Epoch 21/1000\n",
      "2346/2346 [==============================] - 441s 188ms/step - loss: 0.4434 - accuracy: 0.8316 - val_loss: 2.0264 - val_accuracy: 0.4844\n",
      "Epoch 22/1000\n",
      "2346/2346 [==============================] - 445s 190ms/step - loss: 0.4411 - accuracy: 0.8321 - val_loss: 2.2975 - val_accuracy: 0.4919\n",
      "Epoch 23/1000\n",
      "2346/2346 [==============================] - 440s 188ms/step - loss: 0.4373 - accuracy: 0.8350 - val_loss: 2.0486 - val_accuracy: 0.5262\n",
      "Epoch 24/1000\n",
      "2346/2346 [==============================] - 443s 189ms/step - loss: 0.4357 - accuracy: 0.8374 - val_loss: 2.1166 - val_accuracy: 0.4860\n",
      "Epoch 25/1000\n",
      "2346/2346 [==============================] - 439s 187ms/step - loss: 0.4337 - accuracy: 0.8377 - val_loss: 2.2674 - val_accuracy: 0.4918\n",
      "Epoch 26/1000\n",
      "2346/2346 [==============================] - 444s 189ms/step - loss: 0.4280 - accuracy: 0.8390 - val_loss: 2.2450 - val_accuracy: 0.4866\n",
      "Epoch 27/1000\n",
      "2346/2346 [==============================] - 440s 188ms/step - loss: 0.4296 - accuracy: 0.8397 - val_loss: 2.2173 - val_accuracy: 0.5139\n",
      "Epoch 28/1000\n",
      "2346/2346 [==============================] - 441s 188ms/step - loss: 0.4249 - accuracy: 0.8406 - val_loss: 2.3274 - val_accuracy: 0.4802\n",
      "Epoch 29/1000\n",
      "2346/2346 [==============================] - 441s 188ms/step - loss: 0.4269 - accuracy: 0.8404 - val_loss: 2.0253 - val_accuracy: 0.5454\n",
      "Epoch 00029: early stopping\n"
     ]
    },
    {
     "data": {
      "text/plain": [
       "<keras.callbacks.History at 0x20ee8a82b50>"
      ]
     },
     "execution_count": 13,
     "metadata": {},
     "output_type": "execute_result"
    }
   ],
   "source": [
    "early_stopping = keras.callbacks.EarlyStopping(monitor='accuracy', \n",
    "                                               mode='auto', \n",
    "                                               patience=1, \n",
    "                                               verbose=1)\n",
    "model.fit(x_train, y_train, \n",
    "          epochs=1000, \n",
    "          batch_size=32, \n",
    "          verbose=1,\n",
    "          callbacks = [early_stopping],\n",
    "          validation_data=(x_val, y_val))"
   ]
  },
  {
   "cell_type": "code",
   "execution_count": 25,
   "id": "b68f86cd",
   "metadata": {},
   "outputs": [
    {
     "name": "stdout",
     "output_type": "stream",
     "text": [
      "S [0 0 0 0 1]\n",
      "S [0 0 0 0 1]\n",
      "S [0 0 0 0 1]\n",
      "F [0 0 1 0 0]\n",
      "S [0 0 0 0 1]\n"
     ]
    },
    {
     "data": {
      "text/plain": [
       "[None, None, None, None, None]"
      ]
     },
     "execution_count": 25,
     "metadata": {},
     "output_type": "execute_result"
    }
   ],
   "source": [
    "#Test set processing\n",
    "test_set = pd.read_csv('C:\\\\Users\\\\user1\\\\Documents\\\\repo\\\\dialog act RNN\\\\MRDA\\\\test.csv')\n",
    "test_set = test_set.drop(columns=[\"Unnamed: 0\"])\n",
    "test_set['Utterances'] = test_set['Utterances'].apply(lambda x: x.lower())\n",
    "test_set['Utterances'] = test_set['Utterances'].apply(lambda x: re.sub('[^a-zA-z0-9\\s]','',x))\n",
    "\n",
    "tokenizer = Tokenizer(num_words = 5000, split=\" \")\n",
    "tokenizer.fit_on_texts(test_set['Utterances'].values)\n",
    "x_test = tokenizer.texts_to_sequences(test_set['Utterances'].values)\n",
    "x_test = pad_sequences(x_test, padding='post', maxlen=MAX_PADDING)\n",
    "\n",
    "y_test = pd.get_dummies(test_set['Basic']).values\n",
    "[print(test_set['Basic'][i],y_test[i]) for i in range (0,5)]"
   ]
  },
  {
   "cell_type": "code",
   "execution_count": 15,
   "id": "6ee78b1a",
   "metadata": {},
   "outputs": [],
   "source": [
    "model.save('SavedModel.h5')"
   ]
  },
  {
   "cell_type": "code",
   "execution_count": 16,
   "id": "7fa3bb1a",
   "metadata": {},
   "outputs": [
    {
     "name": "stdout",
     "output_type": "stream",
     "text": [
      "[2.9003393e-09 9.2949593e-01 2.0430261e-02 2.5333092e-03 4.7540445e-02]\n"
     ]
    }
   ],
   "source": [
    "#Loading the saved model\n",
    "model1 = load_model('SavedModel.h5')\n",
    "y_pred = model1.predict(x_test)\n",
    "print(y_pred[1])"
   ]
  },
  {
   "cell_type": "code",
   "execution_count": 26,
   "id": "17207d6a",
   "metadata": {},
   "outputs": [
    {
     "name": "stdout",
     "output_type": "stream",
     "text": [
      "522/522 [==============================] - 5s 8ms/step - loss: 2.9019 - accuracy: 0.5671\n"
     ]
    }
   ],
   "source": [
    "score = model1.evaluate(x_test, y_test)"
   ]
  },
  {
   "cell_type": "code",
   "execution_count": 17,
   "id": "cc03472f",
   "metadata": {},
   "outputs": [
    {
     "data": {
      "text/plain": [
       "array([[52, 36,  0,  0,  0,  0,  0,  0,  0,  0,  0,  0,  0,  0,  0,  0,\n",
       "         0,  0,  0,  0,  0,  0,  0,  0,  0,  0,  0,  0,  0,  0,  0,  0,\n",
       "         0,  0,  0,  0,  0,  0,  0,  0,  0,  0,  0,  0,  0,  0,  0,  0,\n",
       "         0,  0,  0,  0,  0,  0,  0,  0,  0,  0,  0,  0,  0,  0,  0,  0,\n",
       "         0,  0,  0,  0,  0,  0,  0,  0,  0,  0,  0,  0,  0,  0,  0,  0,\n",
       "         0,  0,  0,  0,  0,  0,  0,  0,  0,  0,  0,  0,  0,  0,  0,  0,\n",
       "         0,  0,  0,  0]])"
      ]
     },
     "execution_count": 17,
     "metadata": {},
     "output_type": "execute_result"
    }
   ],
   "source": [
    "x_test[1]=np.array(x_test[1])\n",
    "x_test[1].reshape(1, 100)"
   ]
  },
  {
   "cell_type": "code",
   "execution_count": 18,
   "id": "bad9ce69",
   "metadata": {},
   "outputs": [],
   "source": [
    "y_pred = np.argmax(y_pred, axis=1)\n",
    "y_test=np.argmax(y_test, axis=1)"
   ]
  },
  {
   "cell_type": "code",
   "execution_count": 19,
   "id": "219b4b0a",
   "metadata": {},
   "outputs": [
    {
     "name": "stderr",
     "output_type": "stream",
     "text": [
      "C:\\Users\\user1\\AppData\\Local\\Programs\\Python\\Python39\\lib\\site-packages\\pycm\\pycm_obj.py:951: MatplotlibDeprecationWarning: \n",
      "The set_window_title function was deprecated in Matplotlib 3.4 and will be removed two minor releases later. Use manager.set_window_title or GUI-specific methods instead.\n",
      "  fig.canvas.set_window_title(title)\n"
     ]
    },
    {
     "data": {
      "text/plain": [
       "<AxesSubplot:title={'center':'Confusion Matrix'}, xlabel='Predicted Classes', ylabel='Actual Classes'>"
      ]
     },
     "execution_count": 19,
     "metadata": {},
     "output_type": "execute_result"
    },
    {
     "data": {
      "image/png": "[encoded data removed]",
      "text/plain": [
       "<Figure size 432x288 with 2 Axes>"
      ]
     },
     "metadata": {
      "needs_background": "light"
     },
     "output_type": "display_data"
    }
   ],
   "source": [
    "from pycm import *\n",
    "cm = ConfusionMatrix(y_test, y_pred,digit=5)\n",
    "cm.relabel(mapping={0:\"B\",1:\"D\",2:\"F\",3:\"Q\",4:\"S\"})\n",
    "cm.plot(plot_lib = \"seaborn\",number_label=True)"
   ]
  },
  {
   "cell_type": "code",
   "execution_count": 20,
   "id": "2c35c92e",
   "metadata": {
    "scrolled": true
   },
   "outputs": [
    {
     "name": "stdout",
     "output_type": "stream",
     "text": [
      "0.40665546728090696\n",
      "0.5670917909107239\n"
     ]
    }
   ],
   "source": [
    "print(cm.overall_stat['F1 Macro'])\n",
    "print(cm.overall_stat['F1 Micro'])"
   ]
  },
  {
   "cell_type": "code",
   "execution_count": 21,
   "id": "935a87d7",
   "metadata": {},
   "outputs": [
    {
     "name": "stderr",
     "output_type": "stream",
     "text": [
      "C:\\Users\\user1\\AppData\\Local\\Programs\\Python\\Python39\\lib\\site-packages\\pycm\\pycm_obj.py:951: MatplotlibDeprecationWarning: \n",
      "The set_window_title function was deprecated in Matplotlib 3.4 and will be removed two minor releases later. Use manager.set_window_title or GUI-specific methods instead.\n",
      "  fig.canvas.set_window_title(title)\n"
     ]
    },
    {
     "data": {
      "text/plain": [
       "<AxesSubplot:title={'center':'Confusion Matrix'}, xlabel='Predicted Classes', ylabel='Actual Classes'>"
      ]
     },
     "execution_count": 21,
     "metadata": {},
     "output_type": "execute_result"
    },
    {
     "data": {
      "image/png": "[encoded data removed]",
      "text/plain": [
       "<Figure size 432x288 with 2 Axes>"
      ]
     },
     "metadata": {
      "needs_background": "light"
     },
     "output_type": "display_data"
    },
    {
     "data": {
      "image/png": "[encoded data removed]",
      "text/plain": [
       "<Figure size 432x288 with 2 Axes>"
      ]
     },
     "metadata": {
      "needs_background": "light"
     },
     "output_type": "display_data"
    },
    {
     "data": {
      "image/png": "[encoded data removed]",
      "text/plain": [
       "<Figure size 432x288 with 2 Axes>"
      ]
     },
     "metadata": {
      "needs_background": "light"
     },
     "output_type": "display_data"
    },
    {
     "data": {
      "image/png": "[encoded data removed]",
      "text/plain": [
       "<Figure size 432x288 with 2 Axes>"
      ]
     },
     "metadata": {
      "needs_background": "light"
     },
     "output_type": "display_data"
    },
    {
     "data": {
      "image/png": "[encoded data removed]",
      "text/plain": [
       "<Figure size 432x288 with 2 Axes>"
      ]
     },
     "metadata": {
      "needs_background": "light"
     },
     "output_type": "display_data"
    }
   ],
   "source": [
    "cm.plot(cmap=plt.cm.Blues, number_label=True, one_vs_all=True, class_name=\"B\")\n",
    "cm.plot(cmap=plt.cm.Blues, number_label=True, one_vs_all=True, class_name=\"D\")\n",
    "cm.plot(cmap=plt.cm.Blues, number_label=True, one_vs_all=True, class_name=\"F\")\n",
    "cm.plot(cmap=plt.cm.Blues, number_label=True, one_vs_all=True, class_name=\"Q\")\n",
    "cm.plot(cmap=plt.cm.Blues, number_label=True, one_vs_all=True, class_name=\"S\")"
   ]
  },
  {
   "cell_type": "code",
   "execution_count": 22,
   "id": "94c835f2",
   "metadata": {},
   "outputs": [
    {
     "data": {
      "text/plain": [
       "array(['S'], dtype='<U1')"
      ]
     },
     "execution_count": 22,
     "metadata": {},
     "output_type": "execute_result"
    }
   ],
   "source": [
    "DA = np.array(['B','D','F','Q','S'])\n",
    "a = [\"will you go\"]\n",
    "a = tokenizer.texts_to_sequences(a)\n",
    "a = np.array(a)\n",
    "a = pad_sequences(a, padding='post', maxlen=MAX_PADDING)\n",
    "prediction = model1.predict(np.array(a))\n",
    "DA[prediction.argmax(1)]"
   ]
  },
  {
   "cell_type": "code",
   "execution_count": null,
   "id": "21e93365",
   "metadata": {},
   "outputs": [],
   "source": []
  }
 ],
 "metadata": {
  "kernelspec": {
   "display_name": "Python 3 (ipykernel)",
   "language": "python",
   "name": "python3"
  },
  "language_info": {
   "codemirror_mode": {
    "name": "ipython",
    "version": 3
   },
   "file_extension": ".py",
   "mimetype": "text/x-python",
   "name": "python",
   "nbconvert_exporter": "python",
   "pygments_lexer": "ipython3",
   "version": "3.9.6"
  }
 },
 "nbformat": 4,
 "nbformat_minor": 5
}
