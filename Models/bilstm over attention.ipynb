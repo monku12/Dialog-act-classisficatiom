{
 "cells": [
  {
   "cell_type": "code",
   "execution_count": 1,
   "id": "cde896bc",
   "metadata": {},
   "outputs": [],
   "source": [
    "#Libraries\n",
    "import re\n",
    "import numpy as np\n",
    "import pandas as pd\n",
    "from matplotlib.pyplot import *\n",
    "import keras\n",
    "from keras.models import load_model\n",
    "from keras.layers import *\n",
    "from keras.preprocessing.text import Tokenizer \n",
    "from keras.preprocessing.sequence import pad_sequences\n",
    "from keras.layers import *\n",
    "from keras import backend as K\n",
    "from keras import layers\n",
    "\n",
    "\n",
    "import os\n",
    "os.environ[\"CUDA_VISIBLE_DEVICES\"]=\"-1\" "
   ]
  },
  {
   "cell_type": "code",
   "execution_count": 2,
   "id": "7eb50fd7",
   "metadata": {},
   "outputs": [],
   "source": [
    "def processed_data(data):\n",
    "    data=data.drop(columns=[\"Unnamed: 0\"])\n",
    "    data['Utterances'] = data['Utterances'].apply(lambda x: x.lower())\n",
    "    data['Utterances'] = data['Utterances'].apply(lambda x: re.sub('[^a-zA-z0-9\\s]','',x))\n",
    "\n",
    "    y = pd.get_dummies(data['Basic']).values\n",
    "\n",
    "    return data,y"
   ]
  },
  {
   "cell_type": "code",
   "execution_count": 3,
   "id": "a7747a92",
   "metadata": {},
   "outputs": [],
   "source": [
    "def DA_label_count(data):\n",
    "    label_count=data.groupby('Basic')['Basic'].agg('count')\n",
    "    label_count.to_numpy(dtype=int)\n",
    "    label_count = np.expand_dims(label_count, axis=0)\n",
    "    label_count.shape=(5,1)\n",
    "    labels=np.array(['B', 'D', 'F', 'Q', 'S'])\n",
    "    labels.shape=(5,1)\n",
    "    label_count=np.column_stack((labels,label_count))\n",
    "    df = pd.DataFrame(label_count, columns=['Label', 'Count'])\n",
    "    convert_dict = {\n",
    "                    'Label': str,\n",
    "                    'Count': int\n",
    "                   }  \n",
    "    df = df.astype(convert_dict)\n",
    "    return df"
   ]
  },
  {
   "cell_type": "code",
   "execution_count": 4,
   "id": "785c9d1b",
   "metadata": {},
   "outputs": [],
   "source": [
    "full_data = pd.read_csv('C:\\\\Users\\\\user1\\\\Documents\\\\repo\\\\dialog act RNN\\\\MRDA\\\\full_set.csv')\n",
    "MAX_PADDING = 100\n",
    "def x_value(data):\n",
    "    tokenizer = Tokenizer(num_words = 5000, split=\" \")\n",
    "    tokenizer.fit_on_texts(full_data['Utterances'].values)\n",
    "    x = tokenizer.texts_to_sequences(data['Utterances'].values)\n",
    "    x = pad_sequences(x, padding='post', maxlen=MAX_PADDING)\n",
    "    \n",
    "    return x"
   ]
  },
  {
   "cell_type": "code",
   "execution_count": 5,
   "id": "a6f32b2b",
   "metadata": {},
   "outputs": [],
   "source": [
    "train_data = pd.read_csv('C:\\\\Users\\\\user1\\\\Documents\\\\repo\\\\dialog act RNN\\\\MRDA\\\\train.csv')\n",
    "train_data,y_train = processed_data(train_data)\n",
    "x_train = x_value(train_data)\n",
    "\n",
    "val_data = pd.read_csv('C:\\\\Users\\\\user1\\\\Documents\\\\repo\\\\dialog act RNN\\\\MRDA\\\\val.csv')\n",
    "val_data,y_val = processed_data(val_data)\n",
    "x_val = x_value(val_data)\n",
    "\n",
    "test_data = pd.read_csv('C:\\\\Users\\\\user1\\\\Documents\\\\repo\\\\dialog act RNN\\\\MRDA\\\\test.csv')\n",
    "test_data,y_test = processed_data(test_data)\n",
    "x_test = x_value(test_data)"
   ]
  },
  {
   "cell_type": "code",
   "execution_count": 6,
   "id": "dad6111f",
   "metadata": {},
   "outputs": [],
   "source": [
    "MAX_LENGTH_PER_SENTENCE=100\n",
    "units = 128\n",
    "drop = 0.2\n",
    "encoder_input = keras.Input(shape=(MAX_LENGTH_PER_SENTENCE))\n",
    "\n",
    "def module(encoder_input):\n",
    "    x =layers.Embedding(input_dim=5000, \n",
    "                        output_dim=256, \n",
    "                        input_length=x_train.shape[1])(encoder_input)\n",
    "                                \n",
    "    activations = Bidirectional(LSTM(units, \n",
    "                                    dropout=0.3, \n",
    "                                    recurrent_dropout=0.2,\n",
    "                                    return_sequences=True))(x)\n",
    "\n",
    "    attention = Dense(1, activation='tanh')(activations)\n",
    "    attention = Flatten()(attention)\n",
    "    attention = Activation('softmax')(attention)\n",
    "    attention = RepeatVector(units*2)(attention)\n",
    "    attention = Permute((2, 1))(attention)\n",
    "\n",
    "    sent_representation = Multiply()([activations, attention])\n",
    "    sent_representation = Lambda(lambda xin: K.sum(xin, axis=-2), \n",
    "                                output_shape=(units*2,))(sent_representation)\n",
    "\n",
    "    reshape = Reshape((-1, 1, 256))(sent_representation)\n",
    "    flat = TimeDistributed(Flatten())(reshape)\n",
    "    dense_1 = Dense(5, activation='relu')(flat)\n",
    "    dropout_1 = Dropout(drop)(dense_1)\n",
    "\n",
    "\n",
    "    #conversation level\n",
    "    biLSTM1 = Bidirectional(LSTM(5, return_sequences='true'))(dropout_1)\n",
    "    biLSTM2 = Bidirectional(LSTM(5))(biLSTM1)\n",
    "\n",
    "    dense_2 = Dense(5, activation='relu')(biLSTM2)\n",
    "    dropout_2 = Dropout(drop)(dense_2)\n",
    "\n",
    "    # concatenate 2 final layers\n",
    "    # flatten the output of the CNN + dense + dropout so that it can be concatenated with the output of BiLSTM\n",
    "    dropout_flat = Flatten()(dropout_1)\n",
    "    # concatenating the output of CNN + dense + dropout with the output of BiLSTM + dense + dropout\n",
    "    merged_2 = concatenate([dropout_flat, dropout_2])\n",
    "    # adding a dense layer\n",
    "    dense_3 = Dense(units=5, input_shape=(1,))(merged_2)\n",
    "    # adding softmax for multiclass classification\n",
    "    output = Activation('softmax')(dense_3)\n",
    "\n",
    "    return output"
   ]
  },
  {
   "cell_type": "code",
   "execution_count": 7,
   "id": "346558e5",
   "metadata": {},
   "outputs": [
    {
     "name": "stdout",
     "output_type": "stream",
     "text": [
      "Model: \"model\"\n",
      "__________________________________________________________________________________________________\n",
      "Layer (type)                    Output Shape         Param #     Connected to                     \n",
      "==================================================================================================\n",
      "input_1 (InputLayer)            [(None, 100)]        0                                            \n",
      "__________________________________________________________________________________________________\n",
      "embedding (Embedding)           (None, 100, 256)     1280000     input_1[0][0]                    \n",
      "__________________________________________________________________________________________________\n",
      "bidirectional (Bidirectional)   (None, 100, 256)     394240      embedding[0][0]                  \n",
      "__________________________________________________________________________________________________\n",
      "dense (Dense)                   (None, 100, 1)       257         bidirectional[0][0]              \n",
      "__________________________________________________________________________________________________\n",
      "flatten (Flatten)               (None, 100)          0           dense[0][0]                      \n",
      "__________________________________________________________________________________________________\n",
      "activation (Activation)         (None, 100)          0           flatten[0][0]                    \n",
      "__________________________________________________________________________________________________\n",
      "repeat_vector (RepeatVector)    (None, 256, 100)     0           activation[0][0]                 \n",
      "__________________________________________________________________________________________________\n",
      "permute (Permute)               (None, 100, 256)     0           repeat_vector[0][0]              \n",
      "__________________________________________________________________________________________________\n",
      "multiply (Multiply)             (None, 100, 256)     0           bidirectional[0][0]              \n",
      "                                                                 permute[0][0]                    \n",
      "__________________________________________________________________________________________________\n",
      "lambda (Lambda)                 (None, 256)          0           multiply[0][0]                   \n",
      "__________________________________________________________________________________________________\n",
      "reshape (Reshape)               (None, 1, 1, 256)    0           lambda[0][0]                     \n",
      "__________________________________________________________________________________________________\n",
      "time_distributed (TimeDistribut (None, 1, 256)       0           reshape[0][0]                    \n",
      "__________________________________________________________________________________________________\n",
      "dense_1 (Dense)                 (None, 1, 5)         1285        time_distributed[0][0]           \n",
      "__________________________________________________________________________________________________\n",
      "dropout (Dropout)               (None, 1, 5)         0           dense_1[0][0]                    \n",
      "__________________________________________________________________________________________________\n",
      "bidirectional_1 (Bidirectional) (None, 1, 10)        440         dropout[0][0]                    \n",
      "__________________________________________________________________________________________________\n",
      "bidirectional_2 (Bidirectional) (None, 10)           640         bidirectional_1[0][0]            \n",
      "__________________________________________________________________________________________________\n",
      "dense_2 (Dense)                 (None, 5)            55          bidirectional_2[0][0]            \n",
      "__________________________________________________________________________________________________\n",
      "flatten_2 (Flatten)             (None, 5)            0           dropout[0][0]                    \n",
      "__________________________________________________________________________________________________\n",
      "dropout_1 (Dropout)             (None, 5)            0           dense_2[0][0]                    \n",
      "__________________________________________________________________________________________________\n",
      "concatenate (Concatenate)       (None, 10)           0           flatten_2[0][0]                  \n",
      "                                                                 dropout_1[0][0]                  \n",
      "__________________________________________________________________________________________________\n",
      "dense_3 (Dense)                 (None, 5)            55          concatenate[0][0]                \n",
      "__________________________________________________________________________________________________\n",
      "activation_1 (Activation)       (None, 5)            0           dense_3[0][0]                    \n",
      "==================================================================================================\n",
      "Total params: 1,676,972\n",
      "Trainable params: 1,676,972\n",
      "Non-trainable params: 0\n",
      "__________________________________________________________________________________________________\n"
     ]
    }
   ],
   "source": [
    "model = keras.Model(inputs=[encoder_input], outputs=[module(encoder_input)])\n",
    "model.compile(loss='categorical_crossentropy',\n",
    "              optimizer='adam',\n",
    "              metrics=['accuracy'])\n",
    "model.summary()"
   ]
  },
  {
   "cell_type": "code",
   "execution_count": 8,
   "id": "56b43817",
   "metadata": {},
   "outputs": [],
   "source": [
    "early_stopping = keras.callbacks.EarlyStopping(monitor='accuracy', \n",
    "                                               mode='auto', \n",
    "                                               patience=1, \n",
    "                                               verbose=1)"
   ]
  },
  {
   "cell_type": "code",
   "execution_count": 9,
   "id": "324a2831",
   "metadata": {},
   "outputs": [
    {
     "name": "stdout",
     "output_type": "stream",
     "text": [
      "Epoch 1/100\n",
      "2346/2346 [==============================] - 1150s 487ms/step - loss: 0.9240 - accuracy: 0.6469 - val_loss: 0.7780 - val_accuracy: 0.6896\n",
      "Epoch 2/100\n",
      "2346/2346 [==============================] - 1180s 503ms/step - loss: 0.7605 - accuracy: 0.7111 - val_loss: 0.7408 - val_accuracy: 0.7326\n",
      "Epoch 3/100\n",
      "2346/2346 [==============================] - 1273s 543ms/step - loss: 0.7174 - accuracy: 0.7331 - val_loss: 0.7249 - val_accuracy: 0.7317\n",
      "Epoch 4/100\n",
      "2346/2346 [==============================] - 1361s 580ms/step - loss: 0.6889 - accuracy: 0.7473 - val_loss: 0.7218 - val_accuracy: 0.7412\n",
      "Epoch 5/100\n",
      "2346/2346 [==============================] - 1423s 606ms/step - loss: 0.6934 - accuracy: 0.7461 - val_loss: 0.7110 - val_accuracy: 0.7486\n",
      "Epoch 00005: early stopping\n"
     ]
    },
    {
     "data": {
      "text/plain": [
       "<keras.callbacks.History at 0x11fa189fdc0>"
      ]
     },
     "execution_count": 9,
     "metadata": {},
     "output_type": "execute_result"
    }
   ],
   "source": [
    "model.fit(x_train, y_train, \n",
    "          epochs=100, \n",
    "          batch_size=32, \n",
    "          verbose=1,\n",
    "          callbacks=[early_stopping],\n",
    "          validation_data=(x_val, y_val))"
   ]
  },
  {
   "cell_type": "code",
   "execution_count": 10,
   "id": "31a05504",
   "metadata": {},
   "outputs": [
    {
     "name": "stderr",
     "output_type": "stream",
     "text": [
      "C:\\Users\\user1\\AppData\\Local\\Programs\\Python\\Python39\\lib\\site-packages\\keras\\utils\\generic_utils.py:494: CustomMaskWarning: Custom mask layers require a config and must override get_config. When loading, the custom mask layer must be passed to the custom_objects argument.\n",
      "  warnings.warn('Custom mask layers require a config and must override '\n"
     ]
    }
   ],
   "source": [
    "model.save('SAVED_MODEL.h5')"
   ]
  },
  {
   "cell_type": "code",
   "execution_count": 11,
   "id": "bf2864d3",
   "metadata": {},
   "outputs": [],
   "source": [
    "saved_model = load_model('SAVED_MODEL.h5')"
   ]
  },
  {
   "cell_type": "code",
   "execution_count": 12,
   "id": "48aec84d",
   "metadata": {},
   "outputs": [
    {
     "name": "stdout",
     "output_type": "stream",
     "text": [
      "522/522 [==============================] - 60s 113ms/step - loss: 0.6997 - accuracy: 0.7529\n"
     ]
    },
    {
     "data": {
      "text/plain": [
       "[0.6997259855270386, 0.7529489398002625]"
      ]
     },
     "execution_count": 12,
     "metadata": {},
     "output_type": "execute_result"
    }
   ],
   "source": [
    "saved_model.evaluate(x_test,y_test)"
   ]
  },
  {
   "cell_type": "code",
   "execution_count": 13,
   "id": "7b4e9fca",
   "metadata": {},
   "outputs": [],
   "source": [
    "y_pred = saved_model.predict(x_test)"
   ]
  },
  {
   "cell_type": "code",
   "execution_count": 14,
   "id": "dc4dd1a1",
   "metadata": {},
   "outputs": [
    {
     "name": "stdout",
     "output_type": "stream",
     "text": [
      "Confusion Matrix\n",
      "\n",
      "[[1936    0   22    1  193]\n",
      " [ 111 1166  101   50  911]\n",
      " [ 197   36  875    1  299]\n",
      " [ 259   44    6  420  502]\n",
      " [ 864  395   46   88 8178]]\n"
     ]
    }
   ],
   "source": [
    "y_pred = np.argmax(y_pred, axis=1)\n",
    "y_test = np.argmax(y_test, axis=1)\n",
    "\n",
    "\n",
    "from sklearn.metrics import confusion_matrix\n",
    "confusion = confusion_matrix(y_test, y_pred)\n",
    "print('Confusion Matrix\\n')\n",
    "print(confusion)"
   ]
  },
  {
   "cell_type": "code",
   "execution_count": 15,
   "id": "f337a37a",
   "metadata": {},
   "outputs": [
    {
     "data": {
      "image/png": "[encoded data removed]",
      "text/plain": [
       "<Figure size 432x288 with 2 Axes>"
      ]
     },
     "metadata": {
      "needs_background": "light"
     },
     "output_type": "display_data"
    }
   ],
   "source": [
    "import matplotlib.pyplot as plt\n",
    "import seaborn as sns\n",
    "\n",
    "ax = sns.heatmap(confusion, annot=True, cmap='Blues')\n",
    "\n",
    "ax.set_title('Confusion Matrix\\n\\n')\n",
    "ax.set_xlabel('\\nPredicted Values')\n",
    "ax.set_ylabel('Actual Values ')\n",
    "\n",
    "ax.xaxis.set_ticklabels(['B','D','F','Q','S'])\n",
    "ax.yaxis.set_ticklabels(['B','D','F','Q','S'])\n",
    "\n",
    "## Display the visualization of the Confusion Matrix.\n",
    "plt.show()"
   ]
  },
  {
   "cell_type": "code",
   "execution_count": 16,
   "id": "0df08754",
   "metadata": {},
   "outputs": [
    {
     "name": "stdout",
     "output_type": "stream",
     "text": [
      "F1 score(macro) 0.6601351396329971\n",
      "F1 score(micro) 0.752948925214059\n"
     ]
    }
   ],
   "source": [
    "from sklearn.metrics import f1_score\n",
    "print(\"F1 score(macro)\",f1_score(y_test, y_pred, average='macro'))\n",
    "print(\"F1 score(micro)\",f1_score(y_test, y_pred, average='micro'))"
   ]
  },
  {
   "cell_type": "code",
   "execution_count": 17,
   "id": "6185cdb3",
   "metadata": {},
   "outputs": [
    {
     "name": "stdout",
     "output_type": "stream",
     "text": [
      "['Q']\n"
     ]
    }
   ],
   "source": [
    "DA = np.array(['B','D','F','Q','S'])\n",
    "a = [\"will you go\"]\n",
    "tokenizer = Tokenizer(num_words = 5000, split=\" \")\n",
    "full_data = pd.read_csv('C:\\\\Users\\\\user1\\\\Documents\\\\repo\\\\dialog act RNN\\\\MRDA\\\\full_set.csv')\n",
    "tokenizer.fit_on_texts(full_data['Utterances'].values)\n",
    "a = tokenizer.texts_to_sequences(a)\n",
    "a = np.array(a)\n",
    "a = pad_sequences(a, padding='post', maxlen=MAX_LENGTH_PER_SENTENCE)\n",
    "prediction = saved_model.predict(np.array(a))\n",
    "print(DA[prediction.argmax(1)])"
   ]
  },
  {
   "cell_type": "code",
   "execution_count": null,
   "id": "a5e95872",
   "metadata": {},
   "outputs": [],
   "source": []
  }
 ],
 "metadata": {
  "kernelspec": {
   "display_name": "Python 3 (ipykernel)",
   "language": "python",
   "name": "python3"
  },
  "language_info": {
   "codemirror_mode": {
    "name": "ipython",
    "version": 3
   },
   "file_extension": ".py",
   "mimetype": "text/x-python",
   "name": "python",
   "nbconvert_exporter": "python",
   "pygments_lexer": "ipython3",
   "version": "3.9.6"
  }
 },
 "nbformat": 4,
 "nbformat_minor": 5
}
