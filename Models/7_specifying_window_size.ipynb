{
 "cells": [
  {
   "cell_type": "code",
   "execution_count": 1,
   "id": "005640c6",
   "metadata": {},
   "outputs": [],
   "source": [
    "#Libraries\n",
    "import re\n",
    "import numpy as np\n",
    "import pandas as pd\n",
    "from matplotlib.pyplot import *\n",
    "import keras\n",
    "from keras.models import load_model\n",
    "from keras.layers import *\n",
    "from keras.preprocessing.text import Tokenizer \n",
    "from keras.preprocessing.sequence import pad_sequences\n",
    "from keras.layers import *\n",
    "from keras import backend as K\n",
    "from keras import layers\n",
    "\n",
    "\n",
    "import os\n",
    "os.environ[\"CUDA_VISIBLE_DEVICES\"]=\"-1\" "
   ]
  },
  {
   "cell_type": "code",
   "execution_count": 2,
   "id": "effba771",
   "metadata": {},
   "outputs": [],
   "source": [
    "def processed_data(data):\n",
    "    data=data.drop(columns=[\"Unnamed: 0\"])\n",
    "    data['Utterances'] = data['Utterances'].apply(lambda x: x.lower())\n",
    "    data['Utterances'] = data['Utterances'].apply(lambda x: re.sub('[^a-zA-z0-9\\s]','',x))\n",
    "\n",
    "    y = pd.get_dummies(data['Basic']).values\n",
    "\n",
    "    return data,y"
   ]
  },
  {
   "cell_type": "code",
   "execution_count": 3,
   "id": "3327f24f",
   "metadata": {},
   "outputs": [],
   "source": [
    "def DA_label_count(data):\n",
    "    label_count=data.groupby('Basic')['Basic'].agg('count')\n",
    "    label_count.to_numpy(dtype=int)\n",
    "    label_count = np.expand_dims(label_count, axis=0)\n",
    "    label_count.shape=(5,1)\n",
    "    labels=np.array(['B', 'D', 'F', 'Q', 'S'])\n",
    "    labels.shape=(5,1)\n",
    "    label_count=np.column_stack((labels,label_count))\n",
    "    df = pd.DataFrame(label_count, columns=['Label', 'Count'])\n",
    "    convert_dict = {\n",
    "                    'Label': str,\n",
    "                    'Count': int\n",
    "                   }  \n",
    "    df = df.astype(convert_dict)\n",
    "    return df"
   ]
  },
  {
   "cell_type": "code",
   "execution_count": 4,
   "id": "52668aa6",
   "metadata": {},
   "outputs": [],
   "source": [
    "full_data = pd.read_csv('C:\\\\Users\\\\user1\\\\Documents\\\\repo\\\\dialog act RNN\\\\MRDA\\\\full_set.csv')\n",
    "MAX_PADDING = 100\n",
    "def x_value(data):\n",
    "    tokenizer = Tokenizer(num_words = 5000, split=\" \")\n",
    "    tokenizer.fit_on_texts(full_data['Utterances'].values)\n",
    "    x = tokenizer.texts_to_sequences(data['Utterances'].values)\n",
    "    x = pad_sequences(x, padding='post', maxlen=MAX_PADDING)\n",
    "    \n",
    "    return x"
   ]
  },
  {
   "cell_type": "code",
   "execution_count": 5,
   "id": "46a19f4d",
   "metadata": {},
   "outputs": [],
   "source": [
    "train_data = pd.read_csv('C:\\\\Users\\\\user1\\\\Documents\\\\repo\\\\dialog act RNN\\\\MRDA\\\\train.csv')\n",
    "train_data,y_train = processed_data(train_data)\n",
    "x_train = x_value(train_data)\n",
    "\n",
    "val_data = pd.read_csv('C:\\\\Users\\\\user1\\\\Documents\\\\repo\\\\dialog act RNN\\\\MRDA\\\\val.csv')\n",
    "val_data,y_val = processed_data(val_data)\n",
    "x_val = x_value(val_data)\n",
    "\n",
    "test_data = pd.read_csv('C:\\\\Users\\\\user1\\\\Documents\\\\repo\\\\dialog act RNN\\\\MRDA\\\\test.csv')\n",
    "test_data,y_test = processed_data(test_data)\n",
    "x_test = x_value(test_data)"
   ]
  },
  {
   "cell_type": "code",
   "execution_count": 6,
   "id": "5fc2cbe7",
   "metadata": {},
   "outputs": [],
   "source": [
    "MAX_LENGTH_PER_SENTENCE=100\n",
    "units = 128\n",
    "drop = 0.2\n",
    "encoder_input = keras.Input(shape=(MAX_LENGTH_PER_SENTENCE))\n",
    "\n",
    "def module(encoder_input):\n",
    "    x =layers.Embedding(input_dim=5000, \n",
    "                        output_dim=256, \n",
    "                        input_length=x_train.shape[1])(encoder_input)\n",
    "                                \n",
    "    activations = Bidirectional(LSTM(units, \n",
    "                                    dropout=0.3, \n",
    "                                    recurrent_dropout=0.2,\n",
    "                                    return_sequences=True))(x)\n",
    "\n",
    "    attention = Dense(1, activation='tanh')(activations)\n",
    "    attention = Flatten()(attention)\n",
    "    attention = Activation('softmax')(attention)\n",
    "    attention = RepeatVector(units*2)(attention)\n",
    "    attention = Permute((2, 1))(attention)\n",
    "\n",
    "    sent_representation = Multiply()([activations, attention])\n",
    "    sent_representation = Lambda(lambda xin: K.sum(xin, axis=-2), \n",
    "                                output_shape=(units*2,))(sent_representation)\n",
    "\n",
    "    \n",
    "    reshape = Reshape((-1, 1, 256))(sent_representation)\n",
    "    flat = TimeDistributed(Flatten())(reshape)\n",
    "    dense_1 = Dense(5, activation='relu')(flat)\n",
    "    dropout_1 = Dropout(drop)(dense_1)\n",
    "\n",
    "\n",
    "    #conversation level\n",
    "    biLSTM1 = Bidirectional(LSTM(units = 256,\n",
    "                                 input_shape = (2, 256),\n",
    "                                 return_sequences='true'))(dropout_1)\n",
    "    biLSTM2 = Bidirectional(LSTM(5))(biLSTM1)\n",
    "\n",
    "    dense_2 = Dense(5, activation='relu')(biLSTM2)\n",
    "    dropout_2 = Dropout(drop)(dense_2)\n",
    "\n",
    "    # concatenate 2 final layers\n",
    "    # flatten the output of the attention(word level) + dense + dropout so that it can be concatenated with the output of BiLSTM\n",
    "    dropout_flat = Flatten()(dropout_1)\n",
    "    # concatenating the output of attention(word level) + dense + dropout with the output of BiLSTM + dense + dropout\n",
    "    merged_2 = concatenate([dropout_flat, dropout_2])\n",
    "    # adding a dense layer\n",
    "    dense_3 = Dense(units=5, input_shape=(1,))(merged_2)\n",
    "    # adding softmax for multiclass classification\n",
    "    output = Activation('softmax')(dense_3)\n",
    "\n",
    "    return output"
   ]
  },
  {
   "cell_type": "code",
   "execution_count": 7,
   "id": "c591bb34",
   "metadata": {
    "scrolled": true
   },
   "outputs": [
    {
     "name": "stdout",
     "output_type": "stream",
     "text": [
      "Model: \"model\"\n",
      "__________________________________________________________________________________________________\n",
      "Layer (type)                    Output Shape         Param #     Connected to                     \n",
      "==================================================================================================\n",
      "input_1 (InputLayer)            [(None, 100)]        0                                            \n",
      "__________________________________________________________________________________________________\n",
      "embedding (Embedding)           (None, 100, 256)     1280000     input_1[0][0]                    \n",
      "__________________________________________________________________________________________________\n",
      "bidirectional (Bidirectional)   (None, 100, 256)     394240      embedding[0][0]                  \n",
      "__________________________________________________________________________________________________\n",
      "dense (Dense)                   (None, 100, 1)       257         bidirectional[0][0]              \n",
      "__________________________________________________________________________________________________\n",
      "flatten (Flatten)               (None, 100)          0           dense[0][0]                      \n",
      "__________________________________________________________________________________________________\n",
      "activation (Activation)         (None, 100)          0           flatten[0][0]                    \n",
      "__________________________________________________________________________________________________\n",
      "repeat_vector (RepeatVector)    (None, 256, 100)     0           activation[0][0]                 \n",
      "__________________________________________________________________________________________________\n",
      "permute (Permute)               (None, 100, 256)     0           repeat_vector[0][0]              \n",
      "__________________________________________________________________________________________________\n",
      "multiply (Multiply)             (None, 100, 256)     0           bidirectional[0][0]              \n",
      "                                                                 permute[0][0]                    \n",
      "__________________________________________________________________________________________________\n",
      "lambda (Lambda)                 (None, 256)          0           multiply[0][0]                   \n",
      "__________________________________________________________________________________________________\n",
      "reshape (Reshape)               (None, 1, 1, 256)    0           lambda[0][0]                     \n",
      "__________________________________________________________________________________________________\n",
      "time_distributed (TimeDistribut (None, 1, 256)       0           reshape[0][0]                    \n",
      "__________________________________________________________________________________________________\n",
      "dense_1 (Dense)                 (None, 1, 5)         1285        time_distributed[0][0]           \n",
      "__________________________________________________________________________________________________\n",
      "dropout (Dropout)               (None, 1, 5)         0           dense_1[0][0]                    \n",
      "__________________________________________________________________________________________________\n",
      "bidirectional_1 (Bidirectional) (None, 1, 512)       536576      dropout[0][0]                    \n",
      "__________________________________________________________________________________________________\n",
      "bidirectional_2 (Bidirectional) (None, 10)           20720       bidirectional_1[0][0]            \n",
      "__________________________________________________________________________________________________\n",
      "dense_2 (Dense)                 (None, 5)            55          bidirectional_2[0][0]            \n",
      "__________________________________________________________________________________________________\n",
      "flatten_2 (Flatten)             (None, 5)            0           dropout[0][0]                    \n",
      "__________________________________________________________________________________________________\n",
      "dropout_1 (Dropout)             (None, 5)            0           dense_2[0][0]                    \n",
      "__________________________________________________________________________________________________\n",
      "concatenate (Concatenate)       (None, 10)           0           flatten_2[0][0]                  \n",
      "                                                                 dropout_1[0][0]                  \n",
      "__________________________________________________________________________________________________\n",
      "dense_3 (Dense)                 (None, 5)            55          concatenate[0][0]                \n",
      "__________________________________________________________________________________________________\n",
      "activation_1 (Activation)       (None, 5)            0           dense_3[0][0]                    \n",
      "==================================================================================================\n",
      "Total params: 2,233,188\n",
      "Trainable params: 2,233,188\n",
      "Non-trainable params: 0\n",
      "__________________________________________________________________________________________________\n"
     ]
    }
   ],
   "source": [
    "model = keras.Model(inputs=[encoder_input], outputs=[module(encoder_input)])\n",
    "model.compile(loss='categorical_crossentropy',\n",
    "              optimizer='adam',\n",
    "              metrics=['accuracy'])\n",
    "model.summary()"
   ]
  },
  {
   "cell_type": "code",
   "execution_count": 8,
   "id": "dab3320b",
   "metadata": {},
   "outputs": [],
   "source": [
    "early_stopping = keras.callbacks.EarlyStopping(monitor='accuracy', \n",
    "                                               mode='auto', \n",
    "                                               patience=1, \n",
    "                                               verbose=1)"
   ]
  },
  {
   "cell_type": "code",
   "execution_count": 9,
   "id": "e034c0c8",
   "metadata": {},
   "outputs": [
    {
     "name": "stdout",
     "output_type": "stream",
     "text": [
      "Epoch 1/100\n",
      "2346/2346 [==============================] - 1226s 519ms/step - loss: 0.8763 - accuracy: 0.6853 - val_loss: 0.7371 - val_accuracy: 0.7295\n",
      "Epoch 2/100\n",
      "2346/2346 [==============================] - 1255s 535ms/step - loss: 0.6919 - accuracy: 0.7497 - val_loss: 0.6775 - val_accuracy: 0.7568\n",
      "Epoch 3/100\n",
      "2346/2346 [==============================] - 1248s 532ms/step - loss: 0.6397 - accuracy: 0.7687 - val_loss: 0.6592 - val_accuracy: 0.7634\n",
      "Epoch 4/100\n",
      "2346/2346 [==============================] - 1244s 530ms/step - loss: 0.6128 - accuracy: 0.7772 - val_loss: 0.6715 - val_accuracy: 0.7554\n",
      "Epoch 5/100\n",
      "2346/2346 [==============================] - 1310s 558ms/step - loss: 0.5894 - accuracy: 0.7839 - val_loss: 0.6639 - val_accuracy: 0.7639\n",
      "Epoch 6/100\n",
      "2346/2346 [==============================] - 1296s 553ms/step - loss: 0.5708 - accuracy: 0.7900 - val_loss: 0.6673 - val_accuracy: 0.7646\n",
      "Epoch 7/100\n",
      "2346/2346 [==============================] - 1343s 573ms/step - loss: 0.5552 - accuracy: 0.7959 - val_loss: 0.6592 - val_accuracy: 0.7640\n",
      "Epoch 8/100\n",
      "2346/2346 [==============================] - 1400s 597ms/step - loss: 0.5376 - accuracy: 0.8016 - val_loss: 0.6693 - val_accuracy: 0.7639\n",
      "Epoch 9/100\n",
      "2346/2346 [==============================] - 1455s 620ms/step - loss: 0.5216 - accuracy: 0.8073 - val_loss: 0.6740 - val_accuracy: 0.7614\n",
      "Epoch 10/100\n",
      "2346/2346 [==============================] - 1495s 637ms/step - loss: 0.5128 - accuracy: 0.8098 - val_loss: 0.6840 - val_accuracy: 0.7619\n",
      "Epoch 11/100\n",
      "2346/2346 [==============================] - 1548s 660ms/step - loss: 0.4935 - accuracy: 0.8190 - val_loss: 0.6959 - val_accuracy: 0.7634\n",
      "Epoch 12/100\n",
      "2346/2346 [==============================] - 1555s 663ms/step - loss: 0.4805 - accuracy: 0.8253 - val_loss: 0.7135 - val_accuracy: 0.7614\n",
      "Epoch 13/100\n",
      "2346/2346 [==============================] - 1592s 679ms/step - loss: 0.4725 - accuracy: 0.8259 - val_loss: 0.7173 - val_accuracy: 0.7602\n",
      "Epoch 14/100\n",
      "2346/2346 [==============================] - 1632s 696ms/step - loss: 0.4595 - accuracy: 0.8307 - val_loss: 0.7273 - val_accuracy: 0.7578\n",
      "Epoch 15/100\n",
      "2346/2346 [==============================] - 1670s 712ms/step - loss: 0.4544 - accuracy: 0.8328 - val_loss: 0.7580 - val_accuracy: 0.7600\n",
      "Epoch 16/100\n",
      "2346/2346 [==============================] - 1714s 730ms/step - loss: 0.4460 - accuracy: 0.8364 - val_loss: 0.7784 - val_accuracy: 0.7593\n",
      "Epoch 17/100\n",
      "2346/2346 [==============================] - 1749s 746ms/step - loss: 0.4452 - accuracy: 0.8359 - val_loss: 0.7543 - val_accuracy: 0.7532\n",
      "Epoch 00017: early stopping\n"
     ]
    },
    {
     "data": {
      "text/plain": [
       "<keras.callbacks.History at 0x1ec7215e550>"
      ]
     },
     "execution_count": 9,
     "metadata": {},
     "output_type": "execute_result"
    }
   ],
   "source": [
    "model.fit(x_train, y_train, \n",
    "          epochs=100, \n",
    "          batch_size=32, \n",
    "          verbose=1,\n",
    "          callbacks=[early_stopping],\n",
    "          validation_data=(x_val, y_val))"
   ]
  },
  {
   "cell_type": "code",
   "execution_count": 10,
   "id": "ee7a927d",
   "metadata": {},
   "outputs": [
    {
     "name": "stderr",
     "output_type": "stream",
     "text": [
      "C:\\Users\\user1\\AppData\\Local\\Programs\\Python\\Python39\\lib\\site-packages\\keras\\utils\\generic_utils.py:494: CustomMaskWarning: Custom mask layers require a config and must override get_config. When loading, the custom mask layer must be passed to the custom_objects argument.\n",
      "  warnings.warn('Custom mask layers require a config and must override '\n"
     ]
    }
   ],
   "source": [
    "model.save('SAVED_MODEL.h5')"
   ]
  },
  {
   "cell_type": "code",
   "execution_count": 11,
   "id": "a5f1f8c0",
   "metadata": {},
   "outputs": [],
   "source": [
    "saved_model = load_model('SAVED_MODEL.h5')"
   ]
  },
  {
   "cell_type": "code",
   "execution_count": 12,
   "id": "4e283272",
   "metadata": {},
   "outputs": [
    {
     "name": "stdout",
     "output_type": "stream",
     "text": [
      "522/522 [==============================] - 89s 168ms/step - loss: 0.7228 - accuracy: 0.7631ETA: 0s - loss: 0.7228 - accuracy: 0.\n"
     ]
    },
    {
     "data": {
      "text/plain": [
       "[0.7227932214736938, 0.7631279826164246]"
      ]
     },
     "execution_count": 12,
     "metadata": {},
     "output_type": "execute_result"
    }
   ],
   "source": [
    "saved_model.evaluate(x_test,y_test)"
   ]
  },
  {
   "cell_type": "code",
   "execution_count": 13,
   "id": "c92f9ea5",
   "metadata": {},
   "outputs": [],
   "source": [
    "y_pred = saved_model.predict(x_test)"
   ]
  },
  {
   "cell_type": "code",
   "execution_count": 14,
   "id": "5e593205",
   "metadata": {},
   "outputs": [
    {
     "name": "stdout",
     "output_type": "stream",
     "text": [
      "Confusion Matrix\n",
      "\n",
      "[[1708    3   19    0  422]\n",
      " [  63 1241  137   97  801]\n",
      " [ 155   88 1054    0  111]\n",
      " [  38   55    0  496  642]\n",
      " [ 608  442   21  254 8246]]\n"
     ]
    }
   ],
   "source": [
    "y_pred = np.argmax(y_pred, axis=1)\n",
    "y_test = np.argmax(y_test, axis=1)\n",
    "\n",
    "\n",
    "from sklearn.metrics import confusion_matrix\n",
    "confusion = confusion_matrix(y_test, y_pred)\n",
    "print('Confusion Matrix\\n')\n",
    "print(confusion)"
   ]
  },
  {
   "cell_type": "code",
   "execution_count": 15,
   "id": "dd1d5b62",
   "metadata": {},
   "outputs": [
    {
     "data": {
      "image/png": "[encoded data removed]",
      "text/plain": [
       "<Figure size 432x288 with 2 Axes>"
      ]
     },
     "metadata": {
      "needs_background": "light"
     },
     "output_type": "display_data"
    }
   ],
   "source": [
    "import matplotlib.pyplot as plt\n",
    "import seaborn as sns\n",
    "\n",
    "ax = sns.heatmap(confusion, annot=True, cmap='Blues')\n",
    "\n",
    "ax.set_title('Confusion Matrix\\n\\n')\n",
    "ax.set_xlabel('\\nPredicted Values')\n",
    "ax.set_ylabel('Actual Values ')\n",
    "\n",
    "ax.xaxis.set_ticklabels(['B','D','F','Q','S'])\n",
    "ax.yaxis.set_ticklabels(['B','D','F','Q','S'])\n",
    "\n",
    "## Display the visualization of the Confusion Matrix.\n",
    "plt.show()"
   ]
  },
  {
   "cell_type": "code",
   "execution_count": 16,
   "id": "36611943",
   "metadata": {},
   "outputs": [
    {
     "name": "stdout",
     "output_type": "stream",
     "text": [
      "F1 score(macro) 0.6855997662874336\n",
      "F1 score(micro) 0.7631279564097958\n"
     ]
    }
   ],
   "source": [
    "from sklearn.metrics import f1_score\n",
    "print(\"F1 score(macro)\",f1_score(y_test, y_pred, average='macro'))\n",
    "print(\"F1 score(micro)\",f1_score(y_test, y_pred, average='micro'))"
   ]
  },
  {
   "cell_type": "code",
   "execution_count": 17,
   "id": "76d87de9",
   "metadata": {},
   "outputs": [
    {
     "name": "stdout",
     "output_type": "stream",
     "text": [
      "['Q']\n"
     ]
    }
   ],
   "source": [
    "DA = np.array(['B','D','F','Q','S'])\n",
    "a = [\"will you go\"]\n",
    "tokenizer = Tokenizer(num_words = 5000, split=\" \")\n",
    "full_data = pd.read_csv('C:\\\\Users\\\\user1\\\\Documents\\\\repo\\\\dialog act RNN\\\\MRDA\\\\full_set.csv')\n",
    "tokenizer.fit_on_texts(full_data['Utterances'].values)\n",
    "a = tokenizer.texts_to_sequences(a)\n",
    "a = np.array(a)\n",
    "a = pad_sequences(a, padding='post', maxlen=MAX_LENGTH_PER_SENTENCE)\n",
    "prediction = saved_model.predict(np.array(a))\n",
    "print(DA[prediction.argmax(1)])"
   ]
  }
 ],
 "metadata": {
  "kernelspec": {
   "display_name": "Python 3 (ipykernel)",
   "language": "python",
   "name": "python3"
  },
  "language_info": {
   "codemirror_mode": {
    "name": "ipython",
    "version": 3
   },
   "file_extension": ".py",
   "mimetype": "text/x-python",
   "name": "python",
   "nbconvert_exporter": "python",
   "pygments_lexer": "ipython3",
   "version": "3.9.6"
  }
 },
 "nbformat": 4,
 "nbformat_minor": 5
}
