{
  "cells": [
    {
      "cell_type": "code",
      "execution_count": null,
      "metadata": {
        "id": "kir8XTZZdNnS"
      },
      "outputs": [],
      "source": [
        "import numpy as np\n",
        "import pandas as pd\n",
        "import keras\n",
        "import tensorflow as tf\n",
        "from keras.layers import *\n",
        "import tensorflow_hub as hub\n",
        "#!pip install tensorflow_text\n",
        "import tensorflow_text as text\n",
        "import matplotlib.pyplot as plt\n",
        "import matplotlib"
      ]
    },
    {
      "cell_type": "code",
      "execution_count": 2,
      "metadata": {
        "id": "nmKloo9ueGtw"
      },
      "outputs": [],
      "source": [
        "train_df = pd.read_csv('train.csv')\n",
        "val_df = pd.read_csv('test.csv')\n",
        "test_df = pd.read_csv('val.csv')\n",
        "\n",
        "train_df = train_df.drop(['Unnamed: 0'],axis=1)\n",
        "test_df = test_df.drop(['Unnamed: 0'],axis=1)\n",
        "val_df = val_df.drop(['Unnamed: 0'],axis=1)"
      ]
    },
    {
      "cell_type": "code",
      "execution_count": 3,
      "metadata": {
        "id": "GB72fYRueGwO"
      },
      "outputs": [],
      "source": [
        "x_train = train_df['Utterances'].to_numpy()\n",
        "x_train = np.asarray(x_train).astype(str)\n",
        "y_train = pd.get_dummies(train_df['Basic']).values\n",
        "y_train = np.asarray(y_train).astype('float32')\n",
        "\n",
        "x_val = val_df['Utterances'].to_numpy()\n",
        "x_val = np.asarray(x_val).astype(str)\n",
        "y_val = pd.get_dummies(val_df['Basic']).values\n",
        "y_val = np.asarray(y_val).astype('float32')\n",
        "\n",
        "x_test = test_df['Utterances'].to_numpy()\n",
        "x_test = np.asarray(x_test).astype(str)\n",
        "y_test = pd.get_dummies(test_df['Basic']).values\n",
        "y_test = np.asarray(y_test).astype('float32')"
      ]
    },
    {
      "cell_type": "code",
      "execution_count": 4,
      "metadata": {
        "id": "uU4LBmoteGyp"
      },
      "outputs": [],
      "source": [
        "bert_preprocess = hub.KerasLayer(\"https://tfhub.dev/tensorflow/bert_en_uncased_preprocess/3\")\n",
        "bert_encoder = hub.KerasLayer(\"https://tfhub.dev/tensorflow/bert_en_uncased_L-12_H-768_A-12/4\")"
      ]
    },
    {
      "cell_type": "code",
      "execution_count": 12,
      "metadata": {
        "id": "u-CkOz20eG3m"
      },
      "outputs": [],
      "source": [
        "### Bert encoding layers\n",
        "text_input = Input(shape=(),dtype=tf.string,name='Text')\n",
        "preprocess_text = bert_preprocess(text_input)\n",
        "encode_output = bert_encoder(preprocess_text)['encoder_outputs'][11]#output of the last encoded layer\n",
        "\n",
        "### bilstm\n",
        "bilstm = Bidirectional(CuDNNLSTM(\n",
        "    units=128,\n",
        "    return_sequences=False))(encode_output)\n",
        "\n",
        "###Output\n",
        "output = Dense(5,activation='softmax')(bilstm)"
      ]
    },
    {
      "cell_type": "code",
      "execution_count": 13,
      "metadata": {
        "id": "rEisCeN-eG6S"
      },
      "outputs": [],
      "source": [
        "model=keras.Model(text_input,output)"
      ]
    },
    {
      "cell_type": "code",
      "execution_count": 14,
      "metadata": {
        "colab": {
          "base_uri": "https://localhost:8080/"
        },
        "id": "LAdTCRdUhGyp",
        "outputId": "4718080e-8f05-4b3f-b703-768e879386d4"
      },
      "outputs": [
        {
          "name": "stdout",
          "output_type": "stream",
          "text": [
            "Model: \"model_1\"\n",
            "__________________________________________________________________________________________________\n",
            " Layer (type)                   Output Shape         Param #     Connected to                     \n",
            "==================================================================================================\n",
            " Text (InputLayer)              [(None,)]            0           []                               \n",
            "                                                                                                  \n",
            " keras_layer (KerasLayer)       {'input_word_ids':   0           ['Text[0][0]']                   \n",
            "                                (None, 128),                                                      \n",
            "                                 'input_mask': (Non                                               \n",
            "                                e, 128),                                                          \n",
            "                                 'input_type_ids':                                                \n",
            "                                (None, 128)}                                                      \n",
            "                                                                                                  \n",
            " keras_layer_1 (KerasLayer)     {'default': (None,   109482241   ['keras_layer[2][0]',            \n",
            "                                768),                             'keras_layer[2][1]',            \n",
            "                                 'encoder_outputs':               'keras_layer[2][2]']            \n",
            "                                 [(None, 128, 768),                                               \n",
            "                                 (None, 128, 768),                                                \n",
            "                                 (None, 128, 768),                                                \n",
            "                                 (None, 128, 768),                                                \n",
            "                                 (None, 128, 768),                                                \n",
            "                                 (None, 128, 768),                                                \n",
            "                                 (None, 128, 768),                                                \n",
            "                                 (None, 128, 768),                                                \n",
            "                                 (None, 128, 768),                                                \n",
            "                                 (None, 128, 768),                                                \n",
            "                                 (None, 128, 768),                                                \n",
            "                                 (None, 128, 768)],                                               \n",
            "                                 'pooled_output': (                                               \n",
            "                                None, 768),                                                       \n",
            "                                 'sequence_output':                                               \n",
            "                                 (None, 128, 768)}                                                \n",
            "                                                                                                  \n",
            " bidirectional_1 (Bidirectional  (None, 256)         919552      ['keras_layer_1[2][12]']         \n",
            " )                                                                                                \n",
            "                                                                                                  \n",
            " dense_1 (Dense)                (None, 5)            1285        ['bidirectional_1[0][0]']        \n",
            "                                                                                                  \n",
            "==================================================================================================\n",
            "Total params: 110,403,078\n",
            "Trainable params: 920,837\n",
            "Non-trainable params: 109,482,241\n",
            "__________________________________________________________________________________________________\n"
          ]
        }
      ],
      "source": [
        "model.summary()"
      ]
    },
    {
      "cell_type": "code",
      "execution_count": 15,
      "metadata": {
        "id": "Uan5fsuueG-M"
      },
      "outputs": [],
      "source": [
        "model.compile(loss='categorical_crossentropy',\n",
        "              optimizer='adam',\n",
        "              metrics=['accuracy'])"
      ]
    },
    {
      "cell_type": "code",
      "execution_count": 16,
      "metadata": {
        "id": "O0WUYq14hJGY"
      },
      "outputs": [],
      "source": [
        "early_stopping = keras.callbacks.EarlyStopping(monitor='val_accuracy', \n",
        "                                               mode='auto', \n",
        "                                               patience=3, \n",
        "                                               verbose=1)"
      ]
    },
    {
      "cell_type": "code",
      "execution_count": 17,
      "metadata": {
        "colab": {
          "base_uri": "https://localhost:8080/"
        },
        "id": "BSCcThzdhJ-Z",
        "outputId": "435413e7-269c-4e05-f2c8-ef84ff76e5cc"
      },
      "outputs": [
        {
          "name": "stdout",
          "output_type": "stream",
          "text": [
            "Epoch 1/100\n",
            "2346/2346 [==============================] - 970s 412ms/step - loss: 0.2840 - accuracy: 0.8919 - val_loss: 0.2621 - val_accuracy: 0.8990\n",
            "Epoch 2/100\n",
            "2346/2346 [==============================] - 964s 411ms/step - loss: 0.2537 - accuracy: 0.9012 - val_loss: 0.2630 - val_accuracy: 0.8941\n",
            "Epoch 3/100\n",
            "2346/2346 [==============================] - 975s 416ms/step - loss: 0.2475 - accuracy: 0.9031 - val_loss: 0.2584 - val_accuracy: 0.8986\n",
            "Epoch 4/100\n",
            "2346/2346 [==============================] - 983s 419ms/step - loss: 0.2438 - accuracy: 0.9030 - val_loss: 0.2536 - val_accuracy: 0.9005\n",
            "Epoch 5/100\n",
            "2346/2346 [==============================] - 984s 419ms/step - loss: 0.2412 - accuracy: 0.9035 - val_loss: 0.2609 - val_accuracy: 0.8983\n",
            "Epoch 6/100\n",
            "2346/2346 [==============================] - 983s 419ms/step - loss: 0.2383 - accuracy: 0.9039 - val_loss: 0.2617 - val_accuracy: 0.8997\n",
            "Epoch 7/100\n",
            "2346/2346 [==============================] - 983s 419ms/step - loss: 0.2349 - accuracy: 0.9053 - val_loss: 0.2590 - val_accuracy: 0.8997\n",
            "Epoch 00007: early stopping\n"
          ]
        }
      ],
      "source": [
        "hist = model.fit(x_train, y_train, \n",
        "          epochs=100, \n",
        "          batch_size=32, \n",
        "          verbose=1,\n",
        "          callbacks=[early_stopping],\n",
        "          validation_data=(x_val, y_val))"
      ]
    },
    {
      "cell_type": "code",
      "execution_count": 18,
      "metadata": {
        "colab": {
          "base_uri": "https://localhost:8080/",
          "height": 438
        },
        "id": "UEIV2zmhhOuX",
        "outputId": "d0e71dbb-2e5c-4bad-dfc6-c2d19aebe4d0"
      },
      "outputs": [
        {
          "data": {
            "image/png": "[encoded data removed]",
            "text/plain": [
              "<Figure size 800x500 with 1 Axes>"
            ]
          },
          "metadata": {
            "needs_background": "light"
          },
          "output_type": "display_data"
        }
      ],
      "source": [
        "matplotlib.rcParams['figure.dpi'] = 100\n",
        "\n",
        "def plot(history):\n",
        "    pd.DataFrame(history.history).plot(figsize=(8, 5))\n",
        "    plt.grid(True)\n",
        "    plt.show()\n",
        "    \n",
        "plot(hist)"
      ]
    },
    {
      "cell_type": "code",
      "execution_count": 22,
      "metadata": {
        "colab": {
          "base_uri": "https://localhost:8080/"
        },
        "id": "JnCCoSHLipj1",
        "outputId": "9e4ada78-96e2-4028-bc57-94a22510c84f"
      },
      "outputs": [
        {
          "name": "stdout",
          "output_type": "stream",
          "text": [
            "514/514 [==============================] - 173s 337ms/step - loss: 0.3589 - accuracy: 0.8793\n"
          ]
        },
        {
          "data": {
            "text/plain": [
              "[0.3588513433933258, 0.8793208599090576]"
            ]
          },
          "execution_count": 22,
          "metadata": {},
          "output_type": "execute_result"
        }
      ],
      "source": [
        "model.evaluate(x_test, y_test)"
      ]
    },
    {
      "cell_type": "code",
      "execution_count": 23,
      "metadata": {
        "colab": {
          "base_uri": "https://localhost:8080/"
        },
        "id": "9AOGpdesitoQ",
        "outputId": "5a63a5d0-e89a-49ef-f045-c9ccb64823fb"
      },
      "outputs": [
        {
          "name": "stdout",
          "output_type": "stream",
          "text": [
            "Confusion Matrix\n",
            "\n",
            "[[1892    0   18    0  292]\n",
            " [ 119 1895  256   21  179]\n",
            " [ 180   34  779    0   92]\n",
            " [   0    0    0 1095   17]\n",
            " [ 750    3   15    7 8788]]\n"
          ]
        }
      ],
      "source": [
        "y_pred = model.predict(x_test)\n",
        "\n",
        "y_pred = np.argmax(y_pred, axis=1)\n",
        "y_test = np.argmax(y_test, axis=1)\n",
        "\n",
        "from sklearn.metrics import confusion_matrix\n",
        "confusion = confusion_matrix(y_test, y_pred)\n",
        "print('Confusion Matrix\\n')\n",
        "print(confusion)"
      ]
    },
    {
      "cell_type": "code",
      "execution_count": 24,
      "metadata": {
        "colab": {
          "base_uri": "https://localhost:8080/"
        },
        "id": "99l7ztDCiy0g",
        "outputId": "71d9fc69-9772-4ab7-9d7b-4eb361b2364c"
      },
      "outputs": [
        {
          "name": "stdout",
          "output_type": "stream",
          "text": [
            "F1 score(macro) 0.8457322210825353\n",
            "F1 score(micro) 0.8793208373904576\n"
          ]
        }
      ],
      "source": [
        "from sklearn.metrics import f1_score\n",
        "print(\"F1 score(macro)\",f1_score(y_test, y_pred, average='macro'))\n",
        "print(\"F1 score(micro)\",f1_score(y_test, y_pred, average='micro'))"
      ]
    },
    {
      "cell_type": "code",
      "execution_count": 27,
      "metadata": {
        "colab": {
          "base_uri": "https://localhost:8080/",
          "height": 462
        },
        "id": "scB4Xtari3BS",
        "outputId": "5dabc48e-c127-42f7-f8ed-fc2995723bd0"
      },
      "outputs": [
        {
          "data": {
            "image/png": "[encoded data removed]",
            "text/plain": [
              "<Figure size 600x400 with 2 Axes>"
            ]
          },
          "metadata": {
            "needs_background": "light"
          },
          "output_type": "display_data"
        }
      ],
      "source": [
        "import matplotlib.pyplot as plt\n",
        "import seaborn as sns\n",
        "\n",
        "ax = sns.heatmap(confusion, annot=True, cmap='Blues', fmt='d')\n",
        "ax.xaxis.set_ticklabels(['B','D','F','Q','S'])\n",
        "ax.yaxis.set_ticklabels(['B','D','F','Q','S'])\n",
        "ax.set_title('Confusion Matrix\\n\\n')\n",
        "ax.set_xlabel('\\nPredicted Values')\n",
        "ax.set_ylabel('Actual Values ')\n",
        "\n",
        "## Display the visualization of the Confusion Matrix.\n",
        "plt.show()"
      ]
    },
    {
      "cell_type": "code",
      "execution_count": 26,
      "metadata": {
        "colab": {
          "base_uri": "https://localhost:8080/",
          "height": 35
        },
        "id": "hytuV2hNi57s",
        "outputId": "f83624d4-a5bf-46f6-8e92-3654ff527149"
      },
      "outputs": [
        {
          "data": {
            "application/vnd.google.colaboratory.intrinsic+json": {
              "type": "string"
            },
            "text/plain": [
              "'Q'"
            ]
          },
          "execution_count": 26,
          "metadata": {},
          "output_type": "execute_result"
        }
      ],
      "source": [
        "labels=(['B','D','F','Q','S'])\n",
        "labels[np.argmax(model.predict(['Who are you?']))]"
      ]
    }
  ],
  "metadata": {
    "accelerator": "GPU",
    "colab": {
      "name": "MRDA_BertEmbedding+BiLSTM.ipynb",
      "provenance": []
    },
    "kernelspec": {
      "display_name": "Python 3 (ipykernel)",
      "language": "python",
      "name": "python3"
    },
    "language_info": {
      "codemirror_mode": {
        "name": "ipython",
        "version": 3
      },
      "file_extension": ".py",
      "mimetype": "text/x-python",
      "name": "python",
      "nbconvert_exporter": "python",
      "pygments_lexer": "ipython3",
      "version": "3.9.9"
    }
  },
  "nbformat": 4,
  "nbformat_minor": 0
}
