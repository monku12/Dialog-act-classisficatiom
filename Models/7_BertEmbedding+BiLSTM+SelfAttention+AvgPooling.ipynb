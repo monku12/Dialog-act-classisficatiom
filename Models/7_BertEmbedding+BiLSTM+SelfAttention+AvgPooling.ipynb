{
  "cells": [
    {
      "cell_type": "code",
      "execution_count": null,
      "metadata": {
        "id": "kir8XTZZdNnS"
      },
      "outputs": [],
      "source": [
        "import numpy as np\n",
        "import pandas as pd\n",
        "import keras\n",
        "import tensorflow as tf\n",
        "from keras.layers import *\n",
        "import tensorflow_hub as hub\n",
        "#!pip install tensorflow_text\n",
        "import tensorflow_text as text\n",
        "import matplotlib.pyplot as plt\n",
        "import matplotlib"
      ]
    },
    {
      "cell_type": "code",
      "execution_count": null,
      "metadata": {
        "id": "nmKloo9ueGtw"
      },
      "outputs": [],
      "source": [
        "train_df = pd.read_csv('train.csv')\n",
        "val_df = pd.read_csv('test.csv')\n",
        "test_df = pd.read_csv('val.csv')\n",
        "\n",
        "train_df = train_df.drop(['Unnamed: 0'],axis=1)\n",
        "test_df = test_df.drop(['Unnamed: 0'],axis=1)\n",
        "val_df = val_df.drop(['Unnamed: 0'],axis=1)"
      ]
    },
    {
      "cell_type": "code",
      "execution_count": null,
      "metadata": {
        "id": "GB72fYRueGwO"
      },
      "outputs": [],
      "source": [
        "x_train = train_df['Utterances'].to_numpy()\n",
        "x_train = np.asarray(x_train).astype(str)\n",
        "y_train = pd.get_dummies(train_df['Basic']).values\n",
        "y_train = np.asarray(y_train).astype('float32')\n",
        "\n",
        "x_val = val_df['Utterances'].to_numpy()\n",
        "x_val = np.asarray(x_val).astype(str)\n",
        "y_val = pd.get_dummies(val_df['Basic']).values\n",
        "y_val = np.asarray(y_val).astype('float32')\n",
        "\n",
        "x_test = test_df['Utterances'].to_numpy()\n",
        "x_test = np.asarray(x_test).astype(str)\n",
        "y_test = pd.get_dummies(test_df['Basic']).values\n",
        "y_test = np.asarray(y_test).astype('float32')"
      ]
    },
    {
      "cell_type": "code",
      "execution_count": null,
      "metadata": {
        "id": "uU4LBmoteGyp"
      },
      "outputs": [],
      "source": [
        "bert_preprocess = hub.KerasLayer(\"https://tfhub.dev/tensorflow/bert_en_uncased_preprocess/3\")\n",
        "bert_encoder = hub.KerasLayer(\"https://tfhub.dev/tensorflow/bert_en_uncased_L-12_H-768_A-12/4\")"
      ]
    },
    {
      "cell_type": "code",
      "execution_count": null,
      "metadata": {
        "id": "RgN6yEbueG08"
      },
      "outputs": [],
      "source": [
        "### Self Attention layer\n",
        "from keras import layers\n",
        "class TransformerBlock(layers.Layer):\n",
        "    def __init__(self, embed_dim, num_heads, ff_dim, rate=0.1):\n",
        "        super(TransformerBlock, self).__init__()\n",
        "        self.att = layers.MultiHeadAttention(num_heads=num_heads,\n",
        "                                             key_dim=embed_dim)\n",
        "        self.ffn = keras.Sequential([\n",
        "            layers.Dense(ff_dim, activation=\"relu\"),\n",
        "            layers.Dense(embed_dim),\n",
        "        ])\n",
        "        self.layernorm1 = layers.LayerNormalization(epsilon=1e-6)\n",
        "        self.layernorm2 = layers.LayerNormalization(epsilon=1e-6)\n",
        "        self.dropout1 = layers.Dropout(rate)\n",
        "        self.dropout2 = layers.Dropout(rate)\n",
        "\n",
        "    def call(self, inputs, training):\n",
        "        attn_output = self.att(inputs, inputs)  # self-attention layer\n",
        "        attn_output = self.dropout1(attn_output, training=training)\n",
        "        out1 = self.layernorm1(inputs + attn_output)  # layer norm\n",
        "        ffn_output = self.ffn(out1)  #feed-forward layer\n",
        "        ffn_output = self.dropout2(ffn_output, training=training)\n",
        "        return self.layernorm2(out1 + ffn_output)  # layer norm"
      ]
    },
    {
      "cell_type": "code",
      "execution_count": null,
      "metadata": {
        "id": "f74jJA1BfxB0"
      },
      "outputs": [],
      "source": [
        "### Hyperparameters\n",
        "embed_dim = 128\n",
        "num_heads = 5\n",
        "ff_dim = 32"
      ]
    },
    {
      "cell_type": "code",
      "execution_count": null,
      "metadata": {
        "id": "u-CkOz20eG3m"
      },
      "outputs": [],
      "source": [
        "### Bert encoding layers\n",
        "text_input = Input(shape=(),dtype=tf.string,name='Text')\n",
        "preprocess_text = bert_preprocess(text_input)\n",
        "encode_output = bert_encoder(preprocess_text)['encoder_outputs'][11]#output of the last encoded layer\n",
        "\n",
        "### bilstm\n",
        "bilstm = Bidirectional(LSTM(\n",
        "    units=64,\n",
        "    dropout=0.2,\n",
        "    return_sequences=True))(encode_output)\n",
        "\n",
        "### Attention layer\n",
        "att = TransformerBlock(embed_dim, num_heads, ff_dim)(bilstm)\n",
        "pool = GlobalAveragePooling1D()(att)\n",
        "\n",
        "###Output\n",
        "output = Dense(5,activation='softmax')(pool)"
      ]
    },
    {
      "cell_type": "code",
      "execution_count": null,
      "metadata": {
        "id": "rEisCeN-eG6S"
      },
      "outputs": [],
      "source": [
        "model=keras.Model(text_input,output)"
      ]
    },
    {
      "cell_type": "code",
      "execution_count": null,
      "metadata": {
        "id": "Uan5fsuueG-M"
      },
      "outputs": [],
      "source": [
        "model.compile(loss='categorical_crossentropy',\n",
        "              optimizer='adam',\n",
        "              metrics=['accuracy'])"
      ]
    },
    {
      "cell_type": "code",
      "execution_count": null,
      "metadata": {
        "colab": {
          "base_uri": "https://localhost:8080/"
        },
        "id": "LAdTCRdUhGyp",
        "outputId": "327f4c56-45f3-4147-a9b7-83fb28808762"
      },
      "outputs": [
        {
          "name": "stdout",
          "output_type": "stream",
          "text": [
            "Model: \"model\"\n",
            "__________________________________________________________________________________________________\n",
            " Layer (type)                   Output Shape         Param #     Connected to                     \n",
            "==================================================================================================\n",
            " Text (InputLayer)              [(None,)]            0           []                               \n",
            "                                                                                                  \n",
            " keras_layer (KerasLayer)       {'input_type_ids':   0           ['Text[0][0]']                   \n",
            "                                (None, 128),                                                      \n",
            "                                 'input_word_ids':                                                \n",
            "                                (None, 128),                                                      \n",
            "                                 'input_mask': (Non                                               \n",
            "                                e, 128)}                                                          \n",
            "                                                                                                  \n",
            " keras_layer_1 (KerasLayer)     {'encoder_outputs':  109482241   ['keras_layer[0][0]',            \n",
            "                                 [(None, 128, 768),               'keras_layer[0][1]',            \n",
            "                                 (None, 128, 768),                'keras_layer[0][2]']            \n",
            "                                 (None, 128, 768),                                                \n",
            "                                 (None, 128, 768),                                                \n",
            "                                 (None, 128, 768),                                                \n",
            "                                 (None, 128, 768),                                                \n",
            "                                 (None, 128, 768),                                                \n",
            "                                 (None, 128, 768),                                                \n",
            "                                 (None, 128, 768),                                                \n",
            "                                 (None, 128, 768),                                                \n",
            "                                 (None, 128, 768),                                                \n",
            "                                 (None, 128, 768)],                                               \n",
            "                                 'default': (None,                                                \n",
            "                                768),                                                             \n",
            "                                 'pooled_output': (                                               \n",
            "                                None, 768),                                                       \n",
            "                                 'sequence_output':                                               \n",
            "                                 (None, 128, 768)}                                                \n",
            "                                                                                                  \n",
            " bidirectional (Bidirectional)  (None, 128, 128)     426496      ['keras_layer_1[0][12]']         \n",
            "                                                                                                  \n",
            " transformer_block (Transformer  (None, 128, 128)    338592      ['bidirectional[0][0]']          \n",
            " Block)                                                                                           \n",
            "                                                                                                  \n",
            " global_average_pooling1d (Glob  (None, 128)         0           ['transformer_block[0][0]']      \n",
            " alAveragePooling1D)                                                                              \n",
            "                                                                                                  \n",
            " dense_2 (Dense)                (None, 5)            645         ['global_average_pooling1d[0][0]'\n",
            "                                                                 ]                                \n",
            "                                                                                                  \n",
            "==================================================================================================\n",
            "Total params: 110,247,974\n",
            "Trainable params: 765,733\n",
            "Non-trainable params: 109,482,241\n",
            "__________________________________________________________________________________________________\n"
          ]
        }
      ],
      "source": [
        "model.summary()"
      ]
    },
    {
      "cell_type": "code",
      "execution_count": null,
      "metadata": {
        "id": "O0WUYq14hJGY"
      },
      "outputs": [],
      "source": [
        "early_stopping = keras.callbacks.EarlyStopping(monitor='val_accuracy', \n",
        "                                               mode='auto', \n",
        "                                               patience=3, \n",
        "                                               verbose=1)"
      ]
    },
    {
      "cell_type": "code",
      "execution_count": null,
      "metadata": {
        "colab": {
          "base_uri": "https://localhost:8080/"
        },
        "id": "BSCcThzdhJ-Z",
        "outputId": "f66d0d8b-83b6-478b-b515-4de74ce3db5c"
      },
      "outputs": [
        {
          "name": "stdout",
          "output_type": "stream",
          "text": [
            "Epoch 1/100\n",
            "2346/2346 [==============================] - 2010s 857ms/step - loss: 0.2659 - accuracy: 0.8972 - val_loss: 0.2698 - val_accuracy: 0.8995\n",
            "Epoch 2/100\n",
            "2346/2346 [==============================] - 2035s 867ms/step - loss: 0.2607 - accuracy: 0.8986 - val_loss: 0.2621 - val_accuracy: 0.8960\n",
            "Epoch 3/100\n",
            "2346/2346 [==============================] - 2033s 867ms/step - loss: 0.2563 - accuracy: 0.8998 - val_loss: 0.2704 - val_accuracy: 0.8937\n",
            "Epoch 4/100\n",
            "2346/2346 [==============================] - 2032s 866ms/step - loss: 0.2527 - accuracy: 0.9010 - val_loss: 0.2567 - val_accuracy: 0.9005\n",
            "Epoch 5/100\n",
            "2346/2346 [==============================] - 2029s 865ms/step - loss: 0.2500 - accuracy: 0.9025 - val_loss: 0.2711 - val_accuracy: 0.8999\n",
            "Epoch 6/100\n",
            "2346/2346 [==============================] - 2028s 864ms/step - loss: 0.2472 - accuracy: 0.9024 - val_loss: 0.2597 - val_accuracy: 0.8997\n",
            "Epoch 7/100\n",
            "2346/2346 [==============================] - 2031s 866ms/step - loss: 0.2451 - accuracy: 0.9034 - val_loss: 0.2551 - val_accuracy: 0.8989\n",
            "Epoch 00007: early stopping\n"
          ]
        }
      ],
      "source": [
        "hist = model.fit(x_train, y_train, \n",
        "          epochs=100, \n",
        "          batch_size=32, \n",
        "          verbose=1,\n",
        "          callbacks=[early_stopping],\n",
        "          validation_data=(x_val, y_val))"
      ]
    },
    {
      "cell_type": "code",
      "execution_count": null,
      "metadata": {
        "colab": {
          "base_uri": "https://localhost:8080/",
          "height": 438
        },
        "id": "UEIV2zmhhOuX",
        "outputId": "18d5c30c-24a9-48db-c18b-3f2dae986d28"
      },
      "outputs": [
        {
          "data": {
            "image/png": "[encoded data removed]",
            "text/plain": [
              "<Figure size 800x500 with 1 Axes>"
            ]
          },
          "metadata": {
            "needs_background": "light"
          },
          "output_type": "display_data"
        }
      ],
      "source": [
        "matplotlib.rcParams['figure.dpi'] = 100\n",
        "\n",
        "def plot(history):\n",
        "    pd.DataFrame(history.history).plot(figsize=(8, 5))\n",
        "    plt.grid(True)\n",
        "    plt.show()\n",
        "    \n",
        "plot(hist)"
      ]
    },
    {
      "cell_type": "code",
      "execution_count": null,
      "metadata": {
        "colab": {
          "base_uri": "https://localhost:8080/"
        },
        "id": "JnCCoSHLipj1",
        "outputId": "e3cca5d1-d09e-40f6-dc7d-c5ffba46c180"
      },
      "outputs": [
        {
          "name": "stdout",
          "output_type": "stream",
          "text": [
            "514/514 [==============================] - 345s 670ms/step - loss: 0.3465 - accuracy: 0.8802\n"
          ]
        },
        {
          "data": {
            "text/plain": [
              "[0.3464691936969757, 0.880172848701477]"
            ]
          },
          "execution_count": 19,
          "metadata": {},
          "output_type": "execute_result"
        }
      ],
      "source": [
        "model.evaluate(x_test, y_test)"
      ]
    },
    {
      "cell_type": "code",
      "execution_count": null,
      "metadata": {
        "colab": {
          "base_uri": "https://localhost:8080/"
        },
        "id": "9AOGpdesitoQ",
        "outputId": "1d2aab8d-3e0f-4c0a-cf06-372a547de66f"
      },
      "outputs": [
        {
          "name": "stdout",
          "output_type": "stream",
          "text": [
            "Confusion Matrix\n",
            "\n",
            "[[1951    1   18    0  232]\n",
            " [ 126 1909  236   22  177]\n",
            " [ 180   38  769    0   98]\n",
            " [   0    0    0 1094   18]\n",
            " [ 811    2    2    8 8740]]\n"
          ]
        }
      ],
      "source": [
        "y_pred = model.predict(x_test)\n",
        "\n",
        "y_pred = np.argmax(y_pred, axis=1)\n",
        "y_test = np.argmax(y_test, axis=1)\n",
        "\n",
        "from sklearn.metrics import confusion_matrix\n",
        "confusion = confusion_matrix(y_test, y_pred)\n",
        "print('Confusion Matrix\\n')\n",
        "print(confusion)"
      ]
    },
    {
      "cell_type": "code",
      "execution_count": null,
      "metadata": {
        "colab": {
          "base_uri": "https://localhost:8080/"
        },
        "id": "99l7ztDCiy0g",
        "outputId": "48b99d41-05e2-4f8d-c919-8f6b3a078300"
      },
      "outputs": [
        {
          "name": "stdout",
          "output_type": "stream",
          "text": [
            "F1 score(macro) 0.8480131827263989\n",
            "F1 score(micro) 0.8801728334956183\n"
          ]
        }
      ],
      "source": [
        "from sklearn.metrics import f1_score\n",
        "print(\"F1 score(macro)\",f1_score(y_test, y_pred, average='macro'))\n",
        "print(\"F1 score(micro)\",f1_score(y_test, y_pred, average='micro'))"
      ]
    },
    {
      "cell_type": "code",
      "execution_count": null,
      "metadata": {
        "colab": {
          "base_uri": "https://localhost:8080/",
          "height": 462
        },
        "id": "scB4Xtari3BS",
        "outputId": "8da76b0f-4699-4d3d-ed89-bd29461c09fd"
      },
      "outputs": [
        {
          "data": {
            "image/png": "[encoded data removed]",
            "text/plain": [
              "<Figure size 600x400 with 2 Axes>"
            ]
          },
          "metadata": {
            "needs_background": "light"
          },
          "output_type": "display_data"
        }
      ],
      "source": [
        "import matplotlib.pyplot as plt\n",
        "import seaborn as sns\n",
        "\n",
        "ax = sns.heatmap(confusion, annot=True, cmap='Blues')\n",
        "ax.xaxis.set_ticklabels(['B','D','F','Q','S'])\n",
        "ax.yaxis.set_ticklabels(['B','D','F','Q','S'])\n",
        "ax.set_title('Confusion Matrix\\n\\n')\n",
        "ax.set_xlabel('\\nPredicted Values')\n",
        "ax.set_ylabel('Actual Values ')\n",
        "\n",
        "## Display the visualization of the Confusion Matrix.\n",
        "plt.show()"
      ]
    },
    {
      "cell_type": "code",
      "execution_count": null,
      "metadata": {
        "colab": {
          "base_uri": "https://localhost:8080/",
          "height": 35
        },
        "id": "hytuV2hNi57s",
        "outputId": "4309669c-b2aa-4831-fe64-a1a3f29547af"
      },
      "outputs": [
        {
          "data": {
            "application/vnd.google.colaboratory.intrinsic+json": {
              "type": "string"
            },
            "text/plain": [
              "'Q'"
            ]
          },
          "execution_count": 30,
          "metadata": {},
          "output_type": "execute_result"
        }
      ],
      "source": [
        "labels=(['B','D','F','Q','S'])\n",
        "labels[np.argmax(model.predict(['Who are you?']))]"
      ]
    },
    {
      "cell_type": "code",
      "execution_count": null,
      "metadata": {
        "id": "WRT0DuY-l936"
      },
      "outputs": [],
      "source": [
        ""
      ]
    }
  ],
  "metadata": {
    "accelerator": "GPU",
    "colab": {
      "name": "MRDA_BERT(EncoderOutput)+BiLSTM+SelfAttention+AvgPooling.ipynb",
      "provenance": []
    },
    "kernelspec": {
      "display_name": "Python 3",
      "name": "python3"
    },
    "language_info": {
      "name": "python"
    }
  },
  "nbformat": 4,
  "nbformat_minor": 0
}
