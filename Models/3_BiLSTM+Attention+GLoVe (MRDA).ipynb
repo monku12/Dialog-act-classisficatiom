{
 "cells": [
  {
   "cell_type": "code",
   "execution_count": 1,
   "id": "bc87c0f3",
   "metadata": {},
   "outputs": [],
   "source": [
    "import re\n",
    "import numpy as np\n",
    "import pandas as pd\n",
    "from sklearn.model_selection import train_test_split\n",
    "import matplotlib.pyplot as plt\n",
    "from tqdm import tqdm\n",
    "tqdm.pandas(desc=\"progress-bar\")\n",
    "import gensim\n",
    "from gensim.models import Word2Vec, KeyedVectors\n",
    "import tensorflow as tf\n",
    "from keras.models import Sequential, load_model\n",
    "from keras import layers\n",
    "from keras.layers import Dense, LSTM, Embedding, Dropout, Bidirectional, Lambda, Flatten\n",
    "from keras.preprocessing.text import Tokenizer \n",
    "from keras.preprocessing.sequence import pad_sequences\n",
    "from sklearn.manifold import TSNE\n",
    "import keras\n",
    "from keras import backend as K"
   ]
  },
  {
   "cell_type": "code",
   "execution_count": 2,
   "id": "035c0020",
   "metadata": {},
   "outputs": [
    {
     "name": "stdout",
     "output_type": "stream",
     "text": [
      "(108201, 6)\n"
     ]
    },
    {
     "data": {
      "text/html": [
       "<div>\n",
       "<style scoped>\n",
       "    .dataframe tbody tr th:only-of-type {\n",
       "        vertical-align: middle;\n",
       "    }\n",
       "\n",
       "    .dataframe tbody tr th {\n",
       "        vertical-align: top;\n",
       "    }\n",
       "\n",
       "    .dataframe thead th {\n",
       "        text-align: right;\n",
       "    }\n",
       "</style>\n",
       "<table border=\"1\" class=\"dataframe\">\n",
       "  <thead>\n",
       "    <tr style=\"text-align: right;\">\n",
       "      <th></th>\n",
       "      <th>Unnamed: 0</th>\n",
       "      <th>Speaker</th>\n",
       "      <th>Utterances</th>\n",
       "      <th>Basic</th>\n",
       "      <th>General</th>\n",
       "      <th>Full</th>\n",
       "    </tr>\n",
       "  </thead>\n",
       "  <tbody>\n",
       "    <tr>\n",
       "      <th>0</th>\n",
       "      <td>0</td>\n",
       "      <td>fe016</td>\n",
       "      <td>so um</td>\n",
       "      <td>F</td>\n",
       "      <td>fh</td>\n",
       "      <td>fh</td>\n",
       "    </tr>\n",
       "    <tr>\n",
       "      <th>1</th>\n",
       "      <td>1</td>\n",
       "      <td>fe016</td>\n",
       "      <td>i was going to try to get out of here like in ...</td>\n",
       "      <td>S</td>\n",
       "      <td>s</td>\n",
       "      <td>rt</td>\n",
       "    </tr>\n",
       "    <tr>\n",
       "      <th>2</th>\n",
       "      <td>2</td>\n",
       "      <td>fe016</td>\n",
       "      <td>um</td>\n",
       "      <td>F</td>\n",
       "      <td>fh</td>\n",
       "      <td>fh</td>\n",
       "    </tr>\n",
       "    <tr>\n",
       "      <th>3</th>\n",
       "      <td>3</td>\n",
       "      <td>fe016</td>\n",
       "      <td>because i really appreciate people coming.</td>\n",
       "      <td>S</td>\n",
       "      <td>s</td>\n",
       "      <td>s</td>\n",
       "    </tr>\n",
       "    <tr>\n",
       "      <th>4</th>\n",
       "      <td>4</td>\n",
       "      <td>fe016</td>\n",
       "      <td>and the main thing that i was going to ask peo...</td>\n",
       "      <td>S</td>\n",
       "      <td>s</td>\n",
       "      <td>s</td>\n",
       "    </tr>\n",
       "    <tr>\n",
       "      <th>5</th>\n",
       "      <td>5</td>\n",
       "      <td>fe016</td>\n",
       "      <td>so anything that transcribers or discourse cod...</td>\n",
       "      <td>S</td>\n",
       "      <td>s</td>\n",
       "      <td>e</td>\n",
       "    </tr>\n",
       "    <tr>\n",
       "      <th>6</th>\n",
       "      <td>6</td>\n",
       "      <td>fe016</td>\n",
       "      <td>so we have this um</td>\n",
       "      <td>D</td>\n",
       "      <td>fh</td>\n",
       "      <td>fh</td>\n",
       "    </tr>\n",
       "    <tr>\n",
       "      <th>7</th>\n",
       "      <td>7</td>\n",
       "      <td>fe016</td>\n",
       "      <td>i think a starting point is clearly the the ch...</td>\n",
       "      <td>S</td>\n",
       "      <td>s</td>\n",
       "      <td>s</td>\n",
       "    </tr>\n",
       "    <tr>\n",
       "      <th>8</th>\n",
       "      <td>8</td>\n",
       "      <td>fe016</td>\n",
       "      <td>which don brought a copy of.</td>\n",
       "      <td>S</td>\n",
       "      <td>s</td>\n",
       "      <td>e</td>\n",
       "    </tr>\n",
       "    <tr>\n",
       "      <th>9</th>\n",
       "      <td>9</td>\n",
       "      <td>me011</td>\n",
       "      <td>yeah.</td>\n",
       "      <td>B</td>\n",
       "      <td>b</td>\n",
       "      <td>b</td>\n",
       "    </tr>\n",
       "  </tbody>\n",
       "</table>\n",
       "</div>"
      ],
      "text/plain": [
       "   Unnamed: 0 Speaker                                         Utterances  \\\n",
       "0           0   fe016                                              so um   \n",
       "1           1   fe016  i was going to try to get out of here like in ...   \n",
       "2           2   fe016                                                 um   \n",
       "3           3   fe016         because i really appreciate people coming.   \n",
       "4           4   fe016  and the main thing that i was going to ask peo...   \n",
       "5           5   fe016  so anything that transcribers or discourse cod...   \n",
       "6           6   fe016                                 so we have this um   \n",
       "7           7   fe016  i think a starting point is clearly the the ch...   \n",
       "8           8   fe016                       which don brought a copy of.   \n",
       "9           9   me011                                              yeah.   \n",
       "\n",
       "  Basic General Full  \n",
       "0     F      fh   fh  \n",
       "1     S       s   rt  \n",
       "2     F      fh   fh  \n",
       "3     S       s    s  \n",
       "4     S       s    s  \n",
       "5     S       s    e  \n",
       "6     D      fh   fh  \n",
       "7     S       s    s  \n",
       "8     S       s    e  \n",
       "9     B       b    b  "
      ]
     },
     "execution_count": 2,
     "metadata": {},
     "output_type": "execute_result"
    }
   ],
   "source": [
    "data = pd.read_csv('C:\\\\Users\\\\user1\\\\Documents\\\\repo\\\\dialog act RNN\\\\MRDA\\\\full_set.csv')\n",
    "print(data.shape)\n",
    "data.head(10)"
   ]
  },
  {
   "cell_type": "code",
   "execution_count": 3,
   "id": "a42e613f",
   "metadata": {},
   "outputs": [
    {
     "data": {
      "text/html": [
       "<div>\n",
       "<style scoped>\n",
       "    .dataframe tbody tr th:only-of-type {\n",
       "        vertical-align: middle;\n",
       "    }\n",
       "\n",
       "    .dataframe tbody tr th {\n",
       "        vertical-align: top;\n",
       "    }\n",
       "\n",
       "    .dataframe thead th {\n",
       "        text-align: right;\n",
       "    }\n",
       "</style>\n",
       "<table border=\"1\" class=\"dataframe\">\n",
       "  <thead>\n",
       "    <tr style=\"text-align: right;\">\n",
       "      <th></th>\n",
       "      <th>Speaker</th>\n",
       "      <th>Utterances</th>\n",
       "      <th>Basic</th>\n",
       "      <th>General</th>\n",
       "      <th>Full</th>\n",
       "    </tr>\n",
       "  </thead>\n",
       "  <tbody>\n",
       "    <tr>\n",
       "      <th>0</th>\n",
       "      <td>fe016</td>\n",
       "      <td>so um</td>\n",
       "      <td>F</td>\n",
       "      <td>fh</td>\n",
       "      <td>fh</td>\n",
       "    </tr>\n",
       "    <tr>\n",
       "      <th>1</th>\n",
       "      <td>fe016</td>\n",
       "      <td>i was going to try to get out of here like in ...</td>\n",
       "      <td>S</td>\n",
       "      <td>s</td>\n",
       "      <td>rt</td>\n",
       "    </tr>\n",
       "    <tr>\n",
       "      <th>2</th>\n",
       "      <td>fe016</td>\n",
       "      <td>um</td>\n",
       "      <td>F</td>\n",
       "      <td>fh</td>\n",
       "      <td>fh</td>\n",
       "    </tr>\n",
       "    <tr>\n",
       "      <th>3</th>\n",
       "      <td>fe016</td>\n",
       "      <td>because i really appreciate people coming.</td>\n",
       "      <td>S</td>\n",
       "      <td>s</td>\n",
       "      <td>s</td>\n",
       "    </tr>\n",
       "    <tr>\n",
       "      <th>4</th>\n",
       "      <td>fe016</td>\n",
       "      <td>and the main thing that i was going to ask peo...</td>\n",
       "      <td>S</td>\n",
       "      <td>s</td>\n",
       "      <td>s</td>\n",
       "    </tr>\n",
       "  </tbody>\n",
       "</table>\n",
       "</div>"
      ],
      "text/plain": [
       "  Speaker                                         Utterances Basic General  \\\n",
       "0   fe016                                              so um     F      fh   \n",
       "1   fe016  i was going to try to get out of here like in ...     S       s   \n",
       "2   fe016                                                 um     F      fh   \n",
       "3   fe016         because i really appreciate people coming.     S       s   \n",
       "4   fe016  and the main thing that i was going to ask peo...     S       s   \n",
       "\n",
       "  Full  \n",
       "0   fh  \n",
       "1   rt  \n",
       "2   fh  \n",
       "3    s  \n",
       "4    s  "
      ]
     },
     "execution_count": 3,
     "metadata": {},
     "output_type": "execute_result"
    }
   ],
   "source": [
    "data=data.drop(columns=[\"Unnamed: 0\"])\n",
    "data.head()"
   ]
  },
  {
   "cell_type": "code",
   "execution_count": 4,
   "id": "0d72a2f0",
   "metadata": {},
   "outputs": [
    {
     "data": {
      "text/plain": [
       "0                                                so um\n",
       "1    i was going to try to get out of here like in ...\n",
       "2                                                   um\n",
       "3            because i really appreciate people coming\n",
       "4    and the main thing that i was going to ask peo...\n",
       "Name: Utterances, dtype: object"
      ]
     },
     "execution_count": 4,
     "metadata": {},
     "output_type": "execute_result"
    }
   ],
   "source": [
    "data['Utterances'] = data['Utterances'].apply(lambda x: x.lower())\n",
    "data['Utterances'] = data['Utterances'].apply(lambda x: re.sub('[^a-zA-z0-9\\s]','',x))\n",
    "data['Utterances'].head()"
   ]
  },
  {
   "cell_type": "code",
   "execution_count": 5,
   "id": "a0f6ab4c",
   "metadata": {},
   "outputs": [
    {
     "data": {
      "text/html": [
       "<div>\n",
       "<style scoped>\n",
       "    .dataframe tbody tr th:only-of-type {\n",
       "        vertical-align: middle;\n",
       "    }\n",
       "\n",
       "    .dataframe tbody tr th {\n",
       "        vertical-align: top;\n",
       "    }\n",
       "\n",
       "    .dataframe thead th {\n",
       "        text-align: right;\n",
       "    }\n",
       "</style>\n",
       "<table border=\"1\" class=\"dataframe\">\n",
       "  <thead>\n",
       "    <tr style=\"text-align: right;\">\n",
       "      <th></th>\n",
       "      <th>Label</th>\n",
       "      <th>Count</th>\n",
       "    </tr>\n",
       "  </thead>\n",
       "  <tbody>\n",
       "    <tr>\n",
       "      <th>0</th>\n",
       "      <td>B</td>\n",
       "      <td>14620</td>\n",
       "    </tr>\n",
       "    <tr>\n",
       "      <th>1</th>\n",
       "      <td>D</td>\n",
       "      <td>14548</td>\n",
       "    </tr>\n",
       "    <tr>\n",
       "      <th>2</th>\n",
       "      <td>F</td>\n",
       "      <td>7817</td>\n",
       "    </tr>\n",
       "    <tr>\n",
       "      <th>3</th>\n",
       "      <td>Q</td>\n",
       "      <td>6983</td>\n",
       "    </tr>\n",
       "    <tr>\n",
       "      <th>4</th>\n",
       "      <td>S</td>\n",
       "      <td>64233</td>\n",
       "    </tr>\n",
       "  </tbody>\n",
       "</table>\n",
       "</div>"
      ],
      "text/plain": [
       "  Label  Count\n",
       "0     B  14620\n",
       "1     D  14548\n",
       "2     F   7817\n",
       "3     Q   6983\n",
       "4     S  64233"
      ]
     },
     "execution_count": 5,
     "metadata": {},
     "output_type": "execute_result"
    }
   ],
   "source": [
    "#Creating table of number of each data label present in the dataset\n",
    "label_count=data.groupby('Basic')['Basic'].agg('count')\n",
    "label_count.to_numpy(dtype=int)\n",
    "label_count = np.expand_dims(label_count, axis=0)\n",
    "label_count.shape=(5,1)\n",
    "labels=np.array(['B', 'D', 'F', 'Q', 'S'])\n",
    "labels.shape=(5,1)\n",
    "label_count=np.column_stack((labels,label_count))\n",
    "\n",
    "df = pd.DataFrame(label_count, columns=['Label', 'Count'])\n",
    "\n",
    "convert_dict = {'Label': str,\n",
    "                'Count': int\n",
    "               }\n",
    "  \n",
    "df = df.astype(convert_dict)\n",
    "df"
   ]
  },
  {
   "cell_type": "code",
   "execution_count": 6,
   "id": "2b59c241",
   "metadata": {},
   "outputs": [
    {
     "data": {
      "text/plain": [
       "<AxesSubplot:xlabel='Label'>"
      ]
     },
     "execution_count": 6,
     "metadata": {},
     "output_type": "execute_result"
    },
    {
     "data": {
      "image/png": "[encoded data removed]",
      "text/plain": [
       "<Figure size 432x288 with 1 Axes>"
      ]
     },
     "metadata": {
      "needs_background": "light"
     },
     "output_type": "display_data"
    }
   ],
   "source": [
    "df.plot.bar(x = 'Label', y='Count')"
   ]
  },
  {
   "cell_type": "code",
   "execution_count": 7,
   "id": "c26fb5e6",
   "metadata": {},
   "outputs": [
    {
     "name": "stdout",
     "output_type": "stream",
     "text": [
      "(108201, 77)\n"
     ]
    },
    {
     "data": {
      "text/plain": [
       "array([[ 11,  16,   0,   0,   0,   0,   0,   0,   0,   0,   0,   0,   0,\n",
       "          0,   0,   0,   0,   0,   0,   0,   0,   0,   0,   0,   0,   0,\n",
       "          0,   0,   0,   0,   0,   0,   0,   0,   0,   0,   0,   0,   0,\n",
       "          0,   0,   0,   0,   0,   0,   0,   0,   0,   0,   0,   0,   0,\n",
       "          0,   0,   0,   0,   0,   0,   0,   0,   0,   0,   0,   0,   0,\n",
       "          0,   0,   0,   0,   0,   0,   0,   0,   0,   0,   0,   0],\n",
       "       [  2,  36,  59,   4, 168,   4,  61,  81,  10,  97,  35,  15, 438,\n",
       "         86, 659,   0,   0,   0,   0,   0,   0,   0,   0,   0,   0,   0,\n",
       "          0,   0,   0,   0,   0,   0,   0,   0,   0,   0,   0,   0,   0,\n",
       "          0,   0,   0,   0,   0,   0,   0,   0,   0,   0,   0,   0,   0,\n",
       "          0,   0,   0,   0,   0,   0,   0,   0,   0,   0,   0,   0,   0,\n",
       "          0,   0,   0,   0,   0,   0,   0,   0,   0,   0,   0,   0]])"
      ]
     },
     "execution_count": 7,
     "metadata": {},
     "output_type": "execute_result"
    }
   ],
   "source": [
    "#Tokenizing the words and padding the sentence\n",
    "MAX_PADDING = 77\n",
    "tokenizer = Tokenizer(num_words = 5000, split=\" \")\n",
    "tokenizer.fit_on_texts(data['Utterances'].values)\n",
    "x_train = tokenizer.texts_to_sequences(data['Utterances'].values)\n",
    "x_train = pad_sequences(x_train, padding='post', maxlen=MAX_PADDING)\n",
    "print(x_train.shape)\n",
    "x_train[:2]"
   ]
  },
  {
   "cell_type": "code",
   "execution_count": 8,
   "id": "d90a6b48",
   "metadata": {},
   "outputs": [
    {
     "name": "stdout",
     "output_type": "stream",
     "text": [
      "F [0 0 1 0 0]\n",
      "S [0 0 0 0 1]\n",
      "F [0 0 1 0 0]\n",
      "S [0 0 0 0 1]\n",
      "S [0 0 0 0 1]\n"
     ]
    },
    {
     "data": {
      "text/plain": [
       "[None, None, None, None, None]"
      ]
     },
     "execution_count": 8,
     "metadata": {},
     "output_type": "execute_result"
    }
   ],
   "source": [
    "y_train = pd.get_dummies(data['Basic']).values\n",
    "[print(data['Basic'][i],y_train[i]) for i in range (0,5)]"
   ]
  },
  {
   "cell_type": "code",
   "execution_count": 9,
   "id": "2764610f",
   "metadata": {},
   "outputs": [
    {
     "name": "stdout",
     "output_type": "stream",
     "text": [
      "Found 400000 word vectors.\n"
     ]
    }
   ],
   "source": [
    "f = open(\"C:\\\\Users\\\\user1\\\\Downloads\\\\glove.6B\\\\glove.6B.300d.txt\",  encoding=\"utf8\")\n",
    "embedd_index = {}\n",
    "for line in f:\n",
    "    val = line.split()\n",
    "    word = val[0]\n",
    "    coff = np.asarray(val[1:],dtype = 'float')\n",
    "    embedd_index[word] = coff\n",
    "\n",
    "f.close()\n",
    "print('Found %s word vectors.' % len(embedd_index))"
   ]
  },
  {
   "cell_type": "code",
   "execution_count": 10,
   "id": "eea8319d",
   "metadata": {},
   "outputs": [
    {
     "data": {
      "text/plain": [
       "array([-1.3602e-01, -1.1594e-01, -1.7078e-02, -2.9256e-01,  1.6149e-02,\n",
       "        8.6472e-02,  1.5759e-03,  3.4395e-01,  2.1661e-01, -2.1366e+00,\n",
       "        3.5278e-01, -2.3909e-01, -2.2174e-01,  3.6413e-01, -4.5021e-01,\n",
       "        1.2104e-01, -1.5596e-01, -3.8906e-02, -2.9419e-03,  1.6009e-02,\n",
       "       -1.1620e-01,  3.8680e-01,  3.5109e-01,  9.7426e-02, -1.2425e-02,\n",
       "       -1.7864e-01, -2.3259e-01, -2.6960e-01,  4.1083e-02, -7.6194e-02,\n",
       "       -2.3362e-01,  2.0919e-01, -2.7264e-01,  5.4967e-02, -1.8055e+00,\n",
       "        5.6348e-01, -1.2778e-01,  2.3147e-01, -5.8820e-03, -2.6630e-01,\n",
       "        4.1187e-01, -3.7162e-01, -2.0600e-01, -1.9619e-01, -4.3945e-03,\n",
       "        1.2513e-01,  4.6638e-01,  4.5159e-01, -1.5000e-01,  5.9589e-03,\n",
       "        5.9070e-02, -4.1440e-01,  6.1035e-02, -2.1117e-01, -4.0988e-01,\n",
       "        5.6393e-01,  2.3021e-01,  2.7240e-01,  4.9364e-02,  1.4239e-01,\n",
       "        4.1841e-01, -1.3983e-01,  3.4826e-01, -1.0745e-01, -2.5002e-01,\n",
       "       -3.2554e-01,  3.3343e-01, -3.5617e-01,  2.0442e-01,  1.4439e-01,\n",
       "       -1.2686e-01, -7.7273e-02, -1.9667e-01,  1.0759e-01, -1.1860e-01,\n",
       "       -2.5083e-01,  1.4205e-02,  2.7251e-01, -2.3707e-01, -2.3545e-01,\n",
       "       -1.5887e-01,  1.3151e-01,  6.9564e-01,  2.2766e-01,  1.8526e-01,\n",
       "        1.5743e-01, -1.5018e-01, -1.8177e-01, -3.3527e-02, -3.3092e-01,\n",
       "       -2.5205e-01,  5.0913e-01, -2.5607e-01, -5.3686e-01,  1.3397e-01,\n",
       "        6.7046e-02, -9.4473e-02, -2.2270e-01, -3.1469e-01,  8.5932e-02,\n",
       "       -4.3032e-02, -2.5821e-01, -9.5062e-02, -1.8497e-01,  5.8890e-02,\n",
       "        1.8972e-01, -1.7366e-01,  2.5263e-01, -5.4361e-01, -3.7248e-01,\n",
       "       -4.6661e-02, -4.1657e-01, -1.7549e-03, -4.8404e-01,  4.2090e-01,\n",
       "       -1.2749e-03,  9.4697e-03, -1.3380e-01,  7.2351e-02, -1.2096e-01,\n",
       "       -7.2870e-02, -1.8333e-01,  3.9652e-01,  1.1329e-01, -6.3029e-02,\n",
       "       -1.9702e-03,  4.2848e-01,  3.1790e-01, -1.5079e-01,  2.0405e-01,\n",
       "        2.1828e-01,  2.6067e-02,  4.3621e-02,  3.9224e-03, -2.6629e-01,\n",
       "       -2.8312e-01,  5.0497e-02, -1.8993e-01,  1.8996e-01,  2.9517e-01,\n",
       "       -1.1566e-01,  4.0967e-01,  2.2221e-01, -3.9778e-01, -3.3177e-01,\n",
       "       -1.3884e-01, -1.6829e-01, -2.0355e-01, -2.7687e-01, -1.1087e-01,\n",
       "       -6.7466e-01, -1.8108e-01,  1.8512e-01, -9.4616e-02,  1.7856e-01,\n",
       "       -6.6997e-02,  1.1379e-01, -9.3380e-02,  5.6860e-01, -1.3365e-01,\n",
       "        3.4636e-01, -4.1953e-01,  1.7547e-01, -2.4277e-02, -1.2441e-01,\n",
       "        9.2129e-02, -1.6702e-01, -1.4285e-01,  3.1646e-01,  3.0337e-01,\n",
       "        1.4840e-01, -6.7837e-03, -1.0509e+00,  2.2329e-01,  7.5211e-02,\n",
       "        4.4379e-02, -8.5929e-02, -1.1806e-01, -1.6632e-01, -7.8650e-02,\n",
       "        2.6374e-01, -2.2052e-01,  4.5582e-01, -1.5291e-01,  6.2617e-02,\n",
       "       -1.5588e-01,  8.2398e-02, -6.8462e-02, -2.4569e-01,  2.3439e-01,\n",
       "       -3.8633e-01,  2.4835e-01,  2.5334e-01, -2.1189e-01,  4.1494e-03,\n",
       "       -4.3762e-01, -1.3426e-01, -2.4583e-01,  1.4213e-01, -3.3973e-01,\n",
       "        1.4643e+00,  1.6414e-01,  2.2135e-01,  7.4099e-03, -5.5141e-02,\n",
       "       -2.7403e-02,  3.2928e-02,  1.4289e-01, -1.0049e-01, -2.2066e-01,\n",
       "       -3.0380e-01,  6.0624e-02, -1.2408e-01, -5.4114e-01,  2.4374e-01,\n",
       "        8.0903e-02, -7.8264e-02,  8.0091e-02,  9.8551e-03, -2.3077e-01,\n",
       "        1.6006e-01,  6.4075e-02, -4.1613e-01,  2.0494e-01, -1.8681e-01,\n",
       "        3.5367e-02,  2.1759e-01, -8.7823e-02,  3.5452e-01,  1.9578e-01,\n",
       "       -1.5127e-01, -1.0545e-01,  3.5650e-01, -3.8677e-01, -6.3172e-02,\n",
       "        3.1534e-01, -1.5887e-01, -3.1267e-01, -1.7893e-01,  4.1952e-01,\n",
       "        2.3261e-01,  2.0943e-01,  2.7013e-02,  1.7388e-02, -5.9857e-01,\n",
       "       -1.9622e-01, -2.3672e-01,  3.0032e-01,  4.6926e-02, -8.5768e-02,\n",
       "        3.6539e-01, -5.2476e-01, -1.3618e-01,  1.0868e-01,  4.6307e-01,\n",
       "        3.8502e-01,  7.6317e-04, -3.8196e-01,  7.9772e-02, -4.1744e-02,\n",
       "        4.7625e-02, -4.1018e-02,  1.7601e-01,  2.4893e-01, -1.0753e-01,\n",
       "        3.1935e-01, -1.2762e-01, -3.5059e-01,  3.5689e-04,  9.3515e-03,\n",
       "       -8.8616e-02, -3.2785e-01,  9.2063e-02, -6.1405e-02,  2.9053e-01,\n",
       "        2.2404e-02, -1.6879e+00,  2.6712e-01,  3.3419e-01, -5.2533e-02,\n",
       "       -1.9741e-01,  1.3709e-01, -5.4288e-02,  5.6423e-01,  1.9384e-01,\n",
       "        1.7229e-01,  2.9025e-01, -1.6124e-01,  5.9489e-02, -3.1884e-01,\n",
       "       -2.8343e-01,  6.4321e-02, -4.1589e-01, -7.0528e-02,  1.2410e-02,\n",
       "       -4.0208e-01, -2.4963e-01, -3.3760e-01,  7.0098e-02,  2.4642e-01])"
      ]
     },
     "execution_count": 10,
     "metadata": {},
     "output_type": "execute_result"
    }
   ],
   "source": [
    "embedd_index['good']"
   ]
  },
  {
   "cell_type": "code",
   "execution_count": 11,
   "id": "f25cb63b",
   "metadata": {},
   "outputs": [
    {
     "name": "stdout",
     "output_type": "stream",
     "text": [
      "11113\n"
     ]
    }
   ],
   "source": [
    "index_of_words = tokenizer.word_index\n",
    "print(len(index_of_words))"
   ]
  },
  {
   "cell_type": "code",
   "execution_count": 12,
   "id": "24bdadb7",
   "metadata": {},
   "outputs": [
    {
     "data": {
      "text/plain": [
       "(11114, 300)"
      ]
     },
     "execution_count": 12,
     "metadata": {},
     "output_type": "execute_result"
    }
   ],
   "source": [
    "embedding_matrix = np.zeros((len(index_of_words) + 1, 300))\n",
    "\n",
    "tokens = []\n",
    "labels = []\n",
    "\n",
    "for word,i in index_of_words.items():\n",
    "    temp = embedd_index.get(word)\n",
    "    if temp is not None:\n",
    "        embedding_matrix[i] = temp\n",
    "        \n",
    "embedding_matrix.shape"
   ]
  },
  {
   "cell_type": "code",
   "execution_count": 13,
   "id": "72606feb",
   "metadata": {},
   "outputs": [],
   "source": [
    "embedd_layer = Embedding(len(index_of_words) + 1 , \n",
    "                         300 , \n",
    "                         input_length = 77 , \n",
    "                         weights = [embedding_matrix])"
   ]
  },
  {
   "cell_type": "code",
   "execution_count": 14,
   "id": "5fd1a176",
   "metadata": {},
   "outputs": [
    {
     "name": "stdout",
     "output_type": "stream",
     "text": [
      "Model: \"encoder\"\n",
      "__________________________________________________________________________________________________\n",
      "Layer (type)                    Output Shape         Param #     Connected to                     \n",
      "==================================================================================================\n",
      "input_1 (InputLayer)            [(None, 77)]         0                                            \n",
      "__________________________________________________________________________________________________\n",
      "embedding_1 (Embedding)         (None, 77, 300)      3334200     input_1[0][0]                    \n",
      "__________________________________________________________________________________________________\n",
      "bidirectional (Bidirectional)   (None, 256)          439296      embedding_1[0][0]                \n",
      "__________________________________________________________________________________________________\n",
      "dense (Dense)                   (None, 1)            257         bidirectional[0][0]              \n",
      "__________________________________________________________________________________________________\n",
      "flatten (Flatten)               (None, 1)            0           dense[0][0]                      \n",
      "__________________________________________________________________________________________________\n",
      "activation (Activation)         (None, 1)            0           flatten[0][0]                    \n",
      "__________________________________________________________________________________________________\n",
      "repeat_vector (RepeatVector)    (None, 256, 1)       0           activation[0][0]                 \n",
      "__________________________________________________________________________________________________\n",
      "permute (Permute)               (None, 1, 256)       0           repeat_vector[0][0]              \n",
      "__________________________________________________________________________________________________\n",
      "multiply (Multiply)             (None, 1, 256)       0           bidirectional[0][0]              \n",
      "                                                                 permute[0][0]                    \n",
      "__________________________________________________________________________________________________\n",
      "lambda (Lambda)                 (None, 256)          0           multiply[0][0]                   \n",
      "__________________________________________________________________________________________________\n",
      "dense_1 (Dense)                 (None, 5)            1285        lambda[0][0]                     \n",
      "==================================================================================================\n",
      "Total params: 3,775,038\n",
      "Trainable params: 3,775,038\n",
      "Non-trainable params: 0\n",
      "__________________________________________________________________________________________________\n"
     ]
    }
   ],
   "source": [
    "MAX_LENGTH_PER_SENTENCE=77\n",
    "units = 128\n",
    "encoder_input = keras.Input(shape=(MAX_LENGTH_PER_SENTENCE))\n",
    "x = layers.Embedding(len(index_of_words) + 1 , \n",
    "                     300 , \n",
    "                     input_length = 77 , \n",
    "                     weights = [embedding_matrix])(encoder_input)\n",
    "                              \n",
    "activations = layers.Bidirectional(layers.LSTM(units, dropout=0.3, recurrent_dropout=0.2))(x)\n",
    "\n",
    "attention = layers.Dense(1, activation='tanh')(activations)\n",
    "attention = layers.Flatten()(attention)\n",
    "attention = layers.Activation('softmax')(attention)\n",
    "attention = layers.RepeatVector(units*2)(attention)\n",
    "attention = layers.Permute((2, 1))(attention)\n",
    "\n",
    "sent_representation = layers.Multiply()([activations, attention])\n",
    "sent_representation = layers.Lambda(lambda X: K.sum(X, axis=-2), output_shape=(units*2,))(sent_representation)\n",
    "\n",
    "\n",
    "probabilities = layers.Dense(5, activation='softmax')(sent_representation)\n",
    "\n",
    "\n",
    "encoder = keras.Model(inputs=[encoder_input], outputs=[probabilities],name='encoder')\n",
    "\n",
    "encoder.summary()"
   ]
  },
  {
   "cell_type": "code",
   "execution_count": 15,
   "id": "7f1fba9e",
   "metadata": {},
   "outputs": [],
   "source": [
    "encoder.compile(loss='categorical_crossentropy', optimizer='adam', metrics=['accuracy'])"
   ]
  },
  {
   "cell_type": "code",
   "execution_count": 16,
   "id": "4ca80084",
   "metadata": {},
   "outputs": [],
   "source": [
    "X_train, X_test, y_train, y_test = train_test_split(x_train, y_train, test_size=0.2, random_state=0)"
   ]
  },
  {
   "cell_type": "code",
   "execution_count": 17,
   "id": "90ea6705",
   "metadata": {},
   "outputs": [],
   "source": [
    "#Early stopping the training when accuracy decreases\n",
    "es = keras.callbacks.EarlyStopping(monitor='accuracy', mode='auto', patience=1, verbose=1)"
   ]
  },
  {
   "cell_type": "code",
   "execution_count": 18,
   "id": "af97b68d",
   "metadata": {},
   "outputs": [
    {
     "name": "stdout",
     "output_type": "stream",
     "text": [
      "Epoch 1/1000\n",
      "2705/2705 [==============================] - 917s 338ms/step - loss: 0.6204 - accuracy: 0.7703\n",
      "Epoch 2/1000\n",
      "2705/2705 [==============================] - 911s 337ms/step - loss: 0.5353 - accuracy: 0.8010\n",
      "Epoch 3/1000\n",
      "2705/2705 [==============================] - 934s 345ms/step - loss: 0.5014 - accuracy: 0.8107\n",
      "Epoch 4/1000\n",
      "2705/2705 [==============================] - 923s 341ms/step - loss: 0.4760 - accuracy: 0.8190\n",
      "Epoch 5/1000\n",
      "2705/2705 [==============================] - 923s 341ms/step - loss: 0.4535 - accuracy: 0.8270\n",
      "Epoch 6/1000\n",
      "2705/2705 [==============================] - 922s 341ms/step - loss: 0.4353 - accuracy: 0.8329\n",
      "Epoch 7/1000\n",
      "2705/2705 [==============================] - 924s 341ms/step - loss: 0.4185 - accuracy: 0.8391\n",
      "Epoch 8/1000\n",
      "2705/2705 [==============================] - 928s 343ms/step - loss: 0.4039 - accuracy: 0.8433\n",
      "Epoch 9/1000\n",
      "2705/2705 [==============================] - 942s 348ms/step - loss: 0.3913 - accuracy: 0.8478\n",
      "Epoch 10/1000\n",
      "2705/2705 [==============================] - 936s 346ms/step - loss: 0.3802 - accuracy: 0.8521\n",
      "Epoch 11/1000\n",
      "2705/2705 [==============================] - 933s 345ms/step - loss: 0.3726 - accuracy: 0.8552\n",
      "Epoch 12/1000\n",
      "2705/2705 [==============================] - 935s 346ms/step - loss: 0.3657 - accuracy: 0.8573\n",
      "Epoch 13/1000\n",
      "2705/2705 [==============================] - 950s 351ms/step - loss: 0.3598 - accuracy: 0.8594\n",
      "Epoch 14/1000\n",
      "2705/2705 [==============================] - 955s 353ms/step - loss: 0.3543 - accuracy: 0.8616\n",
      "Epoch 15/1000\n",
      "2705/2705 [==============================] - 957s 354ms/step - loss: 0.3495 - accuracy: 0.8632\n",
      "Epoch 16/1000\n",
      "2705/2705 [==============================] - 930s 344ms/step - loss: 0.3456 - accuracy: 0.8641\n",
      "Epoch 17/1000\n",
      "2705/2705 [==============================] - 936s 346ms/step - loss: 0.3413 - accuracy: 0.8668\n",
      "Epoch 18/1000\n",
      "2705/2705 [==============================] - 939s 347ms/step - loss: 0.3404 - accuracy: 0.8665\n",
      "Epoch 00018: early stopping\n"
     ]
    },
    {
     "data": {
      "text/plain": [
       "<keras.callbacks.History at 0x293b1e9c5b0>"
      ]
     },
     "execution_count": 18,
     "metadata": {},
     "output_type": "execute_result"
    }
   ],
   "source": [
    "encoder.fit(X_train, y_train, epochs=1000, batch_size=32, callbacks=[es], verbose=1)"
   ]
  },
  {
   "cell_type": "code",
   "execution_count": 19,
   "id": "f58e23c2",
   "metadata": {},
   "outputs": [
    {
     "name": "stdout",
     "output_type": "stream",
     "text": [
      "S [0 0 0 0 1]\n",
      "S [0 0 0 0 1]\n",
      "S [0 0 0 0 1]\n",
      "F [0 0 1 0 0]\n",
      "S [0 0 0 0 1]\n"
     ]
    },
    {
     "data": {
      "text/plain": [
       "[None, None, None, None, None]"
      ]
     },
     "execution_count": 19,
     "metadata": {},
     "output_type": "execute_result"
    }
   ],
   "source": [
    "#Test set processing\n",
    "test_set = pd.read_csv('C:\\\\Users\\\\user1\\\\Documents\\\\repo\\\\dialog act RNN\\\\MRDA\\\\test.csv')\n",
    "test_set = test_set.drop(columns=[\"Unnamed: 0\"])\n",
    "test_set['Utterances'] = test_set['Utterances'].apply(lambda x: x.lower())\n",
    "test_set['Utterances'] = test_set['Utterances'].apply(lambda x: re.sub('[^a-zA-z0-9\\s]','',x))\n",
    "\n",
    "tokenizer = Tokenizer(num_words = 5000, split=\" \")\n",
    "tokenizer.fit_on_texts(test_set['Utterances'].values)\n",
    "x_test = tokenizer.texts_to_sequences(test_set['Utterances'].values)\n",
    "x_test = pad_sequences(x_test, padding='post', maxlen=MAX_PADDING)\n",
    "\n",
    "y_test = pd.get_dummies(test_set['Basic']).values\n",
    "[print(test_set['Basic'][i],y_test[i]) for i in range (0,5)]"
   ]
  },
  {
   "cell_type": "code",
   "execution_count": 20,
   "id": "166a05f2",
   "metadata": {},
   "outputs": [
    {
     "name": "stdout",
     "output_type": "stream",
     "text": [
      "522/522 [==============================] - 24s 45ms/step - loss: 2.6529 - accuracy: 0.5181\n"
     ]
    }
   ],
   "source": [
    "score = encoder.evaluate(x_test, y_test)"
   ]
  },
  {
   "cell_type": "code",
   "execution_count": 21,
   "id": "017e0b53",
   "metadata": {},
   "outputs": [
    {
     "name": "stderr",
     "output_type": "stream",
     "text": [
      "C:\\Users\\user1\\AppData\\Local\\Programs\\Python\\Python39\\lib\\site-packages\\keras\\utils\\generic_utils.py:494: CustomMaskWarning: Custom mask layers require a config and must override get_config. When loading, the custom mask layer must be passed to the custom_objects argument.\n",
      "  warnings.warn('Custom mask layers require a config and must override '\n"
     ]
    }
   ],
   "source": [
    "#Saving the model\n",
    "encoder.save('savedModel.h5')"
   ]
  },
  {
   "cell_type": "code",
   "execution_count": 22,
   "id": "67f52a0e",
   "metadata": {},
   "outputs": [
    {
     "name": "stdout",
     "output_type": "stream",
     "text": [
      "[4.158269e-07 2.891204e-01 9.413337e-06 2.976955e-03 7.078928e-01]\n"
     ]
    }
   ],
   "source": [
    "#Loading the saved model\n",
    "model1 = load_model('savedModel')\n",
    "y_pred = model1.predict(x_test)\n",
    "print(y_pred[1])"
   ]
  },
  {
   "cell_type": "code",
   "execution_count": 24,
   "id": "0d22690a",
   "metadata": {},
   "outputs": [
    {
     "data": {
      "text/plain": [
       "array([[52, 36,  0,  0,  0,  0,  0,  0,  0,  0,  0,  0,  0,  0,  0,  0,\n",
       "         0,  0,  0,  0,  0,  0,  0,  0,  0,  0,  0,  0,  0,  0,  0,  0,\n",
       "         0,  0,  0,  0,  0,  0,  0,  0,  0,  0,  0,  0,  0,  0,  0,  0,\n",
       "         0,  0,  0,  0,  0,  0,  0,  0,  0,  0,  0,  0,  0,  0,  0,  0,\n",
       "         0,  0,  0,  0,  0,  0,  0,  0,  0,  0,  0,  0,  0]])"
      ]
     },
     "execution_count": 24,
     "metadata": {},
     "output_type": "execute_result"
    }
   ],
   "source": [
    "x_test[1]=np.array(x_test[1])\n",
    "x_test[1].reshape(1, 77)"
   ]
  },
  {
   "cell_type": "code",
   "execution_count": 25,
   "id": "4d04d3b4",
   "metadata": {},
   "outputs": [],
   "source": [
    "y_pred = np.argmax(y_pred, axis=1)\n",
    "y_test=np.argmax(y_test, axis=1)"
   ]
  },
  {
   "cell_type": "code",
   "execution_count": 26,
   "id": "35a87c07",
   "metadata": {},
   "outputs": [
    {
     "name": "stderr",
     "output_type": "stream",
     "text": [
      "C:\\Users\\user1\\AppData\\Local\\Programs\\Python\\Python39\\lib\\site-packages\\pycm\\pycm_obj.py:951: MatplotlibDeprecationWarning: \n",
      "The set_window_title function was deprecated in Matplotlib 3.4 and will be removed two minor releases later. Use manager.set_window_title or GUI-specific methods instead.\n",
      "  fig.canvas.set_window_title(title)\n"
     ]
    },
    {
     "data": {
      "text/plain": [
       "<AxesSubplot:title={'center':'Confusion Matrix'}, xlabel='Predicted Classes', ylabel='Actual Classes'>"
      ]
     },
     "execution_count": 26,
     "metadata": {},
     "output_type": "execute_result"
    },
    {
     "data": {
      "image/png": "[encoded data removed]",
      "text/plain": [
       "<Figure size 432x288 with 2 Axes>"
      ]
     },
     "metadata": {
      "needs_background": "light"
     },
     "output_type": "display_data"
    }
   ],
   "source": [
    "from pycm import *\n",
    "cm = ConfusionMatrix(y_test, y_pred,digit=5)\n",
    "cm.relabel(mapping={0:\"B\",1:\"D\",2:\"F\",3:\"Q\",4:\"S\"})\n",
    "cm.plot(plot_lib = \"seaborn\",number_label=True)"
   ]
  },
  {
   "cell_type": "code",
   "execution_count": 27,
   "id": "a76a1640",
   "metadata": {},
   "outputs": [
    {
     "name": "stderr",
     "output_type": "stream",
     "text": [
      "C:\\Users\\user1\\AppData\\Local\\Programs\\Python\\Python39\\lib\\site-packages\\pycm\\pycm_obj.py:951: MatplotlibDeprecationWarning: \n",
      "The set_window_title function was deprecated in Matplotlib 3.4 and will be removed two minor releases later. Use manager.set_window_title or GUI-specific methods instead.\n",
      "  fig.canvas.set_window_title(title)\n"
     ]
    },
    {
     "data": {
      "text/plain": [
       "<AxesSubplot:title={'center':'Confusion Matrix'}, xlabel='Predicted Classes', ylabel='Actual Classes'>"
      ]
     },
     "execution_count": 27,
     "metadata": {},
     "output_type": "execute_result"
    },
    {
     "data": {
      "image/png": "[encoded data removed]",
      "text/plain": [
       "<Figure size 432x288 with 2 Axes>"
      ]
     },
     "metadata": {
      "needs_background": "light"
     },
     "output_type": "display_data"
    },
    {
     "data": {
      "image/png": "[encoded data removed]",
      "text/plain": [
       "<Figure size 432x288 with 2 Axes>"
      ]
     },
     "metadata": {
      "needs_background": "light"
     },
     "output_type": "display_data"
    },
    {
     "data": {
      "image/png": "[encoded data removed]",
      "text/plain": [
       "<Figure size 432x288 with 2 Axes>"
      ]
     },
     "metadata": {
      "needs_background": "light"
     },
     "output_type": "display_data"
    },
    {
     "data": {
      "image/png": "[encoded data removed]",
      "text/plain": [
       "<Figure size 432x288 with 2 Axes>"
      ]
     },
     "metadata": {
      "needs_background": "light"
     },
     "output_type": "display_data"
    },
    {
     "data": {
      "image/png": "[encoded data removed]",
      "text/plain": [
       "<Figure size 432x288 with 2 Axes>"
      ]
     },
     "metadata": {
      "needs_background": "light"
     },
     "output_type": "display_data"
    }
   ],
   "source": [
    "cm.plot(cmap=plt.cm.Blues, number_label=True, one_vs_all=True, class_name=\"B\")\n",
    "cm.plot(cmap=plt.cm.Blues, number_label=True, one_vs_all=True, class_name=\"D\")\n",
    "cm.plot(cmap=plt.cm.Blues, number_label=True, one_vs_all=True, class_name=\"F\")\n",
    "cm.plot(cmap=plt.cm.Blues, number_label=True, one_vs_all=True, class_name=\"Q\")\n",
    "cm.plot(cmap=plt.cm.Blues, number_label=True, one_vs_all=True, class_name=\"S\")"
   ]
  },
  {
   "cell_type": "code",
   "execution_count": 28,
   "id": "8d5217f7",
   "metadata": {},
   "outputs": [
    {
     "data": {
      "text/plain": [
       "array(['Q'], dtype='<U1')"
      ]
     },
     "execution_count": 28,
     "metadata": {},
     "output_type": "execute_result"
    }
   ],
   "source": [
    "DA = np.array(['B','D','F','Q','S'])\n",
    "a = [\"will you go\"]\n",
    "a = tokenizer.texts_to_sequences(a)\n",
    "a = np.array(a)\n",
    "a = pad_sequences(a, padding='post', maxlen=MAX_PADDING)\n",
    "prediction = model1.predict(np.array(a))\n",
    "DA[prediction.argmax(1)]"
   ]
  },
  {
   "cell_type": "code",
   "execution_count": null,
   "id": "ee3dfc6b",
   "metadata": {},
   "outputs": [],
   "source": []
  }
 ],
 "metadata": {
  "kernelspec": {
   "display_name": "Python 3 (ipykernel)",
   "language": "python",
   "name": "python3"
  },
  "language_info": {
   "codemirror_mode": {
    "name": "ipython",
    "version": 3
   },
   "file_extension": ".py",
   "mimetype": "text/x-python",
   "name": "python",
   "nbconvert_exporter": "python",
   "pygments_lexer": "ipython3",
   "version": "3.9.6"
  }
 },
 "nbformat": 4,
 "nbformat_minor": 5
}
