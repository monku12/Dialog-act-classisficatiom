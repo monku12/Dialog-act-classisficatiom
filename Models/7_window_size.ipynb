{
 "cells": [
  {
   "cell_type": "markdown",
   "id": "3274999f",
   "metadata": {},
   "source": [
    "<h1>Sentiment analysis aided DAC</h1>"
   ]
  },
  {
   "cell_type": "code",
   "execution_count": 1,
   "id": "2df42476",
   "metadata": {},
   "outputs": [],
   "source": [
    "#Libraries\n",
    "import re\n",
    "import numpy as np\n",
    "import pandas as pd\n",
    "from matplotlib.pyplot import *\n",
    "import keras\n",
    "from keras.models import load_model\n",
    "from keras.layers import *\n",
    "from keras.preprocessing.text import Tokenizer \n",
    "from keras.preprocessing.sequence import pad_sequences\n",
    "from keras.layers import *\n",
    "from keras import backend as K\n",
    "from keras import layers\n",
    "\n",
    "import os\n",
    "os.environ[\"CUDA_VISIBLE_DEVICES\"]=\"-1\""
   ]
  },
  {
   "cell_type": "code",
   "execution_count": 2,
   "id": "bb10ec9f",
   "metadata": {},
   "outputs": [],
   "source": [
    "df = pd.read_csv(\"test_SA.csv\")\n",
    "def processed_data(data):\n",
    "    data=data.drop(columns=[\"Unnamed: 0\"])\n",
    "    data['Utterances'] = data['Utterances'].apply(lambda x: x.lower())\n",
    "    data['Utterances'] = data['Utterances'].apply(lambda x: re.sub('[^a-zA-z0-9\\s]','',x))\n",
    "\n",
    "    y = pd.get_dummies(data['Basic']).values\n",
    "\n",
    "    return data,y"
   ]
  },
  {
   "cell_type": "code",
   "execution_count": 3,
   "id": "dddc58ac",
   "metadata": {},
   "outputs": [],
   "source": [
    "full_data = pd.read_csv('full_SA.csv')\n",
    "MAX_PADDING = 99\n",
    "def x_value(data):\n",
    "    tokenizer = Tokenizer(num_words = 16000, split=\" \")\n",
    "    tokenizer.fit_on_texts(full_data['Utterances'].values)\n",
    "    x = tokenizer.texts_to_sequences(data['Utterances'].values)\n",
    "    x = pad_sequences(x, padding='post', maxlen=MAX_PADDING)\n",
    "\n",
    "    return x"
   ]
  },
  {
   "cell_type": "code",
   "execution_count": 4,
   "id": "2a660c50",
   "metadata": {},
   "outputs": [],
   "source": [
    "train_data = pd.read_csv('train_SA.csv')\n",
    "train_data,y_train = processed_data(train_data)\n",
    "x_train = x_value(train_data)\n",
    "train_sen = np.array(train_data['SA'])\n",
    "train_sen = train_sen.reshape(75066, 1)\n",
    "x_train = np.concatenate((x_train, train_sen), axis=1)\n",
    "\n",
    "\n",
    "\n",
    "val_data = pd.read_csv('val_SA.csv')\n",
    "val_data,y_val = processed_data(val_data)\n",
    "x_val = x_value(val_data)\n",
    "val_sen = np.array(val_data['SA'])\n",
    "val_sen = val_sen.reshape(16432, 1)\n",
    "x_val = np.concatenate((x_val, val_sen), axis=1)\n",
    "\n",
    "test_data = pd.read_csv('test_SA.csv')\n",
    "test_data,y_test = processed_data(test_data)\n",
    "x_test = x_value(test_data)\n",
    "test_sen = np.array(test_data['SA'])\n",
    "test_sen = test_sen.reshape(16701, 1)\n",
    "x_test = np.concatenate((x_test, test_sen), axis=1)"
   ]
  },
  {
   "cell_type": "code",
   "execution_count": 5,
   "id": "3a21c57d",
   "metadata": {},
   "outputs": [],
   "source": [
    "MAX_LENGTH_PER_SENTENCE=100\n",
    "units = 128\n",
    "drop = 0.2\n",
    "encoder_input = keras.Input(shape=(MAX_LENGTH_PER_SENTENCE))"
   ]
  },
  {
   "cell_type": "code",
   "execution_count": 6,
   "id": "c11d782e",
   "metadata": {},
   "outputs": [],
   "source": [
    "def module(encoder_input):\n",
    "    x =layers.Embedding(input_dim=16000, \n",
    "                        output_dim=256, \n",
    "                        input_length=x_train.shape[1])(encoder_input)\n",
    "                                \n",
    "    activations = Bidirectional(LSTM(units, \n",
    "                                    dropout=0.3, \n",
    "                                    recurrent_dropout=0.2,\n",
    "                                    return_sequences=True))(x)\n",
    "\n",
    "    attention = Dense(1, activation='tanh')(activations)\n",
    "    attention = Flatten()(attention)\n",
    "    attention = Activation('softmax')(attention)\n",
    "    attention = RepeatVector(units*2)(attention)\n",
    "    attention = Permute((2, 1))(attention)\n",
    "\n",
    "    sent_representation = Multiply()([activations, attention])\n",
    "    sent_representation = Lambda(lambda xin: K.sum(xin, axis=-2), \n",
    "                                output_shape=(units*2,))(sent_representation)\n",
    "\n",
    "    reshape = Reshape((-1, 1, 256))(sent_representation)\n",
    "    flat = TimeDistributed(Flatten())(reshape)\n",
    "    dense_1 = Dense(5, activation='relu')(flat)\n",
    "    dropout_1 = Dropout(drop)(dense_1)\n",
    "\n",
    "\n",
    "    #conversation level\n",
    "    biLSTM1 = Bidirectional(LSTM(5, return_sequences='true'))(dropout_1)\n",
    "    biLSTM2 = Bidirectional(LSTM(5))(biLSTM1)\n",
    "\n",
    "    dense_2 = Dense(5, activation='relu')(biLSTM2)\n",
    "    dropout_2 = Dropout(drop)(dense_2)\n",
    "\n",
    "\n",
    "    dropout_flat = Flatten()(dropout_1)\n",
    "    merged_2 = concatenate([dropout_flat, dropout_2])\n",
    "    dense_3 = Dense(units=5, input_shape=(1,))(merged_2)\n",
    "    output = Activation('softmax')(dense_3)\n",
    "\n",
    "    return output"
   ]
  },
  {
   "cell_type": "code",
   "execution_count": 7,
   "id": "4c5c623a",
   "metadata": {},
   "outputs": [],
   "source": [
    "early_stopping = keras.callbacks.EarlyStopping(monitor='accuracy', \n",
    "                                               mode='auto', \n",
    "                                               patience=1, \n",
    "                                               verbose=1)"
   ]
  },
  {
   "cell_type": "code",
   "execution_count": 8,
   "id": "21da414e",
   "metadata": {},
   "outputs": [],
   "source": [
    "model = keras.Model(inputs=[encoder_input], outputs=[module(encoder_input)])"
   ]
  },
  {
   "cell_type": "code",
   "execution_count": 9,
   "id": "38814bf8",
   "metadata": {},
   "outputs": [],
   "source": [
    "model.compile(loss='categorical_crossentropy',\n",
    "              optimizer='adam',\n",
    "              metrics=['accuracy'])"
   ]
  },
  {
   "cell_type": "code",
   "execution_count": 10,
   "id": "cf695b08",
   "metadata": {},
   "outputs": [],
   "source": [
    "model.compile(loss='categorical_crossentropy',\n",
    "              optimizer='adam',\n",
    "              metrics=['accuracy'])"
   ]
  },
  {
   "cell_type": "code",
   "execution_count": 11,
   "id": "6d23bfc6",
   "metadata": {},
   "outputs": [
    {
     "name": "stdout",
     "output_type": "stream",
     "text": [
      "Epoch 1/100\n",
      "2346/2346 [==============================] - 1220s 517ms/step - loss: 0.9804 - accuracy: 0.6480 - val_loss: 0.8282 - val_accuracy: 0.6667\n",
      "Epoch 2/100\n",
      "2346/2346 [==============================] - 1236s 527ms/step - loss: 0.7361 - accuracy: 0.7463 - val_loss: 0.6899 - val_accuracy: 0.7629\n",
      "Epoch 3/100\n",
      "2346/2346 [==============================] - 1235s 526ms/step - loss: 0.6318 - accuracy: 0.7797 - val_loss: 0.6394 - val_accuracy: 0.7746\n",
      "Epoch 4/100\n",
      "2346/2346 [==============================] - 1238s 528ms/step - loss: 0.5858 - accuracy: 0.7952 - val_loss: 0.6441 - val_accuracy: 0.7757\n",
      "Epoch 5/100\n",
      "2346/2346 [==============================] - 1252s 534ms/step - loss: 0.5566 - accuracy: 0.8059 - val_loss: 0.6289 - val_accuracy: 0.7774\n",
      "Epoch 6/100\n",
      "2346/2346 [==============================] - 1244s 530ms/step - loss: 0.5371 - accuracy: 0.8129 - val_loss: 0.6465 - val_accuracy: 0.7790\n",
      "Epoch 7/100\n",
      "2346/2346 [==============================] - 1243s 530ms/step - loss: 0.5164 - accuracy: 0.8169 - val_loss: 0.6627 - val_accuracy: 0.7767\n",
      "Epoch 8/100\n",
      "2346/2346 [==============================] - 1238s 528ms/step - loss: 0.5017 - accuracy: 0.8229 - val_loss: 0.6646 - val_accuracy: 0.7548\n",
      "Epoch 9/100\n",
      "2346/2346 [==============================] - 1248s 532ms/step - loss: 0.4883 - accuracy: 0.8255 - val_loss: 0.6719 - val_accuracy: 0.7742\n",
      "Epoch 10/100\n",
      "2346/2346 [==============================] - 1255s 535ms/step - loss: 0.4812 - accuracy: 0.8266 - val_loss: 0.6802 - val_accuracy: 0.7745\n",
      "Epoch 11/100\n",
      "2346/2346 [==============================] - 1274s 543ms/step - loss: 0.4701 - accuracy: 0.8305 - val_loss: 0.6879 - val_accuracy: 0.7757\n",
      "Epoch 12/100\n",
      "2346/2346 [==============================] - 1263s 538ms/step - loss: 0.4608 - accuracy: 0.8348 - val_loss: 0.6851 - val_accuracy: 0.7740\n",
      "Epoch 13/100\n",
      "2346/2346 [==============================] - 1287s 549ms/step - loss: 0.4538 - accuracy: 0.8364 - val_loss: 0.7066 - val_accuracy: 0.7715\n",
      "Epoch 14/100\n",
      "2346/2346 [==============================] - 1269s 541ms/step - loss: 0.4452 - accuracy: 0.8380 - val_loss: 0.7538 - val_accuracy: 0.7675\n",
      "Epoch 15/100\n",
      "2346/2346 [==============================] - 1310s 558ms/step - loss: 0.4415 - accuracy: 0.8391 - val_loss: 0.7463 - val_accuracy: 0.7713\n",
      "Epoch 16/100\n",
      "2346/2346 [==============================] - 1303s 555ms/step - loss: 0.4326 - accuracy: 0.8434 - val_loss: 0.7521 - val_accuracy: 0.7720\n",
      "Epoch 17/100\n",
      "2346/2346 [==============================] - 1301s 555ms/step - loss: 0.4272 - accuracy: 0.8461 - val_loss: 0.7695 - val_accuracy: 0.7680\n",
      "Epoch 18/100\n",
      "2346/2346 [==============================] - 1296s 552ms/step - loss: 0.4205 - accuracy: 0.8478 - val_loss: 0.7851 - val_accuracy: 0.7709\n",
      "Epoch 19/100\n",
      "2346/2346 [==============================] - 1300s 554ms/step - loss: 0.4189 - accuracy: 0.8492 - val_loss: 0.7800 - val_accuracy: 0.7707\n",
      "Epoch 20/100\n",
      "2346/2346 [==============================] - 1307s 557ms/step - loss: 0.4166 - accuracy: 0.8495 - val_loss: 0.7897 - val_accuracy: 0.7718\n",
      "Epoch 21/100\n",
      "2346/2346 [==============================] - 1313s 560ms/step - loss: 0.4128 - accuracy: 0.8510 - val_loss: 0.7691 - val_accuracy: 0.7715\n",
      "Epoch 22/100\n",
      "2346/2346 [==============================] - 1309s 558ms/step - loss: 0.4098 - accuracy: 0.8512 - val_loss: 0.7963 - val_accuracy: 0.7731\n",
      "Epoch 23/100\n",
      "2346/2346 [==============================] - 1313s 560ms/step - loss: 0.4073 - accuracy: 0.8530 - val_loss: 0.8307 - val_accuracy: 0.7640\n",
      "Epoch 24/100\n",
      "2346/2346 [==============================] - 1307s 557ms/step - loss: 0.3993 - accuracy: 0.8552 - val_loss: 0.8456 - val_accuracy: 0.7717\n",
      "Epoch 25/100\n",
      "2346/2346 [==============================] - 1323s 564ms/step - loss: 0.4017 - accuracy: 0.8531 - val_loss: 0.8249 - val_accuracy: 0.7451\n",
      "Epoch 00025: early stopping\n"
     ]
    },
    {
     "data": {
      "text/plain": [
       "<keras.callbacks.History at 0x22d0526e400>"
      ]
     },
     "execution_count": 11,
     "metadata": {},
     "output_type": "execute_result"
    }
   ],
   "source": [
    "model.fit(x_train, y_train, \n",
    "          epochs=100, \n",
    "          batch_size=32, \n",
    "          verbose=1,\n",
    "          callbacks = early_stopping,\n",
    "          validation_data=(x_val, y_val))"
   ]
  },
  {
   "cell_type": "code",
   "execution_count": 12,
   "id": "683f7938",
   "metadata": {},
   "outputs": [
    {
     "name": "stderr",
     "output_type": "stream",
     "text": [
      "C:\\Users\\user1\\AppData\\Local\\Programs\\Python\\Python39\\lib\\site-packages\\keras\\utils\\generic_utils.py:494: CustomMaskWarning: Custom mask layers require a config and must override get_config. When loading, the custom mask layer must be passed to the custom_objects argument.\n",
      "  warnings.warn('Custom mask layers require a config and must override '\n"
     ]
    }
   ],
   "source": [
    "model.save('SAVED_MODEL.h5')"
   ]
  },
  {
   "cell_type": "code",
   "execution_count": 13,
   "id": "53617e82",
   "metadata": {},
   "outputs": [],
   "source": [
    "saved_model = load_model('SAVED_MODEL.h5')"
   ]
  },
  {
   "cell_type": "code",
   "execution_count": 14,
   "id": "8e302312",
   "metadata": {},
   "outputs": [
    {
     "name": "stdout",
     "output_type": "stream",
     "text": [
      "522/522 [==============================] - 43s 80ms/step - loss: 0.7965 - accuracy: 0.7581\n"
     ]
    },
    {
     "data": {
      "text/plain": [
       "[0.7965343594551086, 0.758098304271698]"
      ]
     },
     "execution_count": 14,
     "metadata": {},
     "output_type": "execute_result"
    }
   ],
   "source": [
    "saved_model.evaluate(x_test,y_test)"
   ]
  },
  {
   "cell_type": "code",
   "execution_count": 15,
   "id": "a6cfc625",
   "metadata": {},
   "outputs": [],
   "source": [
    "y_pred = saved_model.predict(x_test)"
   ]
  },
  {
   "cell_type": "code",
   "execution_count": 16,
   "id": "06446af5",
   "metadata": {},
   "outputs": [],
   "source": [
    "y_pred = np.argmax(y_pred, axis=1)\n",
    "y_test = np.argmax(y_test, axis=1)"
   ]
  },
  {
   "cell_type": "code",
   "execution_count": 17,
   "id": "79b9584b",
   "metadata": {},
   "outputs": [
    {
     "name": "stdout",
     "output_type": "stream",
     "text": [
      "Confusion Matrix\n",
      "\n",
      "[[ 879    1   23    0 1249]\n",
      " [  35 1392  164   76  672]\n",
      " [  33   51 1107    1  216]\n",
      " [  26   95    0  466  644]\n",
      " [  79  405   30  240 8817]]\n"
     ]
    }
   ],
   "source": [
    "from sklearn.metrics import confusion_matrix\n",
    "confusion = confusion_matrix(y_test, y_pred)\n",
    "print('Confusion Matrix\\n')\n",
    "print(confusion)"
   ]
  },
  {
   "cell_type": "code",
   "execution_count": 18,
   "id": "6734c2d1",
   "metadata": {},
   "outputs": [],
   "source": [
    "import matplotlib.pyplot as plt\n",
    "import seaborn as sns"
   ]
  },
  {
   "cell_type": "code",
   "execution_count": 19,
   "id": "3b571065",
   "metadata": {},
   "outputs": [
    {
     "data": {
      "image/png": "[encoded data removed]",
      "text/plain": [
       "<Figure size 432x288 with 2 Axes>"
      ]
     },
     "metadata": {
      "needs_background": "light"
     },
     "output_type": "display_data"
    },
    {
     "name": "stdout",
     "output_type": "stream",
     "text": [
      "F1 score(macro) 0.6609734673939238\n",
      "F1 score(micro) 0.75809831746602\n"
     ]
    }
   ],
   "source": [
    "ax = sns.heatmap(confusion, annot=True, cmap='Blues')\n",
    "\n",
    "ax.set_title('Confusion Matrix\\n\\n')\n",
    "ax.set_xlabel('\\nPredicted Values')\n",
    "ax.set_ylabel('Actual Values ')\n",
    "\n",
    "ax.xaxis.set_ticklabels(['B','D','F','Q','S'])\n",
    "ax.yaxis.set_ticklabels(['B','D','F','Q','S'])\n",
    "\n",
    "## Display the visualization of the Confusion Matrix.\n",
    "plt.show()\n",
    "\n",
    "from sklearn.metrics import f1_score\n",
    "print(\"F1 score(macro)\",f1_score(y_test, y_pred, average='macro'))\n",
    "print(\"F1 score(micro)\",f1_score(y_test, y_pred, average='micro'))"
   ]
  }
 ],
 "metadata": {
  "kernelspec": {
   "display_name": "Python 3 (ipykernel)",
   "language": "python",
   "name": "python3"
  },
  "language_info": {
   "codemirror_mode": {
    "name": "ipython",
    "version": 3
   },
   "file_extension": ".py",
   "mimetype": "text/x-python",
   "name": "python",
   "nbconvert_exporter": "python",
   "pygments_lexer": "ipython3",
   "version": "3.9.6"
  }
 },
 "nbformat": 4,
 "nbformat_minor": 5
}
